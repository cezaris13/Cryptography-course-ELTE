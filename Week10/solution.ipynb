{
 "cells": [
  {
   "cell_type": "markdown",
   "metadata": {},
   "source": [
    "Create a file called message.txt with some content of your choice. Then, write a python code in cocalc that implement the following scenario:\n",
    "\n",
    "Prior to the following function, you need to prepare the parameters to be used for RSA encryption by the sender. These include the public and private exponents, and the integer n.\n",
    "\n",
    " \n",
    "\n",
    "1) Create a sender function the does the following:\n",
    "\n",
    "Read the content of the file message.txt.\n",
    "Hash the content using SHA1 hash function.\n",
    "Encrypt the hash of the message.txt using RSA encryption algorithm with the private key of the sender.\n",
    "The output of this function will be both the encrypted hash value of the message using RSA, and the plaintext (original content of message.txt file).\n",
    "Note here that in this scenario only message integrity is required, and no confidentiality will be provided. This is why the message is sent in plain.\n",
    " \n",
    "\n",
    "2) Create a receiver function the does the following:\n",
    "\n",
    "The input is the public key of the sender, the encrypted hash value, and the plaintext.\n",
    "Decrypt the received hash value using the public key of the sender.\n",
    "Calculate the hash value of the received plaintext.\n",
    "Compare the hash value of the received plaintext with the hash value of the decrypted received hash.\n",
    " \n",
    "\n",
    "3) perform a test that include two cases:\n",
    "\n",
    "in first case, the message in not altered, which means that the receiver after checking will accept the received message.\n",
    "In second case, the message will be modified and then fed to the receiver function. In this case, the modification will be spotted and the received message will be rejected by the receiver.\n"
   ]
  },
  {
   "attachments": {},
   "cell_type": "markdown",
   "metadata": {},
   "source": [
    "Some of the functions that were coded in the practice lecture and might be useful for this assignment."
   ]
  },
  {
   "cell_type": "code",
   "execution_count": 15,
   "metadata": {},
   "outputs": [],
   "source": [
    "from sympy import randprime\n",
    "from math import gcd\n",
    "\n",
    "def egcd(a,b):\n",
    "    if a == 0:\n",
    "        return (b, 0, 1)\n",
    "    else:\n",
    "        g, x, y = egcd(b % a, a)\n",
    "        return (g, y - (b // a) * x, x)\n",
    "\n",
    "def modinv(b, m):\n",
    "    g, x, _ = egcd(b, m)\n",
    "    if g == 1:\n",
    "        return x % m"
   ]
  },
  {
   "cell_type": "code",
   "execution_count": 16,
   "metadata": {},
   "outputs": [],
   "source": [
    "def generatePrimes(key_size):\n",
    "    prime_1 = 0\n",
    "    prime_2 = 0\n",
    "    while prime_1 == prime_2 or(prime_1 *prime_2) > 2**key_size:\n",
    "        prime_1 = randprime(3, 2**key_size/2)\n",
    "        prime_2 = randprime(3, 2**key_size/2)\n",
    "    return prime_1, prime_2"
   ]
  },
  {
   "cell_type": "code",
   "execution_count": 17,
   "metadata": {},
   "outputs": [],
   "source": [
    "def generate_public_Exponents(totient):\n",
    "    public_exponent = 0\n",
    "    for e in range(3,totient-1):\n",
    "        if gcd(e,totient) == 1:\n",
    "            public_exponent = e\n",
    "            break\n",
    "    return public_exponent"
   ]
  },
  {
   "cell_type": "code",
   "execution_count": 18,
   "metadata": {},
   "outputs": [],
   "source": [
    "def generateTotient(prime_1, prime_2):\n",
    "    return (prime_1 - 1) * (prime_2 - 1)"
   ]
  },
  {
   "cell_type": "code",
   "execution_count": 19,
   "metadata": {},
   "outputs": [],
   "source": [
    "def rsa_encrypt(plain_text,rsa_modulus, public_exponent):\n",
    "    cipher = ''.join(chr((ord(ch)**public_exponent)%rsa_modulus) for ch in plain_text)\n",
    "    return cipher.encode().hex()"
   ]
  },
  {
   "cell_type": "code",
   "execution_count": 20,
   "metadata": {},
   "outputs": [],
   "source": [
    "def rsa_decrypt(cipher_text, rsa_modulus, private_exponent):\n",
    "    return ''.join(chr((ord(ch)**private_exponent)%rsa_modulus)\n",
    "                   for ch in bytearray.fromhex(cipher_text).decode())"
   ]
  },
  {
   "cell_type": "code",
   "execution_count": 21,
   "metadata": {},
   "outputs": [],
   "source": [
    "from hashlib import sha1\n",
    "\n",
    "def hashFileContentWithSha1(fileContent):\n",
    "    return sha1(fileContent.encode()).hexdigest()"
   ]
  },
  {
   "cell_type": "code",
   "execution_count": 22,
   "metadata": {},
   "outputs": [],
   "source": [
    "def readFileContent(fileName):\n",
    "    with open(fileName, 'r') as file:\n",
    "        return file.read()"
   ]
  },
  {
   "attachments": {},
   "cell_type": "markdown",
   "metadata": {},
   "source": [
    "Part 1 - Sender. Sender takes fileContent hashes it, encrypts it with private key and returns encrypted hash and fileContent."
   ]
  },
  {
   "cell_type": "code",
   "execution_count": 23,
   "metadata": {},
   "outputs": [],
   "source": [
    "def senderRsa(fileName, privateKey):\n",
    "    (rsa_modulus, private_exponent) = privateKey\n",
    "    fileContent = readFileContent(fileName)\n",
    "    hashFileContent = hashFileContentWithSha1(fileContent)\n",
    "    encryptedHash = rsa_encrypt(hashFileContent, rsa_modulus, private_exponent)\n",
    "    return (fileContent, encryptedHash)"
   ]
  },
  {
   "attachments": {},
   "cell_type": "markdown",
   "metadata": {},
   "source": [
    "Part 2 - Receiver. Receiver takes public key, encrypted hash and fileContent. It decrypts the encrypted hash with public key, hashes the fileContent and compares the two hashes. If they are equal, it returns prints \"Hashes are equal\", otherwise \"Hashes are not equal\"."
   ]
  },
  {
   "cell_type": "code",
   "execution_count": 24,
   "metadata": {},
   "outputs": [],
   "source": [
    "def receiverRsa(fileContent, encryptedHash, publicKey):\n",
    "    (rsa_modulus, public_exponent) = publicKey\n",
    "    hashedFileContent = hashFileContentWithSha1(fileContent)\n",
    "    decryptedHash = rsa_decrypt(encryptedHash, rsa_modulus, public_exponent)\n",
    "    if hashedFileContent != decryptedHash:\n",
    "        print(\"Hashes are not equal\")\n",
    "    else:\n",
    "        print(\"Hashes are equal\")"
   ]
  },
  {
   "attachments": {},
   "cell_type": "markdown",
   "metadata": {},
   "source": [
    " Public and private keys generation for a given key size."
   ]
  },
  {
   "cell_type": "code",
   "execution_count": 25,
   "metadata": {},
   "outputs": [],
   "source": [
    "def generateKeys(key_size):\n",
    "    prime_1,prime_2 = generatePrimes(key_size)\n",
    "    totient = generateTotient(prime_1, prime_2)\n",
    "    public_exponent = generate_public_Exponents(totient)\n",
    "    private_exponent = modinv(public_exponent, totient)\n",
    "    rsa_modulus = prime_1 * prime_2 # integer n from the slides\n",
    "    public_key = (rsa_modulus, public_exponent)\n",
    "    private_key = (rsa_modulus, private_exponent)\n",
    "    return (public_key, private_key)\n",
    "\n",
    "key_size = 10\n",
    "public_key, private_key = generateKeys(key_size)"
   ]
  },
  {
   "cell_type": "code",
   "execution_count": 26,
   "metadata": {},
   "outputs": [
    {
     "name": "stdout",
     "output_type": "stream",
     "text": [
      "File content:  hello world from Budapest\n",
      "\n",
      "Encrypted hash:  c298c899c788c982c395c395c68cc982c48dc48dc68c622a62c391c899c68cc899c391c998c68cc298c998362ac9b9c298c298c48d2ac391c298c9b9c3abc8992ac998c3abc998c391\n"
     ]
    }
   ],
   "source": [
    "# part 1\n",
    "(fileContent, encrypterHash) = senderRsa('message.txt', private_key)\n",
    "print(\"File content: \", fileContent)\n",
    "print(\"Encrypted hash: \", encrypterHash)"
   ]
  },
  {
   "cell_type": "code",
   "execution_count": 27,
   "metadata": {},
   "outputs": [
    {
     "name": "stdout",
     "output_type": "stream",
     "text": [
      "Hashes are equal\n"
     ]
    }
   ],
   "source": [
    "# part 2\n",
    "receiverRsa(fileContent, encrypterHash, public_key)"
   ]
  },
  {
   "attachments": {},
   "cell_type": "markdown",
   "metadata": {},
   "source": [
    "In the part 3 of the assignment, you have to alter the message and check if the receiver will see that hashes changed or not. "
   ]
  },
  {
   "cell_type": "code",
   "execution_count": 28,
   "metadata": {},
   "outputs": [
    {
     "name": "stdout",
     "output_type": "stream",
     "text": [
      "Hashes are equal\n",
      "Altered file content:  hello world from budapest\n",
      "\n",
      "Hashes are not equal\n"
     ]
    }
   ],
   "source": [
    "# part 3\n",
    "# not altered message\n",
    "receiverRsa(fileContent, encrypterHash, public_key)\n",
    "\n",
    "# altered message\n",
    "fileContent = fileContent.replace('B', 'b')\n",
    "print(\"Altered file content: \", fileContent)\n",
    "receiverRsa(fileContent, encrypterHash, public_key)"
   ]
  }
 ],
 "metadata": {
  "kernelspec": {
   "display_name": "Python 3",
   "language": "python",
   "name": "python3"
  },
  "language_info": {
   "codemirror_mode": {
    "name": "ipython",
    "version": 3
   },
   "file_extension": ".py",
   "mimetype": "text/x-python",
   "name": "python",
   "nbconvert_exporter": "python",
   "pygments_lexer": "ipython3",
   "version": "3.12.4"
  },
  "orig_nbformat": 4
 },
 "nbformat": 4,
 "nbformat_minor": 2
}

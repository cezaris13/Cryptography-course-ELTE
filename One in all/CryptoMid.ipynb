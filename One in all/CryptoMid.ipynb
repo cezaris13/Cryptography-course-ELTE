{
 "cells": [
  {
   "cell_type": "code",
   "execution_count": 1,
   "metadata": {},
   "outputs": [],
   "source": [
    "alphabeth = 'abcdefghijklmnopqrstuvwxyz, '\n",
    "# the alphabet can be changed to more detailed one(for example with capital letters, numbers, special characters etc.)"
   ]
  },
  {
   "cell_type": "markdown",
   "metadata": {},
   "source": [
    "One of the main steps in Ceasar cypher is to move each letter by a fixed number of places in the alphabeth using the key.\n",
    "\n",
    "This `moveLetter` function is used to move one letter by a fixed number of places(key) in the alphabeth.\n",
    "\n",
    "Key can be negative, meaning that the letter will be moved to the left in the alphabeth instead of to the right.\n"
   ]
  },
  {
   "cell_type": "code",
   "execution_count": 2,
   "metadata": {},
   "outputs": [],
   "source": [
    "def moveLetter(letter,key):\n",
    "    # find the index of the given letter in the alphabeth defined above\n",
    "    letterIndex = alphabeth.find(letter)\n",
    "    # find the index of the new letter by adding the key to the index. The new index can go out of range of the alphabeth(e.g. 27, -10)\n",
    "    # so we use the modulo operator to get the proper index.\n",
    "    newLetterIndex = (letterIndex+key) % len(alphabeth) \n",
    "    return alphabeth[newLetterIndex]"
   ]
  },
  {
   "cell_type": "markdown",
   "metadata": {},
   "source": [
    "The `encryptMessage` function takes message and the key, then using `for` loop it iterates over each letter in the message and calls `moveLetter` function to move the letter by the key.\n",
    "\n",
    "The results is stored in `encryptedMessage` variable.\n"
   ]
  },
  {
   "cell_type": "code",
   "execution_count": 3,
   "metadata": {},
   "outputs": [],
   "source": [
    "def encryptMessage(message, key):\n",
    "    encryptedMessage = \"\"\n",
    "    for letter in message:\n",
    "        encryptedMessage+=moveLetter(letter,key)\n",
    "    return encryptedMessage"
   ]
  },
  {
   "cell_type": "markdown",
   "metadata": {},
   "source": [
    "And out Ceasar cypher is ready to use!\n",
    "\n",
    "Let's get the ecrypted message and a key as an input from the user and print the encrypted message."
   ]
  },
  {
   "cell_type": "code",
   "execution_count": 4,
   "metadata": {},
   "outputs": [
    {
     "name": "stdout",
     "output_type": "stream",
     "text": [
      "Message before the encryption: test\n",
      "The encryptedMessage: dqcd\n"
     ]
    }
   ],
   "source": [
    "usePrefefinedData = input(\"Do you want to use predefined data? (y/n)\\n\")\n",
    "if usePrefefinedData == \"y\":\n",
    "    message = \"test message, the quick brown fox jumps over the lazy dog\"\n",
    "    key = 13\n",
    "else:\n",
    "    message = input('What is the message you want to encrypt?\\n')\n",
    "    key = input(\"Enter your key to encrypt with\\n\")\n",
    "\n",
    "encryptedMessage = encryptMessage(message, int(key))\n",
    "print(f\"Message before the encryption: {message}\\nThe encryptedMessage: {encryptedMessage}\")"
   ]
  },
  {
   "cell_type": "markdown",
   "metadata": {},
   "source": [
    "The decryption is done by using the same `moveLetter` function, but using a negative key, moving letters to the left by the key value and retrieving the original message."
   ]
  },
  {
   "cell_type": "code",
   "execution_count": 5,
   "metadata": {},
   "outputs": [],
   "source": [
    "def decryptMessage(encryptedMessage, key):\n",
    "    decryptedMessage = \"\"\n",
    "    for letter in encryptedMessage:\n",
    "        decryptedMessage+=moveLetter(letter,-key)\n",
    "    return decryptedMessage"
   ]
  },
  {
   "cell_type": "markdown",
   "metadata": {},
   "source": [
    "Now let's write bruteforce decryption function. We take the encrypted message as the input and test all possible keys from 1 to the length of the alphabeth-1($keys = [1.. (|alphabeth|-1)$). \n",
    "\n",
    "We use the keys for `decryptMessage` function and print the results.\n",
    "\n",
    "One of printed results will be the original message."
   ]
  },
  {
   "cell_type": "code",
   "execution_count": 6,
   "metadata": {},
   "outputs": [],
   "source": [
    "def bruteForceCeasarCypher(message):\n",
    "    for key in range(1,len(alphabeth)):\n",
    "        print(decryptMessage(message,key))"
   ]
  },
  {
   "cell_type": "code",
   "execution_count": 7,
   "metadata": {},
   "outputs": [
    {
     "ename": "TypeError",
     "evalue": "'module' object is not callable",
     "output_type": "error",
     "traceback": [
      "\u001b[0;31m---------------------------------------------------------------------------\u001b[0m",
      "\u001b[0;31mTypeError\u001b[0m                                 Traceback (most recent call last)",
      "Cell \u001b[0;32mIn[7], line 6\u001b[0m\n\u001b[1;32m      4\u001b[0m \u001b[39mif\u001b[39;00m useOldMessage \u001b[39m==\u001b[39m \u001b[39m\"\u001b[39m\u001b[39mn\u001b[39m\u001b[39m\"\u001b[39m:\n\u001b[1;32m      5\u001b[0m     message \u001b[39m=\u001b[39m \u001b[39minput\u001b[39m(\u001b[39m'\u001b[39m\u001b[39mWhat is the message you want to encrypt?\u001b[39m\u001b[39m\\n\u001b[39;00m\u001b[39m'\u001b[39m)\n\u001b[0;32m----> 6\u001b[0m     key \u001b[39m=\u001b[39m random(\u001b[39m1\u001b[39;49m,\u001b[39mlen\u001b[39;49m(alphabeth))\n\u001b[1;32m      7\u001b[0m     encryptedMessage \u001b[39m=\u001b[39m encryptMessage(message, key)\n\u001b[1;32m      9\u001b[0m \u001b[39mprint\u001b[39m(\u001b[39mf\u001b[39m\u001b[39m\"\u001b[39m\u001b[39mMessage before the encryption: \u001b[39m\u001b[39m{\u001b[39;00mmessage\u001b[39m}\u001b[39;00m\u001b[39m\\n\u001b[39;00m\u001b[39mThe encryptedMessage: \u001b[39m\u001b[39m{\u001b[39;00mencryptedMessage\u001b[39m}\u001b[39;00m\u001b[39m\"\u001b[39m)\n",
      "\u001b[0;31mTypeError\u001b[0m: 'module' object is not callable"
     ]
    }
   ],
   "source": [
    "import random\n",
    "\n",
    "useOldMessage = input(\"Do you want to use the old message? (y/n)\\n\")\n",
    "if useOldMessage == \"n\":\n",
    "    message = input('What is the message you want to encrypt?\\n')\n",
    "    key = random(1,len(alphabeth))\n",
    "    encryptedMessage = encryptMessage(message, key)\n",
    "    \n",
    "print(f\"Message before the encryption: {message}\\nThe encryptedMessage: {encryptedMessage}\")\n",
    "print(\"Let's brute force it\\nAll possible messages are:\\n\")\n",
    "bruteForceCeasarCypher(encryptedMessage)"
   ]
  },
  {
   "cell_type": "markdown",
   "metadata": {},
   "source": [
    "#### Please use this file to write and execute your solution.\n",
    "\n"
   ]
  },
  {
   "cell_type": "markdown",
   "metadata": {},
   "source": [
    "Write a python code in cocalc that breaks the following using brute force attack:\n",
    "\n",
    "Assume you got a ciphertext (in hexa) that  is  b'1525053514291239',  as a result of XOR encryption.\n",
    "Additionally, assume that the unknown plaintext is an 8-letter word and among the most common words in English\n",
    "You know that a very weak key is used that consists of a repeated character followed by @ sign. For example, if the word is an 8 letter word, then the key will be: ?@?@?@?@\n",
    "Your task is to brute force this ciphertext based on the above information.\n",
    "Output any successful decrypted plaintext, if you have found it among the most common words in English."
   ]
  },
  {
   "cell_type": "code",
   "execution_count": 9,
   "metadata": {},
   "outputs": [],
   "source": [
    "# Auxiliary func:\n",
    "from binascii import hexlify, unhexlify"
   ]
  },
  {
   "cell_type": "code",
   "execution_count": 10,
   "metadata": {},
   "outputs": [],
   "source": [
    "def xor(string1, string2):\n",
    "    return \"\".join([chr(ord(c1) ^ ord(c2)) for (c1,c2) in zip(string1,string2)])"
   ]
  },
  {
   "cell_type": "code",
   "execution_count": 11,
   "metadata": {},
   "outputs": [],
   "source": [
    "cipher_hex = b'1525053514291239'"
   ]
  },
  {
   "cell_type": "markdown",
   "metadata": {},
   "source": [
    "Let's create generic generate key function that takes a key length and a character to repeat. This function will return a 'char' + '?' repeated until the key length is reached. For example, if the key length is 8 and the character is 'a', then the key will be 'a?a?a?a?'. "
   ]
  },
  {
   "cell_type": "code",
   "execution_count": 12,
   "metadata": {},
   "outputs": [],
   "source": [
    "def generateKey(length,code):\n",
    "    letter = [x for x in (chr(code) * length)] # generate key of length 'length' with character 'code' and split it into a list\n",
    "    return \"@\".join(letter)[:length] # join the list with '@' and return the first 'length' characters"
   ]
  },
  {
   "cell_type": "markdown",
   "metadata": {},
   "source": [
    "We create function to load the most common words in English from the file 'common_words.txt' and return the list of them."
   ]
  },
  {
   "cell_type": "code",
   "execution_count": 13,
   "metadata": {},
   "outputs": [],
   "source": [
    "def loadDictionary():\n",
    "    with open('common_words.txt') as f:\n",
    "        return f.read().splitlines()"
   ]
  },
  {
   "cell_type": "markdown",
   "metadata": {},
   "source": [
    "The 'brute_crack' function takes cipher_text. It will iterate through the 256 ASCII letters generateing weak key for them(\"?@?@...\"). \n",
    "\n",
    "Then it will use XOR with the key and unhexlified cipher_hex and check if the result is in the list of common words.\n",
    "\n",
    " If it is, then it will return the key and the message."
   ]
  },
  {
   "cell_type": "code",
   "execution_count": 14,
   "metadata": {},
   "outputs": [],
   "source": [
    "def brute_crack(cipher_hex):\n",
    "    dictionary = loadDictionary()\n",
    "    c = unhexlify(cipher_hex).decode()\n",
    "    for i in range(256):\n",
    "        k = generateKey(len(c),i)\n",
    "        m = xor(c, k)\n",
    "        if m in dictionary:\n",
    "            return (k, m)\n"
   ]
  },
  {
   "cell_type": "code",
   "execution_count": 15,
   "metadata": {},
   "outputs": [
    {
     "name": "stdout",
     "output_type": "stream",
     "text": [
      "key: f@f@f@f@\n",
      "message: security\n"
     ]
    }
   ],
   "source": [
    "(key, message) = brute_crack(cipher_hex)\n",
    "print(f\"key: {key}\")\n",
    "print(f\"message: {message}\")"
   ]
  },
  {
   "cell_type": "markdown",
   "metadata": {},
   "source": [
    "Write a python code in cocalc that crack the used random number generator, based on the following scenario:\n",
    "\n",
    "Assume you got a ciphertext (in hexa) that  is  b'62716b6b777862677362667e7b',  as a result of XOR encryption.\n",
    "Additionally, assume that you know the original encrypted plaintext was 'cybersecurity'\n",
    "You know that the key were random numbers generated by LCG.\n",
    "By knowing the above information, crack the LCG parameters.\n",
    " "
   ]
  },
  {
   "cell_type": "markdown",
   "metadata": {},
   "source": [
    "\n",
    "# Imports"
   ]
  },
  {
   "cell_type": "code",
   "execution_count": 16,
   "metadata": {},
   "outputs": [],
   "source": [
    "from functools import reduce\n",
    "from binascii import unhexlify"
   ]
  },
  {
   "cell_type": "markdown",
   "metadata": {},
   "source": [
    "# Setup\n",
    "\n",
    "we use `xor`, `egcd`, `modinv` `gcd` from the previous lectures."
   ]
  },
  {
   "cell_type": "code",
   "execution_count": 17,
   "metadata": {},
   "outputs": [],
   "source": [
    "def xor(string1, string2):\n",
    "    return \"\".join([chr(ord(c1) ^ ord(c2)) for (c1,c2) in zip(string1,string2)])"
   ]
  },
  {
   "cell_type": "code",
   "execution_count": 18,
   "metadata": {},
   "outputs": [],
   "source": [
    "def egcd(a,b):\n",
    "    if a ==0 :\n",
    "        return (b,0,1)\n",
    "    else:\n",
    "        g,y,x = egcd(b%a,a)\n",
    "        return (g,x-(b//a)*y,y)\n",
    "    \n",
    "def modinv(b,n):\n",
    "    g,x,_ = egcd(b,n)\n",
    "    if g == 1:\n",
    "        return x%n"
   ]
  },
  {
   "cell_type": "code",
   "execution_count": 19,
   "metadata": {},
   "outputs": [],
   "source": [
    "def gcd(x,y):\n",
    "    while y:\n",
    "        x,y = y, x%y\n",
    "    return x"
   ]
  },
  {
   "cell_type": "markdown",
   "metadata": {},
   "source": [
    "# LCG cracking algorithm\n",
    "We use the algorithm from the lecture slides. The algorithm is as follows:\n",
    "\n",
    "1. Compute the modulus of the LCG using the key values.\n",
    "2. Compute the multiplier of the LCG using the key values and modulus.\n",
    "3. Compute the increment of the LCG using the key values, modulus, and multiplier."
   ]
  },
  {
   "cell_type": "code",
   "execution_count": 20,
   "metadata": {},
   "outputs": [],
   "source": [
    "def crack_unknown_increment(states, modulus, multiplied):\n",
    "    increment = (states[1]-states[0]*multiplied) % modulus\n",
    "    return increment"
   ]
  },
  {
   "cell_type": "code",
   "execution_count": 21,
   "metadata": {},
   "outputs": [],
   "source": [
    "def crack_unknown_multiplier(states, modulus):\n",
    "    multiplier = (states[2]-states[1]) * modinv(states[1]-states[0],modulus) % modulus\n",
    "    increment = crack_unknown_increment(states, modulus, multiplier)\n",
    "    return increment, multiplier"
   ]
  },
  {
   "cell_type": "code",
   "execution_count": 22,
   "metadata": {},
   "outputs": [],
   "source": [
    "def crack_unknown_modulus(states):\n",
    "    diffs = [s1 - s0 for s0, s1 in zip(states, states[1:])]\n",
    "    zeroes = [t2*t0 - t1*t1 for t0, t1, t2 in zip(diffs, diffs[1:], diffs[2:])]\n",
    "    modulus = abs(reduce(gcd, zeroes))\n",
    "    increment, multiplier = crack_unknown_multiplier(states, modulus)\n",
    "    return modulus, increment, multiplier"
   ]
  },
  {
   "cell_type": "markdown",
   "metadata": {},
   "source": [
    "# Solution\n",
    "We get the cyphertext and plaintext from the problem statement. We unhexify the cyphertext. We then get the key by XORing the cyphertext and plaintext. Assuming that the key is generated by the LCG, we can use the key to crack the LCG parameters."
   ]
  },
  {
   "cell_type": "code",
   "execution_count": 23,
   "metadata": {},
   "outputs": [],
   "source": [
    "def getLCGValues(cypher_hex,message):\n",
    "    unhexifiedCypherText = unhexlify(cypher_hex).decode()\n",
    "    print(\"unhexified cypher text: \",unhexifiedCypherText)\n",
    "    values = xor(unhexifiedCypherText, message)\n",
    "    keys = [ord(c) for c in values]\n",
    "    print(f\"Keys used for encrypting {message}:\",keys)\n",
    "    return crack_unknown_modulus(keys)"
   ]
  },
  {
   "cell_type": "markdown",
   "metadata": {},
   "source": [
    "### Getting the LCG values\n"
   ]
  },
  {
   "cell_type": "code",
   "execution_count": 24,
   "metadata": {},
   "outputs": [
    {
     "name": "stdout",
     "output_type": "stream",
     "text": [
      "unhexified cypher text:  bqkkwxbgsbf~{\n",
      "Keys used for encrypting cybersecurity: [1, 8, 9, 14, 5, 11, 7, 4, 6, 16, 15, 10, 2]\n",
      "modulus:  17 \n",
      "increment:  3 \n",
      "multiplier:  5\n"
     ]
    }
   ],
   "source": [
    "cypher_hex = b'62716b6b777862677362667e7b'\n",
    "message = \"cybersecurity\"\n",
    "(modulus,increment, multiplier) = getLCGValues(cypher_hex,message)\n",
    "\n",
    "print(\"modulus: \", modulus, \"\\nincrement: \", increment, \"\\nmultiplier: \", multiplier)"
   ]
  },
  {
   "cell_type": "markdown",
   "metadata": {},
   "source": [
    "## Testing\n",
    "After we got our LCG modulus, increment, multiplier values, we can check if those values actually generate \"random\" sequence used in the encryption of the message"
   ]
  },
  {
   "cell_type": "markdown",
   "metadata": {},
   "source": [
    "We use a bit modified LCG algorithm where the first state is the seed itself and we pass the LCG parameters as an arguments of a function."
   ]
  },
  {
   "cell_type": "code",
   "execution_count": 25,
   "metadata": {},
   "outputs": [],
   "source": [
    "def prng_lcg(seed, repeat, multiplier, increment, modulus):\n",
    "    state = seed\n",
    "    numbers = [seed]\n",
    "    for _ in range(repeat-1):\n",
    "        state = (state * multiplier+increment) % modulus\n",
    "        numbers.append(state)\n",
    "    return numbers"
   ]
  },
  {
   "cell_type": "code",
   "execution_count": 26,
   "metadata": {},
   "outputs": [
    {
     "name": "stdout",
     "output_type": "stream",
     "text": [
      "[1, 8, 9, 14, 5, 11, 7, 4, 6, 16, 15, 10, 2]\n"
     ]
    }
   ],
   "source": [
    "generatedKeyList = prng_lcg(1,len(message),multiplier,increment,modulus)\n",
    "print (generatedKeyList)"
   ]
  },
  {
   "cell_type": "markdown",
   "metadata": {},
   "source": [
    "Let's compare our generated Key list and key list we got after using xor for cyphertext and message."
   ]
  },
  {
   "cell_type": "code",
   "execution_count": 27,
   "metadata": {},
   "outputs": [],
   "source": [
    "unhexifiedCypherText = unhexlify(cypher_hex).decode()\n",
    "values = xor(unhexifiedCypherText, message)\n",
    "originalKeyList = [ord(c) for c in values]"
   ]
  },
  {
   "cell_type": "code",
   "execution_count": 28,
   "metadata": {},
   "outputs": [],
   "source": [
    "def checkIfEqualKeyLists(originalKeyList, newKeyList):\n",
    "    areEqual = True\n",
    "    for (ind,_) in enumerate(originalKeyList):\n",
    "        if originalKeyList[ind] != newKeyList[ind]:    \n",
    "            areEqual = False\n",
    "    if areEqual:\n",
    "        print(\"The lists are equal\")\n",
    "    else:\n",
    "        print(\"The lists are not equal\")"
   ]
  },
  {
   "cell_type": "code",
   "execution_count": 29,
   "metadata": {},
   "outputs": [
    {
     "name": "stdout",
     "output_type": "stream",
     "text": [
      "The lists are equal\n"
     ]
    }
   ],
   "source": [
    "checkIfEqualKeyLists(originalKeyList,generatedKeyList)"
   ]
  },
  {
   "cell_type": "markdown",
   "metadata": {},
   "source": [
    "Write a python code in cocalc that implement the following scenario:\n",
    "\n",
    "1) Read a stream of data from (data_stream.txt) file, one character at a time.\n",
    "\n",
    "2) Generate the required number of bits using LFSR (generates 8-bit at a time for each character)\n",
    "\n",
    "3) Perform the xor encryption.\n",
    "\n",
    "4) In a separate function perform the xor decryption. Note: during decryption the sequence of key can be generated using the seed and mask value\n",
    "\n",
    " \n",
    "\n",
    "5) OPTIONAL: this is an optional step. Try to crack the LFSR, by knowing the original data stream and the ciphertext.\n",
    "\n"
   ]
  },
  {
   "cell_type": "markdown",
   "metadata": {},
   "source": [
    "LRSR generation function(from the lecture slides):"
   ]
  },
  {
   "cell_type": "code",
   "execution_count": 30,
   "metadata": {},
   "outputs": [],
   "source": [
    "def LRSR_generate(seed, mask, n):\n",
    "    seed_int = int(seed, 2)\n",
    "    mask_int = int(mask, 2)\n",
    "    nbits = len(seed)\n",
    "\n",
    "    state = seed_int\n",
    "    while n > 0:\n",
    "        output = 1 & state\n",
    "        _mask,_state,new_bit = mask_int, state, 0\n",
    "        while _mask:\n",
    "            new_bit ^= (1&_mask) * (1&_state)\n",
    "            _mask >>= 1\n",
    "            _state >>= 1\n",
    "        state = state >> 1 | (new_bit << (nbits-1))\n",
    "\n",
    "        yield output, state\n",
    "        n-=1"
   ]
  },
  {
   "cell_type": "markdown",
   "metadata": {},
   "source": [
    "Let's split the list of integers into 8 element chunks. The `list_split` function will do that for us."
   ]
  },
  {
   "cell_type": "code",
   "execution_count": 31,
   "metadata": {},
   "outputs": [],
   "source": [
    "def list_split(l, n):\n",
    "    for i in range(0, len(l), n):\n",
    "        yield l[i:i + n]"
   ]
  },
  {
   "cell_type": "code",
   "execution_count": 32,
   "metadata": {},
   "outputs": [],
   "source": [
    "def convertListOfBinaryToChar(list):\n",
    "    return chr(int(\"\".join(map(str, list)),2))"
   ]
  },
  {
   "cell_type": "markdown",
   "metadata": {},
   "source": [
    "To convert a list of integers into a string, we can `getKeyAsString` function. First we split the list into 8 element chunks, then we convert each chunk into a char and join the chars into a string. "
   ]
  },
  {
   "cell_type": "code",
   "execution_count": 33,
   "metadata": {},
   "outputs": [],
   "source": [
    "def getKeyAsString (key):\n",
    "    keyLists = list(list_split ([ output for output, _ in key],8))\n",
    "    return ''.join(convertListOfBinaryToChar(binaryList) for binaryList in keyLists)"
   ]
  },
  {
   "cell_type": "markdown",
   "metadata": {},
   "source": [
    "Xor function(from earlier laboratories):"
   ]
  },
  {
   "cell_type": "code",
   "execution_count": 34,
   "metadata": {},
   "outputs": [],
   "source": [
    "def xor(string1, string2):\n",
    "    return \"\".join([chr(ord(c1) ^ ord(c2)) for (c1,c2) in zip(string1,string2)])"
   ]
  },
  {
   "cell_type": "markdown",
   "metadata": {},
   "source": [
    "Read one character at a time from the file function. Reads using `read(1)` function(returns one character at a time)"
   ]
  },
  {
   "cell_type": "code",
   "execution_count": 35,
   "metadata": {},
   "outputs": [],
   "source": [
    "def readFromFileOneCharAtATime(filename):\n",
    "    with open(filename, \"r\") as f:\n",
    "        while True:\n",
    "            c = f.read(1)\n",
    "            if not c:\n",
    "                break\n",
    "            yield c"
   ]
  },
  {
   "cell_type": "markdown",
   "metadata": {},
   "source": [
    "Data stream file:"
   ]
  },
  {
   "cell_type": "code",
   "execution_count": 36,
   "metadata": {},
   "outputs": [],
   "source": [
    "file = \"data_stream.txt\""
   ]
  },
  {
   "cell_type": "markdown",
   "metadata": {},
   "source": [
    "A small streamEncryption function, which takes filename, seed and mask as an input and returns xor encrypted data using LFSR function"
   ]
  },
  {
   "cell_type": "code",
   "execution_count": 37,
   "metadata": {},
   "outputs": [],
   "source": [
    "def streamEncrypt(file,seed,mask):\n",
    "    text = ''.join(str(output) for output in readFromFileOneCharAtATime(file))\n",
    "    key = LRSR_generate(seed, mask, len(text) * 8)\n",
    "    key_str = getKeyAsString(key)\n",
    "    print (key_str)\n",
    "    # print (key_str)\n",
    "    print(key_str)\n",
    "    encrypted_text = xor(text, key_str)\n",
    "    return encrypted_text"
   ]
  },
  {
   "cell_type": "code",
   "execution_count": 38,
   "metadata": {},
   "outputs": [
    {
     "name": "stdout",
     "output_type": "stream",
     "text": [
      "dC3Èr+ìvæPØ\u00199\u001a¹`Ã½G\u0014\u001fÐ\u0005:Éoæ÷4Ègå$WØíÌ¡°2r5rÁz\n",
      "dC3Èr+ìvæPØ\u00199\u001a¹`Ã½G\u0014\u001fÐ\u0005:Éoæ÷4Ègå$WØíÌ¡°2r5rÁz\n",
      "î\f*@è\u001bá\u000bV$ª|Xw\u000f¥#uk±%N¦Oî×õF©è\u0014öV%½ìÒÕQ\u0007G\u0017­þT\n"
     ]
    }
   ],
   "source": [
    "# # seed = input('Enter seed: ')\n",
    "# mask = input('Enter mask: ')\n",
    "seed ='1001011001'\n",
    "mask ='0101101101'\n",
    "\n",
    "encrypted_text = streamEncrypt(file,seed,mask)\n",
    "print(encrypted_text)"
   ]
  },
  {
   "cell_type": "markdown",
   "metadata": {},
   "source": [
    "A `streamDecprypt` function which takes encrypted text, seed and mask as an input and returns the decrypted text by using the LFSR function to generate the key and xor the encrypted text and key to retrieve the original text."
   ]
  },
  {
   "cell_type": "code",
   "execution_count": 39,
   "metadata": {},
   "outputs": [],
   "source": [
    "def streamDecrypt(encrypted_text, seed, mask):\n",
    "    key = LRSR_generate(seed, mask, len(encrypted_text)*8)\n",
    "    key_str = getKeyAsString(key)\n",
    "    originalText = xor(encrypted_text, key_str)\n",
    "    return originalText"
   ]
  },
  {
   "cell_type": "code",
   "execution_count": 40,
   "metadata": {},
   "outputs": [
    {
     "name": "stdout",
     "output_type": "stream",
     "text": [
      "this is a stream of data to be transferred securely.\n"
     ]
    }
   ],
   "source": [
    "print(streamDecrypt(encrypted_text, seed, mask))"
   ]
  },
  {
   "cell_type": "markdown",
   "metadata": {},
   "source": [
    "Let's crack LRSR"
   ]
  },
  {
   "cell_type": "code",
   "execution_count": 41,
   "metadata": {},
   "outputs": [],
   "source": [
    "def retrieveKey(encrypted_text, original_text):\n",
    "    key = xor(encrypted_text, original_text)\n",
    "    return key\n",
    "\n",
    "\n",
    "original_text = ''.join(str(output)\n",
    "                        for output in readFromFileOneCharAtATime(file))\n",
    "retrievedKey = retrieveKey(encrypted_text, original_text)\n"
   ]
  },
  {
   "cell_type": "markdown",
   "metadata": {},
   "source": [
    "Get binary string from the given key in char format"
   ]
  },
  {
   "cell_type": "code",
   "execution_count": 42,
   "metadata": {},
   "outputs": [],
   "source": [
    "def getBinaryValues(key): ##('0100')\n",
    "    keys=list(key)\n",
    "    ones = [format(ord(k),'b').zfill(8) for k in keys]\n",
    "    return ''.join(i for i in ones)"
   ]
  },
  {
   "cell_type": "markdown",
   "metadata": {},
   "source": [
    "Let's try to get mask value from the key value. We can do this using berlekam massey algorithm:"
   ]
  },
  {
   "cell_type": "code",
   "execution_count": 43,
   "metadata": {},
   "outputs": [],
   "source": [
    "import berlekampmassey\n",
    "\n",
    "def GetMaskFromKey(key):\n",
    "    binaryValues = getBinaryValues(key)\n",
    "    ret = list(berlekampmassey.bm(binaryValues))[-1]\n",
    "    return ''.join([str(x) for x in ret[::-1]])"
   ]
  },
  {
   "cell_type": "markdown",
   "metadata": {},
   "source": [
    "Since the seed is inside the key, but don't know its length, we can iterate from 1 till the length of the key to find the seed value. Adter choosing `i` length seed from the key, we generate key length of values using LFSR and check if the generated key is equal to the given key. If it is equal, we found the seed value."
   ]
  },
  {
   "cell_type": "code",
   "execution_count": 44,
   "metadata": {},
   "outputs": [],
   "source": [
    "def GetSeedFromKey(key, mask):\n",
    "    keyInBinary = getBinaryValues(key)\n",
    "    for i in range(1, len(keyInBinary)):\n",
    "        tmp_seed = keyInBinary[0:i][::-1]\n",
    "        print(tmp_seed)\n",
    "        tmp_key = LRSR_generate(tmp_seed, mask, len(keyInBinary)*16)\n",
    "        tmp_key_str = ''.join(str(output) for output, _ in tmp_key)\n",
    "\n",
    "        if (keyInBinary == tmp_key_str):\n",
    "            return tmp_seed"
   ]
  },
  {
   "cell_type": "markdown",
   "metadata": {},
   "source": [
    "Full seed, mask retrieval from the key:"
   ]
  },
  {
   "cell_type": "code",
   "execution_count": 45,
   "metadata": {},
   "outputs": [
    {
     "name": "stdout",
     "output_type": "stream",
     "text": [
      "mask comparison\n",
      "original mask\n",
      "0101101101\n",
      "retrieved mask from the key\n",
      "0101101101\n",
      "\n",
      "seed comparison\n",
      "original seed\n",
      "1001011001\n",
      "retrieved seed from the key with solved mask\n",
      "1\n",
      "01\n",
      "001\n",
      "1001\n",
      "11001\n",
      "011001\n",
      "1011001\n",
      "01011001\n",
      "001011001\n",
      "1001011001\n",
      "11001011001\n",
      "011001011001\n",
      "0011001011001\n",
      "10011001011001\n",
      "010011001011001\n",
      "0010011001011001\n",
      "00010011001011001\n",
      "100010011001011001\n",
      "0100010011001011001\n",
      "00100010011001011001\n",
      "000100010011001011001\n",
      "0000100010011001011001\n",
      "10000100010011001011001\n",
      "110000100010011001011001\n",
      "0110000100010011001011001\n",
      "00110000100010011001011001\n",
      "100110000100010011001011001\n",
      "1100110000100010011001011001\n",
      "01100110000100010011001011001\n",
      "001100110000100010011001011001\n",
      "1001100110000100010011001011001\n",
      "11001100110000100010011001011001\n",
      "111001100110000100010011001011001\n",
      "1111001100110000100010011001011001\n",
      "01111001100110000100010011001011001\n",
      "001111001100110000100010011001011001\n",
      "1001111001100110000100010011001011001\n",
      "01001111001100110000100010011001011001\n",
      "001001111001100110000100010011001011001\n",
      "0001001111001100110000100010011001011001\n",
      "00001001111001100110000100010011001011001\n",
      "100001001111001100110000100010011001011001\n",
      "1100001001111001100110000100010011001011001\n",
      "11100001001111001100110000100010011001011001\n",
      "011100001001111001100110000100010011001011001\n",
      "0011100001001111001100110000100010011001011001\n",
      "10011100001001111001100110000100010011001011001\n",
      "010011100001001111001100110000100010011001011001\n",
      "1010011100001001111001100110000100010011001011001\n",
      "01010011100001001111001100110000100010011001011001\n",
      "001010011100001001111001100110000100010011001011001\n",
      "1001010011100001001111001100110000100010011001011001\n",
      "01001010011100001001111001100110000100010011001011001\n",
      "001001010011100001001111001100110000100010011001011001\n",
      "1001001010011100001001111001100110000100010011001011001\n",
      "01001001010011100001001111001100110000100010011001011001\n",
      "001001001010011100001001111001100110000100010011001011001\n",
      "0001001001010011100001001111001100110000100010011001011001\n",
      "10001001001010011100001001111001100110000100010011001011001\n",
      "010001001001010011100001001111001100110000100010011001011001\n",
      "1010001001001010011100001001111001100110000100010011001011001\n",
      "01010001001001010011100001001111001100110000100010011001011001\n",
      "101010001001001010011100001001111001100110000100010011001011001\n",
      "1101010001001001010011100001001111001100110000100010011001011001\n",
      "11101010001001001010011100001001111001100110000100010011001011001\n",
      "111101010001001001010011100001001111001100110000100010011001011001\n",
      "1111101010001001001010011100001001111001100110000100010011001011001\n",
      "01111101010001001001010011100001001111001100110000100010011001011001\n",
      "101111101010001001001010011100001001111001100110000100010011001011001\n",
      "1101111101010001001001010011100001001111001100110000100010011001011001\n",
      "01101111101010001001001010011100001001111001100110000100010011001011001\n",
      "001101111101010001001001010011100001001111001100110000100010011001011001\n",
      "0001101111101010001001001010011100001001111001100110000100010011001011001\n",
      "10001101111101010001001001010011100001001111001100110000100010011001011001\n",
      "110001101111101010001001001010011100001001111001100110000100010011001011001\n",
      "1110001101111101010001001001010011100001001111001100110000100010011001011001\n",
      "01110001101111101010001001001010011100001001111001100110000100010011001011001\n",
      "101110001101111101010001001001010011100001001111001100110000100010011001011001\n",
      "1101110001101111101010001001001010011100001001111001100110000100010011001011001\n",
      "01101110001101111101010001001001010011100001001111001100110000100010011001011001\n",
      "101101110001101111101010001001001010011100001001111001100110000100010011001011001\n",
      "1101101110001101111101010001001001010011100001001111001100110000100010011001011001\n",
      "11101101110001101111101010001001001010011100001001111001100110000100010011001011001\n",
      "011101101110001101111101010001001001010011100001001111001100110000100010011001011001\n",
      "0011101101110001101111101010001001001010011100001001111001100110000100010011001011001\n",
      "10011101101110001101111101010001001001010011100001001111001100110000100010011001011001\n",
      "110011101101110001101111101010001001001010011100001001111001100110000100010011001011001\n",
      "0110011101101110001101111101010001001001010011100001001111001100110000100010011001011001\n",
      "00110011101101110001101111101010001001001010011100001001111001100110000100010011001011001\n",
      "100110011101101110001101111101010001001001010011100001001111001100110000100010011001011001\n",
      "0100110011101101110001101111101010001001001010011100001001111001100110000100010011001011001\n",
      "10100110011101101110001101111101010001001001010011100001001111001100110000100010011001011001\n",
      "010100110011101101110001101111101010001001001010011100001001111001100110000100010011001011001\n",
      "0010100110011101101110001101111101010001001001010011100001001111001100110000100010011001011001\n",
      "00010100110011101101110001101111101010001001001010011100001001111001100110000100010011001011001\n",
      "000010100110011101101110001101111101010001001001010011100001001111001100110000100010011001011001\n",
      "1000010100110011101101110001101111101010001001001010011100001001111001100110000100010011001011001\n",
      "11000010100110011101101110001101111101010001001001010011100001001111001100110000100010011001011001\n",
      "011000010100110011101101110001101111101010001001001010011100001001111001100110000100010011001011001\n",
      "1011000010100110011101101110001101111101010001001001010011100001001111001100110000100010011001011001\n",
      "11011000010100110011101101110001101111101010001001001010011100001001111001100110000100010011001011001\n",
      "011011000010100110011101101110001101111101010001001001010011100001001111001100110000100010011001011001\n",
      "0011011000010100110011101101110001101111101010001001001010011100001001111001100110000100010011001011001\n",
      "00011011000010100110011101101110001101111101010001001001010011100001001111001100110000100010011001011001\n",
      "000011011000010100110011101101110001101111101010001001001010011100001001111001100110000100010011001011001\n",
      "0000011011000010100110011101101110001101111101010001001001010011100001001111001100110000100010011001011001\n",
      "00000011011000010100110011101101110001101111101010001001001010011100001001111001100110000100010011001011001\n",
      "100000011011000010100110011101101110001101111101010001001001010011100001001111001100110000100010011001011001\n",
      "1100000011011000010100110011101101110001101111101010001001001010011100001001111001100110000100010011001011001\n",
      "01100000011011000010100110011101101110001101111101010001001001010011100001001111001100110000100010011001011001\n",
      "001100000011011000010100110011101101110001101111101010001001001010011100001001111001100110000100010011001011001\n",
      "1001100000011011000010100110011101101110001101111101010001001001010011100001001111001100110000100010011001011001\n",
      "01001100000011011000010100110011101101110001101111101010001001001010011100001001111001100110000100010011001011001\n",
      "001001100000011011000010100110011101101110001101111101010001001001010011100001001111001100110000100010011001011001\n",
      "1001001100000011011000010100110011101101110001101111101010001001001010011100001001111001100110000100010011001011001\n",
      "11001001100000011011000010100110011101101110001101111101010001001001010011100001001111001100110000100010011001011001\n",
      "111001001100000011011000010100110011101101110001101111101010001001001010011100001001111001100110000100010011001011001\n",
      "0111001001100000011011000010100110011101101110001101111101010001001001010011100001001111001100110000100010011001011001\n",
      "00111001001100000011011000010100110011101101110001101111101010001001001010011100001001111001100110000100010011001011001\n",
      "100111001001100000011011000010100110011101101110001101111101010001001001010011100001001111001100110000100010011001011001\n",
      "0100111001001100000011011000010100110011101101110001101111101010001001001010011100001001111001100110000100010011001011001\n",
      "00100111001001100000011011000010100110011101101110001101111101010001001001010011100001001111001100110000100010011001011001\n",
      "000100111001001100000011011000010100110011101101110001101111101010001001001010011100001001111001100110000100010011001011001\n",
      "1000100111001001100000011011000010100110011101101110001101111101010001001001010011100001001111001100110000100010011001011001\n",
      "11000100111001001100000011011000010100110011101101110001101111101010001001001010011100001001111001100110000100010011001011001\n",
      "011000100111001001100000011011000010100110011101101110001101111101010001001001010011100001001111001100110000100010011001011001\n",
      "1011000100111001001100000011011000010100110011101101110001101111101010001001001010011100001001111001100110000100010011001011001\n",
      "01011000100111001001100000011011000010100110011101101110001101111101010001001001010011100001001111001100110000100010011001011001\n",
      "101011000100111001001100000011011000010100110011101101110001101111101010001001001010011100001001111001100110000100010011001011001\n",
      "0101011000100111001001100000011011000010100110011101101110001101111101010001001001010011100001001111001100110000100010011001011001\n",
      "10101011000100111001001100000011011000010100110011101101110001101111101010001001001010011100001001111001100110000100010011001011001\n",
      "110101011000100111001001100000011011000010100110011101101110001101111101010001001001010011100001001111001100110000100010011001011001\n",
      "1110101011000100111001001100000011011000010100110011101101110001101111101010001001001010011100001001111001100110000100010011001011001\n",
      "01110101011000100111001001100000011011000010100110011101101110001101111101010001001001010011100001001111001100110000100010011001011001\n",
      "001110101011000100111001001100000011011000010100110011101101110001101111101010001001001010011100001001111001100110000100010011001011001\n",
      "1001110101011000100111001001100000011011000010100110011101101110001101111101010001001001010011100001001111001100110000100010011001011001\n",
      "01001110101011000100111001001100000011011000010100110011101101110001101111101010001001001010011100001001111001100110000100010011001011001\n",
      "101001110101011000100111001001100000011011000010100110011101101110001101111101010001001001010011100001001111001100110000100010011001011001\n",
      "1101001110101011000100111001001100000011011000010100110011101101110001101111101010001001001010011100001001111001100110000100010011001011001\n",
      "01101001110101011000100111001001100000011011000010100110011101101110001101111101010001001001010011100001001111001100110000100010011001011001\n",
      "001101001110101011000100111001001100000011011000010100110011101101110001101111101010001001001010011100001001111001100110000100010011001011001\n",
      "0001101001110101011000100111001001100000011011000010100110011101101110001101111101010001001001010011100001001111001100110000100010011001011001\n",
      "00001101001110101011000100111001001100000011011000010100110011101101110001101111101010001001001010011100001001111001100110000100010011001011001\n",
      "000001101001110101011000100111001001100000011011000010100110011101101110001101111101010001001001010011100001001111001100110000100010011001011001\n",
      "1000001101001110101011000100111001001100000011011000010100110011101101110001101111101010001001001010011100001001111001100110000100010011001011001\n",
      "11000001101001110101011000100111001001100000011011000010100110011101101110001101111101010001001001010011100001001111001100110000100010011001011001\n",
      "011000001101001110101011000100111001001100000011011000010100110011101101110001101111101010001001001010011100001001111001100110000100010011001011001\n",
      "0011000001101001110101011000100111001001100000011011000010100110011101101110001101111101010001001001010011100001001111001100110000100010011001011001\n",
      "00011000001101001110101011000100111001001100000011011000010100110011101101110001101111101010001001001010011100001001111001100110000100010011001011001\n",
      "000011000001101001110101011000100111001001100000011011000010100110011101101110001101111101010001001001010011100001001111001100110000100010011001011001\n",
      "1000011000001101001110101011000100111001001100000011011000010100110011101101110001101111101010001001001010011100001001111001100110000100010011001011001\n",
      "11000011000001101001110101011000100111001001100000011011000010100110011101101110001101111101010001001001010011100001001111001100110000100010011001011001\n",
      "111000011000001101001110101011000100111001001100000011011000010100110011101101110001101111101010001001001010011100001001111001100110000100010011001011001\n",
      "0111000011000001101001110101011000100111001001100000011011000010100110011101101110001101111101010001001001010011100001001111001100110000100010011001011001\n",
      "10111000011000001101001110101011000100111001001100000011011000010100110011101101110001101111101010001001001010011100001001111001100110000100010011001011001\n",
      "110111000011000001101001110101011000100111001001100000011011000010100110011101101110001101111101010001001001010011100001001111001100110000100010011001011001\n",
      "1110111000011000001101001110101011000100111001001100000011011000010100110011101101110001101111101010001001001010011100001001111001100110000100010011001011001\n",
      "11110111000011000001101001110101011000100111001001100000011011000010100110011101101110001101111101010001001001010011100001001111001100110000100010011001011001\n",
      "011110111000011000001101001110101011000100111001001100000011011000010100110011101101110001101111101010001001001010011100001001111001100110000100010011001011001\n",
      "1011110111000011000001101001110101011000100111001001100000011011000010100110011101101110001101111101010001001001010011100001001111001100110000100010011001011001\n",
      "01011110111000011000001101001110101011000100111001001100000011011000010100110011101101110001101111101010001001001010011100001001111001100110000100010011001011001\n",
      "101011110111000011000001101001110101011000100111001001100000011011000010100110011101101110001101111101010001001001010011100001001111001100110000100010011001011001\n",
      "0101011110111000011000001101001110101011000100111001001100000011011000010100110011101101110001101111101010001001001010011100001001111001100110000100010011001011001\n",
      "00101011110111000011000001101001110101011000100111001001100000011011000010100110011101101110001101111101010001001001010011100001001111001100110000100010011001011001\n",
      "000101011110111000011000001101001110101011000100111001001100000011011000010100110011101101110001101111101010001001001010011100001001111001100110000100010011001011001\n",
      "1000101011110111000011000001101001110101011000100111001001100000011011000010100110011101101110001101111101010001001001010011100001001111001100110000100010011001011001\n",
      "11000101011110111000011000001101001110101011000100111001001100000011011000010100110011101101110001101111101010001001001010011100001001111001100110000100010011001011001\n",
      "111000101011110111000011000001101001110101011000100111001001100000011011000010100110011101101110001101111101010001001001010011100001001111001100110000100010011001011001\n",
      "0111000101011110111000011000001101001110101011000100111001001100000011011000010100110011101101110001101111101010001001001010011100001001111001100110000100010011001011001\n",
      "00111000101011110111000011000001101001110101011000100111001001100000011011000010100110011101101110001101111101010001001001010011100001001111001100110000100010011001011001\n",
      "000111000101011110111000011000001101001110101011000100111001001100000011011000010100110011101101110001101111101010001001001010011100001001111001100110000100010011001011001\n",
      "1000111000101011110111000011000001101001110101011000100111001001100000011011000010100110011101101110001101111101010001001001010011100001001111001100110000100010011001011001\n",
      "01000111000101011110111000011000001101001110101011000100111001001100000011011000010100110011101101110001101111101010001001001010011100001001111001100110000100010011001011001\n",
      "101000111000101011110111000011000001101001110101011000100111001001100000011011000010100110011101101110001101111101010001001001010011100001001111001100110000100010011001011001\n",
      "0101000111000101011110111000011000001101001110101011000100111001001100000011011000010100110011101101110001101111101010001001001010011100001001111001100110000100010011001011001\n",
      "00101000111000101011110111000011000001101001110101011000100111001001100000011011000010100110011101101110001101111101010001001001010011100001001111001100110000100010011001011001\n",
      "000101000111000101011110111000011000001101001110101011000100111001001100000011011000010100110011101101110001101111101010001001001010011100001001111001100110000100010011001011001\n",
      "0000101000111000101011110111000011000001101001110101011000100111001001100000011011000010100110011101101110001101111101010001001001010011100001001111001100110000100010011001011001\n",
      "00000101000111000101011110111000011000001101001110101011000100111001001100000011011000010100110011101101110001101111101010001001001010011100001001111001100110000100010011001011001\n",
      "100000101000111000101011110111000011000001101001110101011000100111001001100000011011000010100110011101101110001101111101010001001001010011100001001111001100110000100010011001011001\n",
      "1100000101000111000101011110111000011000001101001110101011000100111001001100000011011000010100110011101101110001101111101010001001001010011100001001111001100110000100010011001011001\n",
      "11100000101000111000101011110111000011000001101001110101011000100111001001100000011011000010100110011101101110001101111101010001001001010011100001001111001100110000100010011001011001\n",
      "111100000101000111000101011110111000011000001101001110101011000100111001001100000011011000010100110011101101110001101111101010001001001010011100001001111001100110000100010011001011001\n",
      "1111100000101000111000101011110111000011000001101001110101011000100111001001100000011011000010100110011101101110001101111101010001001001010011100001001111001100110000100010011001011001\n",
      "11111100000101000111000101011110111000011000001101001110101011000100111001001100000011011000010100110011101101110001101111101010001001001010011100001001111001100110000100010011001011001\n",
      "111111100000101000111000101011110111000011000001101001110101011000100111001001100000011011000010100110011101101110001101111101010001001001010011100001001111001100110000100010011001011001\n",
      "0111111100000101000111000101011110111000011000001101001110101011000100111001001100000011011000010100110011101101110001101111101010001001001010011100001001111001100110000100010011001011001\n",
      "10111111100000101000111000101011110111000011000001101001110101011000100111001001100000011011000010100110011101101110001101111101010001001001010011100001001111001100110000100010011001011001\n",
      "010111111100000101000111000101011110111000011000001101001110101011000100111001001100000011011000010100110011101101110001101111101010001001001010011100001001111001100110000100010011001011001\n",
      "0010111111100000101000111000101011110111000011000001101001110101011000100111001001100000011011000010100110011101101110001101111101010001001001010011100001001111001100110000100010011001011001\n",
      "00010111111100000101000111000101011110111000011000001101001110101011000100111001001100000011011000010100110011101101110001101111101010001001001010011100001001111001100110000100010011001011001\n",
      "000010111111100000101000111000101011110111000011000001101001110101011000100111001001100000011011000010100110011101101110001101111101010001001001010011100001001111001100110000100010011001011001\n",
      "0000010111111100000101000111000101011110111000011000001101001110101011000100111001001100000011011000010100110011101101110001101111101010001001001010011100001001111001100110000100010011001011001\n",
      "00000010111111100000101000111000101011110111000011000001101001110101011000100111001001100000011011000010100110011101101110001101111101010001001001010011100001001111001100110000100010011001011001\n",
      "000000010111111100000101000111000101011110111000011000001101001110101011000100111001001100000011011000010100110011101101110001101111101010001001001010011100001001111001100110000100010011001011001\n",
      "0000000010111111100000101000111000101011110111000011000001101001110101011000100111001001100000011011000010100110011101101110001101111101010001001001010011100001001111001100110000100010011001011001\n",
      "00000000010111111100000101000111000101011110111000011000001101001110101011000100111001001100000011011000010100110011101101110001101111101010001001001010011100001001111001100110000100010011001011001\n",
      "100000000010111111100000101000111000101011110111000011000001101001110101011000100111001001100000011011000010100110011101101110001101111101010001001001010011100001001111001100110000100010011001011001\n",
      "0100000000010111111100000101000111000101011110111000011000001101001110101011000100111001001100000011011000010100110011101101110001101111101010001001001010011100001001111001100110000100010011001011001\n",
      "10100000000010111111100000101000111000101011110111000011000001101001110101011000100111001001100000011011000010100110011101101110001101111101010001001001010011100001001111001100110000100010011001011001\n",
      "010100000000010111111100000101000111000101011110111000011000001101001110101011000100111001001100000011011000010100110011101101110001101111101010001001001010011100001001111001100110000100010011001011001\n",
      "0010100000000010111111100000101000111000101011110111000011000001101001110101011000100111001001100000011011000010100110011101101110001101111101010001001001010011100001001111001100110000100010011001011001\n",
      "10010100000000010111111100000101000111000101011110111000011000001101001110101011000100111001001100000011011000010100110011101101110001101111101010001001001010011100001001111001100110000100010011001011001\n",
      "110010100000000010111111100000101000111000101011110111000011000001101001110101011000100111001001100000011011000010100110011101101110001101111101010001001001010011100001001111001100110000100010011001011001\n",
      "1110010100000000010111111100000101000111000101011110111000011000001101001110101011000100111001001100000011011000010100110011101101110001101111101010001001001010011100001001111001100110000100010011001011001\n",
      "01110010100000000010111111100000101000111000101011110111000011000001101001110101011000100111001001100000011011000010100110011101101110001101111101010001001001010011100001001111001100110000100010011001011001\n",
      "101110010100000000010111111100000101000111000101011110111000011000001101001110101011000100111001001100000011011000010100110011101101110001101111101010001001001010011100001001111001100110000100010011001011001\n",
      "0101110010100000000010111111100000101000111000101011110111000011000001101001110101011000100111001001100000011011000010100110011101101110001101111101010001001001010011100001001111001100110000100010011001011001\n",
      "10101110010100000000010111111100000101000111000101011110111000011000001101001110101011000100111001001100000011011000010100110011101101110001101111101010001001001010011100001001111001100110000100010011001011001\n",
      "110101110010100000000010111111100000101000111000101011110111000011000001101001110101011000100111001001100000011011000010100110011101101110001101111101010001001001010011100001001111001100110000100010011001011001\n",
      "0110101110010100000000010111111100000101000111000101011110111000011000001101001110101011000100111001001100000011011000010100110011101101110001101111101010001001001010011100001001111001100110000100010011001011001\n",
      "00110101110010100000000010111111100000101000111000101011110111000011000001101001110101011000100111001001100000011011000010100110011101101110001101111101010001001001010011100001001111001100110000100010011001011001\n",
      "100110101110010100000000010111111100000101000111000101011110111000011000001101001110101011000100111001001100000011011000010100110011101101110001101111101010001001001010011100001001111001100110000100010011001011001\n",
      "0100110101110010100000000010111111100000101000111000101011110111000011000001101001110101011000100111001001100000011011000010100110011101101110001101111101010001001001010011100001001111001100110000100010011001011001\n",
      "00100110101110010100000000010111111100000101000111000101011110111000011000001101001110101011000100111001001100000011011000010100110011101101110001101111101010001001001010011100001001111001100110000100010011001011001\n",
      "100100110101110010100000000010111111100000101000111000101011110111000011000001101001110101011000100111001001100000011011000010100110011101101110001101111101010001001001010011100001001111001100110000100010011001011001\n",
      "0100100110101110010100000000010111111100000101000111000101011110111000011000001101001110101011000100111001001100000011011000010100110011101101110001101111101010001001001010011100001001111001100110000100010011001011001\n",
      "10100100110101110010100000000010111111100000101000111000101011110111000011000001101001110101011000100111001001100000011011000010100110011101101110001101111101010001001001010011100001001111001100110000100010011001011001\n",
      "110100100110101110010100000000010111111100000101000111000101011110111000011000001101001110101011000100111001001100000011011000010100110011101101110001101111101010001001001010011100001001111001100110000100010011001011001\n",
      "0110100100110101110010100000000010111111100000101000111000101011110111000011000001101001110101011000100111001001100000011011000010100110011101101110001101111101010001001001010011100001001111001100110000100010011001011001\n",
      "10110100100110101110010100000000010111111100000101000111000101011110111000011000001101001110101011000100111001001100000011011000010100110011101101110001101111101010001001001010011100001001111001100110000100010011001011001\n",
      "110110100100110101110010100000000010111111100000101000111000101011110111000011000001101001110101011000100111001001100000011011000010100110011101101110001101111101010001001001010011100001001111001100110000100010011001011001\n",
      "1110110100100110101110010100000000010111111100000101000111000101011110111000011000001101001110101011000100111001001100000011011000010100110011101101110001101111101010001001001010011100001001111001100110000100010011001011001\n",
      "11110110100100110101110010100000000010111111100000101000111000101011110111000011000001101001110101011000100111001001100000011011000010100110011101101110001101111101010001001001010011100001001111001100110000100010011001011001\n",
      "111110110100100110101110010100000000010111111100000101000111000101011110111000011000001101001110101011000100111001001100000011011000010100110011101101110001101111101010001001001010011100001001111001100110000100010011001011001\n",
      "0111110110100100110101110010100000000010111111100000101000111000101011110111000011000001101001110101011000100111001001100000011011000010100110011101101110001101111101010001001001010011100001001111001100110000100010011001011001\n",
      "00111110110100100110101110010100000000010111111100000101000111000101011110111000011000001101001110101011000100111001001100000011011000010100110011101101110001101111101010001001001010011100001001111001100110000100010011001011001\n",
      "000111110110100100110101110010100000000010111111100000101000111000101011110111000011000001101001110101011000100111001001100000011011000010100110011101101110001101111101010001001001010011100001001111001100110000100010011001011001\n",
      "1000111110110100100110101110010100000000010111111100000101000111000101011110111000011000001101001110101011000100111001001100000011011000010100110011101101110001101111101010001001001010011100001001111001100110000100010011001011001\n",
      "11000111110110100100110101110010100000000010111111100000101000111000101011110111000011000001101001110101011000100111001001100000011011000010100110011101101110001101111101010001001001010011100001001111001100110000100010011001011001\n",
      "011000111110110100100110101110010100000000010111111100000101000111000101011110111000011000001101001110101011000100111001001100000011011000010100110011101101110001101111101010001001001010011100001001111001100110000100010011001011001\n",
      "0011000111110110100100110101110010100000000010111111100000101000111000101011110111000011000001101001110101011000100111001001100000011011000010100110011101101110001101111101010001001001010011100001001111001100110000100010011001011001\n",
      "10011000111110110100100110101110010100000000010111111100000101000111000101011110111000011000001101001110101011000100111001001100000011011000010100110011101101110001101111101010001001001010011100001001111001100110000100010011001011001\n",
      "110011000111110110100100110101110010100000000010111111100000101000111000101011110111000011000001101001110101011000100111001001100000011011000010100110011101101110001101111101010001001001010011100001001111001100110000100010011001011001\n",
      "1110011000111110110100100110101110010100000000010111111100000101000111000101011110111000011000001101001110101011000100111001001100000011011000010100110011101101110001101111101010001001001010011100001001111001100110000100010011001011001\n",
      "01110011000111110110100100110101110010100000000010111111100000101000111000101011110111000011000001101001110101011000100111001001100000011011000010100110011101101110001101111101010001001001010011100001001111001100110000100010011001011001\n",
      "001110011000111110110100100110101110010100000000010111111100000101000111000101011110111000011000001101001110101011000100111001001100000011011000010100110011101101110001101111101010001001001010011100001001111001100110000100010011001011001\n",
      "1001110011000111110110100100110101110010100000000010111111100000101000111000101011110111000011000001101001110101011000100111001001100000011011000010100110011101101110001101111101010001001001010011100001001111001100110000100010011001011001\n",
      "11001110011000111110110100100110101110010100000000010111111100000101000111000101011110111000011000001101001110101011000100111001001100000011011000010100110011101101110001101111101010001001001010011100001001111001100110000100010011001011001\n",
      "011001110011000111110110100100110101110010100000000010111111100000101000111000101011110111000011000001101001110101011000100111001001100000011011000010100110011101101110001101111101010001001001010011100001001111001100110000100010011001011001\n",
      "1011001110011000111110110100100110101110010100000000010111111100000101000111000101011110111000011000001101001110101011000100111001001100000011011000010100110011101101110001101111101010001001001010011100001001111001100110000100010011001011001\n",
      "11011001110011000111110110100100110101110010100000000010111111100000101000111000101011110111000011000001101001110101011000100111001001100000011011000010100110011101101110001101111101010001001001010011100001001111001100110000100010011001011001\n",
      "111011001110011000111110110100100110101110010100000000010111111100000101000111000101011110111000011000001101001110101011000100111001001100000011011000010100110011101101110001101111101010001001001010011100001001111001100110000100010011001011001\n",
      "1111011001110011000111110110100100110101110010100000000010111111100000101000111000101011110111000011000001101001110101011000100111001001100000011011000010100110011101101110001101111101010001001001010011100001001111001100110000100010011001011001\n",
      "01111011001110011000111110110100100110101110010100000000010111111100000101000111000101011110111000011000001101001110101011000100111001001100000011011000010100110011101101110001101111101010001001001010011100001001111001100110000100010011001011001\n",
      "101111011001110011000111110110100100110101110010100000000010111111100000101000111000101011110111000011000001101001110101011000100111001001100000011011000010100110011101101110001101111101010001001001010011100001001111001100110000100010011001011001\n",
      "1101111011001110011000111110110100100110101110010100000000010111111100000101000111000101011110111000011000001101001110101011000100111001001100000011011000010100110011101101110001101111101010001001001010011100001001111001100110000100010011001011001\n",
      "11101111011001110011000111110110100100110101110010100000000010111111100000101000111000101011110111000011000001101001110101011000100111001001100000011011000010100110011101101110001101111101010001001001010011100001001111001100110000100010011001011001\n",
      "111101111011001110011000111110110100100110101110010100000000010111111100000101000111000101011110111000011000001101001110101011000100111001001100000011011000010100110011101101110001101111101010001001001010011100001001111001100110000100010011001011001\n",
      "0111101111011001110011000111110110100100110101110010100000000010111111100000101000111000101011110111000011000001101001110101011000100111001001100000011011000010100110011101101110001101111101010001001001010011100001001111001100110000100010011001011001\n",
      "00111101111011001110011000111110110100100110101110010100000000010111111100000101000111000101011110111000011000001101001110101011000100111001001100000011011000010100110011101101110001101111101010001001001010011100001001111001100110000100010011001011001\n",
      "000111101111011001110011000111110110100100110101110010100000000010111111100000101000111000101011110111000011000001101001110101011000100111001001100000011011000010100110011101101110001101111101010001001001010011100001001111001100110000100010011001011001\n",
      "0000111101111011001110011000111110110100100110101110010100000000010111111100000101000111000101011110111000011000001101001110101011000100111001001100000011011000010100110011101101110001101111101010001001001010011100001001111001100110000100010011001011001\n",
      "00000111101111011001110011000111110110100100110101110010100000000010111111100000101000111000101011110111000011000001101001110101011000100111001001100000011011000010100110011101101110001101111101010001001001010011100001001111001100110000100010011001011001\n",
      "000000111101111011001110011000111110110100100110101110010100000000010111111100000101000111000101011110111000011000001101001110101011000100111001001100000011011000010100110011101101110001101111101010001001001010011100001001111001100110000100010011001011001\n",
      "1000000111101111011001110011000111110110100100110101110010100000000010111111100000101000111000101011110111000011000001101001110101011000100111001001100000011011000010100110011101101110001101111101010001001001010011100001001111001100110000100010011001011001\n",
      "01000000111101111011001110011000111110110100100110101110010100000000010111111100000101000111000101011110111000011000001101001110101011000100111001001100000011011000010100110011101101110001101111101010001001001010011100001001111001100110000100010011001011001\n",
      "001000000111101111011001110011000111110110100100110101110010100000000010111111100000101000111000101011110111000011000001101001110101011000100111001001100000011011000010100110011101101110001101111101010001001001010011100001001111001100110000100010011001011001\n",
      "1001000000111101111011001110011000111110110100100110101110010100000000010111111100000101000111000101011110111000011000001101001110101011000100111001001100000011011000010100110011101101110001101111101010001001001010011100001001111001100110000100010011001011001\n",
      "11001000000111101111011001110011000111110110100100110101110010100000000010111111100000101000111000101011110111000011000001101001110101011000100111001001100000011011000010100110011101101110001101111101010001001001010011100001001111001100110000100010011001011001\n",
      "011001000000111101111011001110011000111110110100100110101110010100000000010111111100000101000111000101011110111000011000001101001110101011000100111001001100000011011000010100110011101101110001101111101010001001001010011100001001111001100110000100010011001011001\n",
      "1011001000000111101111011001110011000111110110100100110101110010100000000010111111100000101000111000101011110111000011000001101001110101011000100111001001100000011011000010100110011101101110001101111101010001001001010011100001001111001100110000100010011001011001\n",
      "01011001000000111101111011001110011000111110110100100110101110010100000000010111111100000101000111000101011110111000011000001101001110101011000100111001001100000011011000010100110011101101110001101111101010001001001010011100001001111001100110000100010011001011001\n",
      "001011001000000111101111011001110011000111110110100100110101110010100000000010111111100000101000111000101011110111000011000001101001110101011000100111001001100000011011000010100110011101101110001101111101010001001001010011100001001111001100110000100010011001011001\n",
      "1001011001000000111101111011001110011000111110110100100110101110010100000000010111111100000101000111000101011110111000011000001101001110101011000100111001001100000011011000010100110011101101110001101111101010001001001010011100001001111001100110000100010011001011001\n",
      "11001011001000000111101111011001110011000111110110100100110101110010100000000010111111100000101000111000101011110111000011000001101001110101011000100111001001100000011011000010100110011101101110001101111101010001001001010011100001001111001100110000100010011001011001\n",
      "011001011001000000111101111011001110011000111110110100100110101110010100000000010111111100000101000111000101011110111000011000001101001110101011000100111001001100000011011000010100110011101101110001101111101010001001001010011100001001111001100110000100010011001011001\n",
      "0011001011001000000111101111011001110011000111110110100100110101110010100000000010111111100000101000111000101011110111000011000001101001110101011000100111001001100000011011000010100110011101101110001101111101010001001001010011100001001111001100110000100010011001011001\n",
      "10011001011001000000111101111011001110011000111110110100100110101110010100000000010111111100000101000111000101011110111000011000001101001110101011000100111001001100000011011000010100110011101101110001101111101010001001001010011100001001111001100110000100010011001011001\n",
      "010011001011001000000111101111011001110011000111110110100100110101110010100000000010111111100000101000111000101011110111000011000001101001110101011000100111001001100000011011000010100110011101101110001101111101010001001001010011100001001111001100110000100010011001011001\n",
      "0010011001011001000000111101111011001110011000111110110100100110101110010100000000010111111100000101000111000101011110111000011000001101001110101011000100111001001100000011011000010100110011101101110001101111101010001001001010011100001001111001100110000100010011001011001\n",
      "00010011001011001000000111101111011001110011000111110110100100110101110010100000000010111111100000101000111000101011110111000011000001101001110101011000100111001001100000011011000010100110011101101110001101111101010001001001010011100001001111001100110000100010011001011001\n",
      "100010011001011001000000111101111011001110011000111110110100100110101110010100000000010111111100000101000111000101011110111000011000001101001110101011000100111001001100000011011000010100110011101101110001101111101010001001001010011100001001111001100110000100010011001011001\n",
      "0100010011001011001000000111101111011001110011000111110110100100110101110010100000000010111111100000101000111000101011110111000011000001101001110101011000100111001001100000011011000010100110011101101110001101111101010001001001010011100001001111001100110000100010011001011001\n",
      "00100010011001011001000000111101111011001110011000111110110100100110101110010100000000010111111100000101000111000101011110111000011000001101001110101011000100111001001100000011011000010100110011101101110001101111101010001001001010011100001001111001100110000100010011001011001\n",
      "000100010011001011001000000111101111011001110011000111110110100100110101110010100000000010111111100000101000111000101011110111000011000001101001110101011000100111001001100000011011000010100110011101101110001101111101010001001001010011100001001111001100110000100010011001011001\n",
      "0000100010011001011001000000111101111011001110011000111110110100100110101110010100000000010111111100000101000111000101011110111000011000001101001110101011000100111001001100000011011000010100110011101101110001101111101010001001001010011100001001111001100110000100010011001011001\n",
      "10000100010011001011001000000111101111011001110011000111110110100100110101110010100000000010111111100000101000111000101011110111000011000001101001110101011000100111001001100000011011000010100110011101101110001101111101010001001001010011100001001111001100110000100010011001011001\n",
      "110000100010011001011001000000111101111011001110011000111110110100100110101110010100000000010111111100000101000111000101011110111000011000001101001110101011000100111001001100000011011000010100110011101101110001101111101010001001001010011100001001111001100110000100010011001011001\n",
      "0110000100010011001011001000000111101111011001110011000111110110100100110101110010100000000010111111100000101000111000101011110111000011000001101001110101011000100111001001100000011011000010100110011101101110001101111101010001001001010011100001001111001100110000100010011001011001\n",
      "00110000100010011001011001000000111101111011001110011000111110110100100110101110010100000000010111111100000101000111000101011110111000011000001101001110101011000100111001001100000011011000010100110011101101110001101111101010001001001010011100001001111001100110000100010011001011001\n",
      "100110000100010011001011001000000111101111011001110011000111110110100100110101110010100000000010111111100000101000111000101011110111000011000001101001110101011000100111001001100000011011000010100110011101101110001101111101010001001001010011100001001111001100110000100010011001011001\n",
      "1100110000100010011001011001000000111101111011001110011000111110110100100110101110010100000000010111111100000101000111000101011110111000011000001101001110101011000100111001001100000011011000010100110011101101110001101111101010001001001010011100001001111001100110000100010011001011001\n",
      "01100110000100010011001011001000000111101111011001110011000111110110100100110101110010100000000010111111100000101000111000101011110111000011000001101001110101011000100111001001100000011011000010100110011101101110001101111101010001001001010011100001001111001100110000100010011001011001\n",
      "001100110000100010011001011001000000111101111011001110011000111110110100100110101110010100000000010111111100000101000111000101011110111000011000001101001110101011000100111001001100000011011000010100110011101101110001101111101010001001001010011100001001111001100110000100010011001011001\n",
      "1001100110000100010011001011001000000111101111011001110011000111110110100100110101110010100000000010111111100000101000111000101011110111000011000001101001110101011000100111001001100000011011000010100110011101101110001101111101010001001001010011100001001111001100110000100010011001011001\n",
      "11001100110000100010011001011001000000111101111011001110011000111110110100100110101110010100000000010111111100000101000111000101011110111000011000001101001110101011000100111001001100000011011000010100110011101101110001101111101010001001001010011100001001111001100110000100010011001011001\n",
      "111001100110000100010011001011001000000111101111011001110011000111110110100100110101110010100000000010111111100000101000111000101011110111000011000001101001110101011000100111001001100000011011000010100110011101101110001101111101010001001001010011100001001111001100110000100010011001011001\n",
      "1111001100110000100010011001011001000000111101111011001110011000111110110100100110101110010100000000010111111100000101000111000101011110111000011000001101001110101011000100111001001100000011011000010100110011101101110001101111101010001001001010011100001001111001100110000100010011001011001\n",
      "01111001100110000100010011001011001000000111101111011001110011000111110110100100110101110010100000000010111111100000101000111000101011110111000011000001101001110101011000100111001001100000011011000010100110011101101110001101111101010001001001010011100001001111001100110000100010011001011001\n",
      "001111001100110000100010011001011001000000111101111011001110011000111110110100100110101110010100000000010111111100000101000111000101011110111000011000001101001110101011000100111001001100000011011000010100110011101101110001101111101010001001001010011100001001111001100110000100010011001011001\n",
      "1001111001100110000100010011001011001000000111101111011001110011000111110110100100110101110010100000000010111111100000101000111000101011110111000011000001101001110101011000100111001001100000011011000010100110011101101110001101111101010001001001010011100001001111001100110000100010011001011001\n",
      "01001111001100110000100010011001011001000000111101111011001110011000111110110100100110101110010100000000010111111100000101000111000101011110111000011000001101001110101011000100111001001100000011011000010100110011101101110001101111101010001001001010011100001001111001100110000100010011001011001\n",
      "001001111001100110000100010011001011001000000111101111011001110011000111110110100100110101110010100000000010111111100000101000111000101011110111000011000001101001110101011000100111001001100000011011000010100110011101101110001101111101010001001001010011100001001111001100110000100010011001011001\n",
      "0001001111001100110000100010011001011001000000111101111011001110011000111110110100100110101110010100000000010111111100000101000111000101011110111000011000001101001110101011000100111001001100000011011000010100110011101101110001101111101010001001001010011100001001111001100110000100010011001011001\n",
      "00001001111001100110000100010011001011001000000111101111011001110011000111110110100100110101110010100000000010111111100000101000111000101011110111000011000001101001110101011000100111001001100000011011000010100110011101101110001101111101010001001001010011100001001111001100110000100010011001011001\n",
      "100001001111001100110000100010011001011001000000111101111011001110011000111110110100100110101110010100000000010111111100000101000111000101011110111000011000001101001110101011000100111001001100000011011000010100110011101101110001101111101010001001001010011100001001111001100110000100010011001011001\n",
      "1100001001111001100110000100010011001011001000000111101111011001110011000111110110100100110101110010100000000010111111100000101000111000101011110111000011000001101001110101011000100111001001100000011011000010100110011101101110001101111101010001001001010011100001001111001100110000100010011001011001\n",
      "11100001001111001100110000100010011001011001000000111101111011001110011000111110110100100110101110010100000000010111111100000101000111000101011110111000011000001101001110101011000100111001001100000011011000010100110011101101110001101111101010001001001010011100001001111001100110000100010011001011001\n",
      "011100001001111001100110000100010011001011001000000111101111011001110011000111110110100100110101110010100000000010111111100000101000111000101011110111000011000001101001110101011000100111001001100000011011000010100110011101101110001101111101010001001001010011100001001111001100110000100010011001011001\n",
      "0011100001001111001100110000100010011001011001000000111101111011001110011000111110110100100110101110010100000000010111111100000101000111000101011110111000011000001101001110101011000100111001001100000011011000010100110011101101110001101111101010001001001010011100001001111001100110000100010011001011001\n",
      "10011100001001111001100110000100010011001011001000000111101111011001110011000111110110100100110101110010100000000010111111100000101000111000101011110111000011000001101001110101011000100111001001100000011011000010100110011101101110001101111101010001001001010011100001001111001100110000100010011001011001\n",
      "010011100001001111001100110000100010011001011001000000111101111011001110011000111110110100100110101110010100000000010111111100000101000111000101011110111000011000001101001110101011000100111001001100000011011000010100110011101101110001101111101010001001001010011100001001111001100110000100010011001011001\n",
      "1010011100001001111001100110000100010011001011001000000111101111011001110011000111110110100100110101110010100000000010111111100000101000111000101011110111000011000001101001110101011000100111001001100000011011000010100110011101101110001101111101010001001001010011100001001111001100110000100010011001011001\n",
      "01010011100001001111001100110000100010011001011001000000111101111011001110011000111110110100100110101110010100000000010111111100000101000111000101011110111000011000001101001110101011000100111001001100000011011000010100110011101101110001101111101010001001001010011100001001111001100110000100010011001011001\n",
      "001010011100001001111001100110000100010011001011001000000111101111011001110011000111110110100100110101110010100000000010111111100000101000111000101011110111000011000001101001110101011000100111001001100000011011000010100110011101101110001101111101010001001001010011100001001111001100110000100010011001011001\n",
      "1001010011100001001111001100110000100010011001011001000000111101111011001110011000111110110100100110101110010100000000010111111100000101000111000101011110111000011000001101001110101011000100111001001100000011011000010100110011101101110001101111101010001001001010011100001001111001100110000100010011001011001\n",
      "01001010011100001001111001100110000100010011001011001000000111101111011001110011000111110110100100110101110010100000000010111111100000101000111000101011110111000011000001101001110101011000100111001001100000011011000010100110011101101110001101111101010001001001010011100001001111001100110000100010011001011001\n",
      "001001010011100001001111001100110000100010011001011001000000111101111011001110011000111110110100100110101110010100000000010111111100000101000111000101011110111000011000001101001110101011000100111001001100000011011000010100110011101101110001101111101010001001001010011100001001111001100110000100010011001011001\n",
      "1001001010011100001001111001100110000100010011001011001000000111101111011001110011000111110110100100110101110010100000000010111111100000101000111000101011110111000011000001101001110101011000100111001001100000011011000010100110011101101110001101111101010001001001010011100001001111001100110000100010011001011001\n",
      "01001001010011100001001111001100110000100010011001011001000000111101111011001110011000111110110100100110101110010100000000010111111100000101000111000101011110111000011000001101001110101011000100111001001100000011011000010100110011101101110001101111101010001001001010011100001001111001100110000100010011001011001\n",
      "001001001010011100001001111001100110000100010011001011001000000111101111011001110011000111110110100100110101110010100000000010111111100000101000111000101011110111000011000001101001110101011000100111001001100000011011000010100110011101101110001101111101010001001001010011100001001111001100110000100010011001011001\n",
      "0001001001010011100001001111001100110000100010011001011001000000111101111011001110011000111110110100100110101110010100000000010111111100000101000111000101011110111000011000001101001110101011000100111001001100000011011000010100110011101101110001101111101010001001001010011100001001111001100110000100010011001011001\n",
      "10001001001010011100001001111001100110000100010011001011001000000111101111011001110011000111110110100100110101110010100000000010111111100000101000111000101011110111000011000001101001110101011000100111001001100000011011000010100110011101101110001101111101010001001001010011100001001111001100110000100010011001011001\n",
      "010001001001010011100001001111001100110000100010011001011001000000111101111011001110011000111110110100100110101110010100000000010111111100000101000111000101011110111000011000001101001110101011000100111001001100000011011000010100110011101101110001101111101010001001001010011100001001111001100110000100010011001011001\n",
      "1010001001001010011100001001111001100110000100010011001011001000000111101111011001110011000111110110100100110101110010100000000010111111100000101000111000101011110111000011000001101001110101011000100111001001100000011011000010100110011101101110001101111101010001001001010011100001001111001100110000100010011001011001\n",
      "01010001001001010011100001001111001100110000100010011001011001000000111101111011001110011000111110110100100110101110010100000000010111111100000101000111000101011110111000011000001101001110101011000100111001001100000011011000010100110011101101110001101111101010001001001010011100001001111001100110000100010011001011001\n",
      "101010001001001010011100001001111001100110000100010011001011001000000111101111011001110011000111110110100100110101110010100000000010111111100000101000111000101011110111000011000001101001110101011000100111001001100000011011000010100110011101101110001101111101010001001001010011100001001111001100110000100010011001011001\n",
      "1101010001001001010011100001001111001100110000100010011001011001000000111101111011001110011000111110110100100110101110010100000000010111111100000101000111000101011110111000011000001101001110101011000100111001001100000011011000010100110011101101110001101111101010001001001010011100001001111001100110000100010011001011001\n",
      "11101010001001001010011100001001111001100110000100010011001011001000000111101111011001110011000111110110100100110101110010100000000010111111100000101000111000101011110111000011000001101001110101011000100111001001100000011011000010100110011101101110001101111101010001001001010011100001001111001100110000100010011001011001\n",
      "111101010001001001010011100001001111001100110000100010011001011001000000111101111011001110011000111110110100100110101110010100000000010111111100000101000111000101011110111000011000001101001110101011000100111001001100000011011000010100110011101101110001101111101010001001001010011100001001111001100110000100010011001011001\n",
      "1111101010001001001010011100001001111001100110000100010011001011001000000111101111011001110011000111110110100100110101110010100000000010111111100000101000111000101011110111000011000001101001110101011000100111001001100000011011000010100110011101101110001101111101010001001001010011100001001111001100110000100010011001011001\n",
      "01111101010001001001010011100001001111001100110000100010011001011001000000111101111011001110011000111110110100100110101110010100000000010111111100000101000111000101011110111000011000001101001110101011000100111001001100000011011000010100110011101101110001101111101010001001001010011100001001111001100110000100010011001011001\n",
      "101111101010001001001010011100001001111001100110000100010011001011001000000111101111011001110011000111110110100100110101110010100000000010111111100000101000111000101011110111000011000001101001110101011000100111001001100000011011000010100110011101101110001101111101010001001001010011100001001111001100110000100010011001011001\n",
      "1101111101010001001001010011100001001111001100110000100010011001011001000000111101111011001110011000111110110100100110101110010100000000010111111100000101000111000101011110111000011000001101001110101011000100111001001100000011011000010100110011101101110001101111101010001001001010011100001001111001100110000100010011001011001\n",
      "01101111101010001001001010011100001001111001100110000100010011001011001000000111101111011001110011000111110110100100110101110010100000000010111111100000101000111000101011110111000011000001101001110101011000100111001001100000011011000010100110011101101110001101111101010001001001010011100001001111001100110000100010011001011001\n",
      "001101111101010001001001010011100001001111001100110000100010011001011001000000111101111011001110011000111110110100100110101110010100000000010111111100000101000111000101011110111000011000001101001110101011000100111001001100000011011000010100110011101101110001101111101010001001001010011100001001111001100110000100010011001011001\n",
      "0001101111101010001001001010011100001001111001100110000100010011001011001000000111101111011001110011000111110110100100110101110010100000000010111111100000101000111000101011110111000011000001101001110101011000100111001001100000011011000010100110011101101110001101111101010001001001010011100001001111001100110000100010011001011001\n",
      "10001101111101010001001001010011100001001111001100110000100010011001011001000000111101111011001110011000111110110100100110101110010100000000010111111100000101000111000101011110111000011000001101001110101011000100111001001100000011011000010100110011101101110001101111101010001001001010011100001001111001100110000100010011001011001\n",
      "110001101111101010001001001010011100001001111001100110000100010011001011001000000111101111011001110011000111110110100100110101110010100000000010111111100000101000111000101011110111000011000001101001110101011000100111001001100000011011000010100110011101101110001101111101010001001001010011100001001111001100110000100010011001011001\n",
      "1110001101111101010001001001010011100001001111001100110000100010011001011001000000111101111011001110011000111110110100100110101110010100000000010111111100000101000111000101011110111000011000001101001110101011000100111001001100000011011000010100110011101101110001101111101010001001001010011100001001111001100110000100010011001011001\n",
      "01110001101111101010001001001010011100001001111001100110000100010011001011001000000111101111011001110011000111110110100100110101110010100000000010111111100000101000111000101011110111000011000001101001110101011000100111001001100000011011000010100110011101101110001101111101010001001001010011100001001111001100110000100010011001011001\n",
      "101110001101111101010001001001010011100001001111001100110000100010011001011001000000111101111011001110011000111110110100100110101110010100000000010111111100000101000111000101011110111000011000001101001110101011000100111001001100000011011000010100110011101101110001101111101010001001001010011100001001111001100110000100010011001011001\n",
      "1101110001101111101010001001001010011100001001111001100110000100010011001011001000000111101111011001110011000111110110100100110101110010100000000010111111100000101000111000101011110111000011000001101001110101011000100111001001100000011011000010100110011101101110001101111101010001001001010011100001001111001100110000100010011001011001\n",
      "01101110001101111101010001001001010011100001001111001100110000100010011001011001000000111101111011001110011000111110110100100110101110010100000000010111111100000101000111000101011110111000011000001101001110101011000100111001001100000011011000010100110011101101110001101111101010001001001010011100001001111001100110000100010011001011001\n",
      "101101110001101111101010001001001010011100001001111001100110000100010011001011001000000111101111011001110011000111110110100100110101110010100000000010111111100000101000111000101011110111000011000001101001110101011000100111001001100000011011000010100110011101101110001101111101010001001001010011100001001111001100110000100010011001011001\n",
      "1101101110001101111101010001001001010011100001001111001100110000100010011001011001000000111101111011001110011000111110110100100110101110010100000000010111111100000101000111000101011110111000011000001101001110101011000100111001001100000011011000010100110011101101110001101111101010001001001010011100001001111001100110000100010011001011001\n",
      "11101101110001101111101010001001001010011100001001111001100110000100010011001011001000000111101111011001110011000111110110100100110101110010100000000010111111100000101000111000101011110111000011000001101001110101011000100111001001100000011011000010100110011101101110001101111101010001001001010011100001001111001100110000100010011001011001\n",
      "011101101110001101111101010001001001010011100001001111001100110000100010011001011001000000111101111011001110011000111110110100100110101110010100000000010111111100000101000111000101011110111000011000001101001110101011000100111001001100000011011000010100110011101101110001101111101010001001001010011100001001111001100110000100010011001011001\n",
      "0011101101110001101111101010001001001010011100001001111001100110000100010011001011001000000111101111011001110011000111110110100100110101110010100000000010111111100000101000111000101011110111000011000001101001110101011000100111001001100000011011000010100110011101101110001101111101010001001001010011100001001111001100110000100010011001011001\n",
      "10011101101110001101111101010001001001010011100001001111001100110000100010011001011001000000111101111011001110011000111110110100100110101110010100000000010111111100000101000111000101011110111000011000001101001110101011000100111001001100000011011000010100110011101101110001101111101010001001001010011100001001111001100110000100010011001011001\n",
      "110011101101110001101111101010001001001010011100001001111001100110000100010011001011001000000111101111011001110011000111110110100100110101110010100000000010111111100000101000111000101011110111000011000001101001110101011000100111001001100000011011000010100110011101101110001101111101010001001001010011100001001111001100110000100010011001011001\n",
      "0110011101101110001101111101010001001001010011100001001111001100110000100010011001011001000000111101111011001110011000111110110100100110101110010100000000010111111100000101000111000101011110111000011000001101001110101011000100111001001100000011011000010100110011101101110001101111101010001001001010011100001001111001100110000100010011001011001\n",
      "00110011101101110001101111101010001001001010011100001001111001100110000100010011001011001000000111101111011001110011000111110110100100110101110010100000000010111111100000101000111000101011110111000011000001101001110101011000100111001001100000011011000010100110011101101110001101111101010001001001010011100001001111001100110000100010011001011001\n",
      "100110011101101110001101111101010001001001010011100001001111001100110000100010011001011001000000111101111011001110011000111110110100100110101110010100000000010111111100000101000111000101011110111000011000001101001110101011000100111001001100000011011000010100110011101101110001101111101010001001001010011100001001111001100110000100010011001011001\n",
      "0100110011101101110001101111101010001001001010011100001001111001100110000100010011001011001000000111101111011001110011000111110110100100110101110010100000000010111111100000101000111000101011110111000011000001101001110101011000100111001001100000011011000010100110011101101110001101111101010001001001010011100001001111001100110000100010011001011001\n",
      "10100110011101101110001101111101010001001001010011100001001111001100110000100010011001011001000000111101111011001110011000111110110100100110101110010100000000010111111100000101000111000101011110111000011000001101001110101011000100111001001100000011011000010100110011101101110001101111101010001001001010011100001001111001100110000100010011001011001\n",
      "010100110011101101110001101111101010001001001010011100001001111001100110000100010011001011001000000111101111011001110011000111110110100100110101110010100000000010111111100000101000111000101011110111000011000001101001110101011000100111001001100000011011000010100110011101101110001101111101010001001001010011100001001111001100110000100010011001011001\n",
      "0010100110011101101110001101111101010001001001010011100001001111001100110000100010011001011001000000111101111011001110011000111110110100100110101110010100000000010111111100000101000111000101011110111000011000001101001110101011000100111001001100000011011000010100110011101101110001101111101010001001001010011100001001111001100110000100010011001011001\n",
      "00010100110011101101110001101111101010001001001010011100001001111001100110000100010011001011001000000111101111011001110011000111110110100100110101110010100000000010111111100000101000111000101011110111000011000001101001110101011000100111001001100000011011000010100110011101101110001101111101010001001001010011100001001111001100110000100010011001011001\n",
      "000010100110011101101110001101111101010001001001010011100001001111001100110000100010011001011001000000111101111011001110011000111110110100100110101110010100000000010111111100000101000111000101011110111000011000001101001110101011000100111001001100000011011000010100110011101101110001101111101010001001001010011100001001111001100110000100010011001011001\n",
      "1000010100110011101101110001101111101010001001001010011100001001111001100110000100010011001011001000000111101111011001110011000111110110100100110101110010100000000010111111100000101000111000101011110111000011000001101001110101011000100111001001100000011011000010100110011101101110001101111101010001001001010011100001001111001100110000100010011001011001\n",
      "11000010100110011101101110001101111101010001001001010011100001001111001100110000100010011001011001000000111101111011001110011000111110110100100110101110010100000000010111111100000101000111000101011110111000011000001101001110101011000100111001001100000011011000010100110011101101110001101111101010001001001010011100001001111001100110000100010011001011001\n",
      "011000010100110011101101110001101111101010001001001010011100001001111001100110000100010011001011001000000111101111011001110011000111110110100100110101110010100000000010111111100000101000111000101011110111000011000001101001110101011000100111001001100000011011000010100110011101101110001101111101010001001001010011100001001111001100110000100010011001011001\n",
      "1011000010100110011101101110001101111101010001001001010011100001001111001100110000100010011001011001000000111101111011001110011000111110110100100110101110010100000000010111111100000101000111000101011110111000011000001101001110101011000100111001001100000011011000010100110011101101110001101111101010001001001010011100001001111001100110000100010011001011001\n",
      "11011000010100110011101101110001101111101010001001001010011100001001111001100110000100010011001011001000000111101111011001110011000111110110100100110101110010100000000010111111100000101000111000101011110111000011000001101001110101011000100111001001100000011011000010100110011101101110001101111101010001001001010011100001001111001100110000100010011001011001\n",
      "011011000010100110011101101110001101111101010001001001010011100001001111001100110000100010011001011001000000111101111011001110011000111110110100100110101110010100000000010111111100000101000111000101011110111000011000001101001110101011000100111001001100000011011000010100110011101101110001101111101010001001001010011100001001111001100110000100010011001011001\n",
      "0011011000010100110011101101110001101111101010001001001010011100001001111001100110000100010011001011001000000111101111011001110011000111110110100100110101110010100000000010111111100000101000111000101011110111000011000001101001110101011000100111001001100000011011000010100110011101101110001101111101010001001001010011100001001111001100110000100010011001011001\n",
      "00011011000010100110011101101110001101111101010001001001010011100001001111001100110000100010011001011001000000111101111011001110011000111110110100100110101110010100000000010111111100000101000111000101011110111000011000001101001110101011000100111001001100000011011000010100110011101101110001101111101010001001001010011100001001111001100110000100010011001011001\n",
      "000011011000010100110011101101110001101111101010001001001010011100001001111001100110000100010011001011001000000111101111011001110011000111110110100100110101110010100000000010111111100000101000111000101011110111000011000001101001110101011000100111001001100000011011000010100110011101101110001101111101010001001001010011100001001111001100110000100010011001011001\n",
      "0000011011000010100110011101101110001101111101010001001001010011100001001111001100110000100010011001011001000000111101111011001110011000111110110100100110101110010100000000010111111100000101000111000101011110111000011000001101001110101011000100111001001100000011011000010100110011101101110001101111101010001001001010011100001001111001100110000100010011001011001\n",
      "00000011011000010100110011101101110001101111101010001001001010011100001001111001100110000100010011001011001000000111101111011001110011000111110110100100110101110010100000000010111111100000101000111000101011110111000011000001101001110101011000100111001001100000011011000010100110011101101110001101111101010001001001010011100001001111001100110000100010011001011001\n",
      "100000011011000010100110011101101110001101111101010001001001010011100001001111001100110000100010011001011001000000111101111011001110011000111110110100100110101110010100000000010111111100000101000111000101011110111000011000001101001110101011000100111001001100000011011000010100110011101101110001101111101010001001001010011100001001111001100110000100010011001011001\n",
      "1100000011011000010100110011101101110001101111101010001001001010011100001001111001100110000100010011001011001000000111101111011001110011000111110110100100110101110010100000000010111111100000101000111000101011110111000011000001101001110101011000100111001001100000011011000010100110011101101110001101111101010001001001010011100001001111001100110000100010011001011001\n",
      "01100000011011000010100110011101101110001101111101010001001001010011100001001111001100110000100010011001011001000000111101111011001110011000111110110100100110101110010100000000010111111100000101000111000101011110111000011000001101001110101011000100111001001100000011011000010100110011101101110001101111101010001001001010011100001001111001100110000100010011001011001\n",
      "001100000011011000010100110011101101110001101111101010001001001010011100001001111001100110000100010011001011001000000111101111011001110011000111110110100100110101110010100000000010111111100000101000111000101011110111000011000001101001110101011000100111001001100000011011000010100110011101101110001101111101010001001001010011100001001111001100110000100010011001011001\n",
      "1001100000011011000010100110011101101110001101111101010001001001010011100001001111001100110000100010011001011001000000111101111011001110011000111110110100100110101110010100000000010111111100000101000111000101011110111000011000001101001110101011000100111001001100000011011000010100110011101101110001101111101010001001001010011100001001111001100110000100010011001011001\n",
      "01001100000011011000010100110011101101110001101111101010001001001010011100001001111001100110000100010011001011001000000111101111011001110011000111110110100100110101110010100000000010111111100000101000111000101011110111000011000001101001110101011000100111001001100000011011000010100110011101101110001101111101010001001001010011100001001111001100110000100010011001011001\n",
      "001001100000011011000010100110011101101110001101111101010001001001010011100001001111001100110000100010011001011001000000111101111011001110011000111110110100100110101110010100000000010111111100000101000111000101011110111000011000001101001110101011000100111001001100000011011000010100110011101101110001101111101010001001001010011100001001111001100110000100010011001011001\n",
      "1001001100000011011000010100110011101101110001101111101010001001001010011100001001111001100110000100010011001011001000000111101111011001110011000111110110100100110101110010100000000010111111100000101000111000101011110111000011000001101001110101011000100111001001100000011011000010100110011101101110001101111101010001001001010011100001001111001100110000100010011001011001\n",
      "11001001100000011011000010100110011101101110001101111101010001001001010011100001001111001100110000100010011001011001000000111101111011001110011000111110110100100110101110010100000000010111111100000101000111000101011110111000011000001101001110101011000100111001001100000011011000010100110011101101110001101111101010001001001010011100001001111001100110000100010011001011001\n",
      "111001001100000011011000010100110011101101110001101111101010001001001010011100001001111001100110000100010011001011001000000111101111011001110011000111110110100100110101110010100000000010111111100000101000111000101011110111000011000001101001110101011000100111001001100000011011000010100110011101101110001101111101010001001001010011100001001111001100110000100010011001011001\n",
      "0111001001100000011011000010100110011101101110001101111101010001001001010011100001001111001100110000100010011001011001000000111101111011001110011000111110110100100110101110010100000000010111111100000101000111000101011110111000011000001101001110101011000100111001001100000011011000010100110011101101110001101111101010001001001010011100001001111001100110000100010011001011001\n",
      "00111001001100000011011000010100110011101101110001101111101010001001001010011100001001111001100110000100010011001011001000000111101111011001110011000111110110100100110101110010100000000010111111100000101000111000101011110111000011000001101001110101011000100111001001100000011011000010100110011101101110001101111101010001001001010011100001001111001100110000100010011001011001\n",
      "100111001001100000011011000010100110011101101110001101111101010001001001010011100001001111001100110000100010011001011001000000111101111011001110011000111110110100100110101110010100000000010111111100000101000111000101011110111000011000001101001110101011000100111001001100000011011000010100110011101101110001101111101010001001001010011100001001111001100110000100010011001011001\n",
      "0100111001001100000011011000010100110011101101110001101111101010001001001010011100001001111001100110000100010011001011001000000111101111011001110011000111110110100100110101110010100000000010111111100000101000111000101011110111000011000001101001110101011000100111001001100000011011000010100110011101101110001101111101010001001001010011100001001111001100110000100010011001011001\n",
      "00100111001001100000011011000010100110011101101110001101111101010001001001010011100001001111001100110000100010011001011001000000111101111011001110011000111110110100100110101110010100000000010111111100000101000111000101011110111000011000001101001110101011000100111001001100000011011000010100110011101101110001101111101010001001001010011100001001111001100110000100010011001011001\n",
      "000100111001001100000011011000010100110011101101110001101111101010001001001010011100001001111001100110000100010011001011001000000111101111011001110011000111110110100100110101110010100000000010111111100000101000111000101011110111000011000001101001110101011000100111001001100000011011000010100110011101101110001101111101010001001001010011100001001111001100110000100010011001011001\n",
      "1000100111001001100000011011000010100110011101101110001101111101010001001001010011100001001111001100110000100010011001011001000000111101111011001110011000111110110100100110101110010100000000010111111100000101000111000101011110111000011000001101001110101011000100111001001100000011011000010100110011101101110001101111101010001001001010011100001001111001100110000100010011001011001\n",
      "11000100111001001100000011011000010100110011101101110001101111101010001001001010011100001001111001100110000100010011001011001000000111101111011001110011000111110110100100110101110010100000000010111111100000101000111000101011110111000011000001101001110101011000100111001001100000011011000010100110011101101110001101111101010001001001010011100001001111001100110000100010011001011001\n",
      "011000100111001001100000011011000010100110011101101110001101111101010001001001010011100001001111001100110000100010011001011001000000111101111011001110011000111110110100100110101110010100000000010111111100000101000111000101011110111000011000001101001110101011000100111001001100000011011000010100110011101101110001101111101010001001001010011100001001111001100110000100010011001011001\n",
      "1011000100111001001100000011011000010100110011101101110001101111101010001001001010011100001001111001100110000100010011001011001000000111101111011001110011000111110110100100110101110010100000000010111111100000101000111000101011110111000011000001101001110101011000100111001001100000011011000010100110011101101110001101111101010001001001010011100001001111001100110000100010011001011001\n",
      "01011000100111001001100000011011000010100110011101101110001101111101010001001001010011100001001111001100110000100010011001011001000000111101111011001110011000111110110100100110101110010100000000010111111100000101000111000101011110111000011000001101001110101011000100111001001100000011011000010100110011101101110001101111101010001001001010011100001001111001100110000100010011001011001\n",
      "101011000100111001001100000011011000010100110011101101110001101111101010001001001010011100001001111001100110000100010011001011001000000111101111011001110011000111110110100100110101110010100000000010111111100000101000111000101011110111000011000001101001110101011000100111001001100000011011000010100110011101101110001101111101010001001001010011100001001111001100110000100010011001011001\n",
      "0101011000100111001001100000011011000010100110011101101110001101111101010001001001010011100001001111001100110000100010011001011001000000111101111011001110011000111110110100100110101110010100000000010111111100000101000111000101011110111000011000001101001110101011000100111001001100000011011000010100110011101101110001101111101010001001001010011100001001111001100110000100010011001011001\n",
      "10101011000100111001001100000011011000010100110011101101110001101111101010001001001010011100001001111001100110000100010011001011001000000111101111011001110011000111110110100100110101110010100000000010111111100000101000111000101011110111000011000001101001110101011000100111001001100000011011000010100110011101101110001101111101010001001001010011100001001111001100110000100010011001011001\n",
      "110101011000100111001001100000011011000010100110011101101110001101111101010001001001010011100001001111001100110000100010011001011001000000111101111011001110011000111110110100100110101110010100000000010111111100000101000111000101011110111000011000001101001110101011000100111001001100000011011000010100110011101101110001101111101010001001001010011100001001111001100110000100010011001011001\n",
      "1110101011000100111001001100000011011000010100110011101101110001101111101010001001001010011100001001111001100110000100010011001011001000000111101111011001110011000111110110100100110101110010100000000010111111100000101000111000101011110111000011000001101001110101011000100111001001100000011011000010100110011101101110001101111101010001001001010011100001001111001100110000100010011001011001\n",
      "01110101011000100111001001100000011011000010100110011101101110001101111101010001001001010011100001001111001100110000100010011001011001000000111101111011001110011000111110110100100110101110010100000000010111111100000101000111000101011110111000011000001101001110101011000100111001001100000011011000010100110011101101110001101111101010001001001010011100001001111001100110000100010011001011001\n",
      "001110101011000100111001001100000011011000010100110011101101110001101111101010001001001010011100001001111001100110000100010011001011001000000111101111011001110011000111110110100100110101110010100000000010111111100000101000111000101011110111000011000001101001110101011000100111001001100000011011000010100110011101101110001101111101010001001001010011100001001111001100110000100010011001011001\n",
      "1001110101011000100111001001100000011011000010100110011101101110001101111101010001001001010011100001001111001100110000100010011001011001000000111101111011001110011000111110110100100110101110010100000000010111111100000101000111000101011110111000011000001101001110101011000100111001001100000011011000010100110011101101110001101111101010001001001010011100001001111001100110000100010011001011001\n",
      "01001110101011000100111001001100000011011000010100110011101101110001101111101010001001001010011100001001111001100110000100010011001011001000000111101111011001110011000111110110100100110101110010100000000010111111100000101000111000101011110111000011000001101001110101011000100111001001100000011011000010100110011101101110001101111101010001001001010011100001001111001100110000100010011001011001\n",
      "101001110101011000100111001001100000011011000010100110011101101110001101111101010001001001010011100001001111001100110000100010011001011001000000111101111011001110011000111110110100100110101110010100000000010111111100000101000111000101011110111000011000001101001110101011000100111001001100000011011000010100110011101101110001101111101010001001001010011100001001111001100110000100010011001011001\n",
      "1101001110101011000100111001001100000011011000010100110011101101110001101111101010001001001010011100001001111001100110000100010011001011001000000111101111011001110011000111110110100100110101110010100000000010111111100000101000111000101011110111000011000001101001110101011000100111001001100000011011000010100110011101101110001101111101010001001001010011100001001111001100110000100010011001011001\n",
      "01101001110101011000100111001001100000011011000010100110011101101110001101111101010001001001010011100001001111001100110000100010011001011001000000111101111011001110011000111110110100100110101110010100000000010111111100000101000111000101011110111000011000001101001110101011000100111001001100000011011000010100110011101101110001101111101010001001001010011100001001111001100110000100010011001011001\n",
      "001101001110101011000100111001001100000011011000010100110011101101110001101111101010001001001010011100001001111001100110000100010011001011001000000111101111011001110011000111110110100100110101110010100000000010111111100000101000111000101011110111000011000001101001110101011000100111001001100000011011000010100110011101101110001101111101010001001001010011100001001111001100110000100010011001011001\n",
      "0001101001110101011000100111001001100000011011000010100110011101101110001101111101010001001001010011100001001111001100110000100010011001011001000000111101111011001110011000111110110100100110101110010100000000010111111100000101000111000101011110111000011000001101001110101011000100111001001100000011011000010100110011101101110001101111101010001001001010011100001001111001100110000100010011001011001\n",
      "00001101001110101011000100111001001100000011011000010100110011101101110001101111101010001001001010011100001001111001100110000100010011001011001000000111101111011001110011000111110110100100110101110010100000000010111111100000101000111000101011110111000011000001101001110101011000100111001001100000011011000010100110011101101110001101111101010001001001010011100001001111001100110000100010011001011001\n",
      "000001101001110101011000100111001001100000011011000010100110011101101110001101111101010001001001010011100001001111001100110000100010011001011001000000111101111011001110011000111110110100100110101110010100000000010111111100000101000111000101011110111000011000001101001110101011000100111001001100000011011000010100110011101101110001101111101010001001001010011100001001111001100110000100010011001011001\n",
      "1000001101001110101011000100111001001100000011011000010100110011101101110001101111101010001001001010011100001001111001100110000100010011001011001000000111101111011001110011000111110110100100110101110010100000000010111111100000101000111000101011110111000011000001101001110101011000100111001001100000011011000010100110011101101110001101111101010001001001010011100001001111001100110000100010011001011001\n",
      "11000001101001110101011000100111001001100000011011000010100110011101101110001101111101010001001001010011100001001111001100110000100010011001011001000000111101111011001110011000111110110100100110101110010100000000010111111100000101000111000101011110111000011000001101001110101011000100111001001100000011011000010100110011101101110001101111101010001001001010011100001001111001100110000100010011001011001\n",
      "011000001101001110101011000100111001001100000011011000010100110011101101110001101111101010001001001010011100001001111001100110000100010011001011001000000111101111011001110011000111110110100100110101110010100000000010111111100000101000111000101011110111000011000001101001110101011000100111001001100000011011000010100110011101101110001101111101010001001001010011100001001111001100110000100010011001011001\n",
      "0011000001101001110101011000100111001001100000011011000010100110011101101110001101111101010001001001010011100001001111001100110000100010011001011001000000111101111011001110011000111110110100100110101110010100000000010111111100000101000111000101011110111000011000001101001110101011000100111001001100000011011000010100110011101101110001101111101010001001001010011100001001111001100110000100010011001011001\n",
      "00011000001101001110101011000100111001001100000011011000010100110011101101110001101111101010001001001010011100001001111001100110000100010011001011001000000111101111011001110011000111110110100100110101110010100000000010111111100000101000111000101011110111000011000001101001110101011000100111001001100000011011000010100110011101101110001101111101010001001001010011100001001111001100110000100010011001011001\n",
      "000011000001101001110101011000100111001001100000011011000010100110011101101110001101111101010001001001010011100001001111001100110000100010011001011001000000111101111011001110011000111110110100100110101110010100000000010111111100000101000111000101011110111000011000001101001110101011000100111001001100000011011000010100110011101101110001101111101010001001001010011100001001111001100110000100010011001011001\n",
      "1000011000001101001110101011000100111001001100000011011000010100110011101101110001101111101010001001001010011100001001111001100110000100010011001011001000000111101111011001110011000111110110100100110101110010100000000010111111100000101000111000101011110111000011000001101001110101011000100111001001100000011011000010100110011101101110001101111101010001001001010011100001001111001100110000100010011001011001\n",
      "11000011000001101001110101011000100111001001100000011011000010100110011101101110001101111101010001001001010011100001001111001100110000100010011001011001000000111101111011001110011000111110110100100110101110010100000000010111111100000101000111000101011110111000011000001101001110101011000100111001001100000011011000010100110011101101110001101111101010001001001010011100001001111001100110000100010011001011001\n",
      "111000011000001101001110101011000100111001001100000011011000010100110011101101110001101111101010001001001010011100001001111001100110000100010011001011001000000111101111011001110011000111110110100100110101110010100000000010111111100000101000111000101011110111000011000001101001110101011000100111001001100000011011000010100110011101101110001101111101010001001001010011100001001111001100110000100010011001011001\n",
      "0111000011000001101001110101011000100111001001100000011011000010100110011101101110001101111101010001001001010011100001001111001100110000100010011001011001000000111101111011001110011000111110110100100110101110010100000000010111111100000101000111000101011110111000011000001101001110101011000100111001001100000011011000010100110011101101110001101111101010001001001010011100001001111001100110000100010011001011001\n",
      "10111000011000001101001110101011000100111001001100000011011000010100110011101101110001101111101010001001001010011100001001111001100110000100010011001011001000000111101111011001110011000111110110100100110101110010100000000010111111100000101000111000101011110111000011000001101001110101011000100111001001100000011011000010100110011101101110001101111101010001001001010011100001001111001100110000100010011001011001\n",
      "110111000011000001101001110101011000100111001001100000011011000010100110011101101110001101111101010001001001010011100001001111001100110000100010011001011001000000111101111011001110011000111110110100100110101110010100000000010111111100000101000111000101011110111000011000001101001110101011000100111001001100000011011000010100110011101101110001101111101010001001001010011100001001111001100110000100010011001011001\n",
      "1110111000011000001101001110101011000100111001001100000011011000010100110011101101110001101111101010001001001010011100001001111001100110000100010011001011001000000111101111011001110011000111110110100100110101110010100000000010111111100000101000111000101011110111000011000001101001110101011000100111001001100000011011000010100110011101101110001101111101010001001001010011100001001111001100110000100010011001011001\n",
      "11110111000011000001101001110101011000100111001001100000011011000010100110011101101110001101111101010001001001010011100001001111001100110000100010011001011001000000111101111011001110011000111110110100100110101110010100000000010111111100000101000111000101011110111000011000001101001110101011000100111001001100000011011000010100110011101101110001101111101010001001001010011100001001111001100110000100010011001011001\n",
      "011110111000011000001101001110101011000100111001001100000011011000010100110011101101110001101111101010001001001010011100001001111001100110000100010011001011001000000111101111011001110011000111110110100100110101110010100000000010111111100000101000111000101011110111000011000001101001110101011000100111001001100000011011000010100110011101101110001101111101010001001001010011100001001111001100110000100010011001011001\n",
      "1011110111000011000001101001110101011000100111001001100000011011000010100110011101101110001101111101010001001001010011100001001111001100110000100010011001011001000000111101111011001110011000111110110100100110101110010100000000010111111100000101000111000101011110111000011000001101001110101011000100111001001100000011011000010100110011101101110001101111101010001001001010011100001001111001100110000100010011001011001\n",
      "None\n"
     ]
    }
   ],
   "source": [
    "solvedMask = GetMaskFromKey(retrievedKey)\n",
    "print(\"mask comparison\")\n",
    "print(\"original mask\")\n",
    "print(mask)\n",
    "print(\"retrieved mask from the key\")\n",
    "print(solvedMask)\n",
    "print('\\nseed comparison')\n",
    "print(\"original seed\")\n",
    "print(seed)\n",
    "print(\"retrieved seed from the key with solved mask\")\n",
    "print(GetSeedFromKey(retrievedKey, solvedMask))"
   ]
  },
  {
   "cell_type": "markdown",
   "metadata": {},
   "source": [
    "Create a file called message.txt with some content of your choice. Then, write a python code in cocalc that implement the following scenario:\n",
    "\n",
    "1) Create a sender function the does the following:\n",
    "\n",
    "- Read the content of the file message.txt.\n",
    "- Hash the content using SHA1 hash function.\n",
    "- Encrypt the content using AES-CBC encryption algorithm\n",
    "- The output will be both the hash value of the message, and the ciphertext.\n",
    "\n",
    "2) Create a receiver function the does the following:\n",
    "\n",
    "- The input is the original hash value, and the ciphertext.\n",
    "- Decrypt the received ciphertext using AES-CBC.\n",
    "- Calculate the hash value of the decrypted ciphertext\n",
    "- Compare the original hash value with the hash value of the decrypted ciphertext."
   ]
  },
  {
   "cell_type": "markdown",
   "metadata": {},
   "source": [
    "Needed imports for the block cypher exercise"
   ]
  },
  {
   "cell_type": "code",
   "execution_count": 46,
   "metadata": {},
   "outputs": [],
   "source": [
    "from hashlib import sha1\n",
    "from Crypto.Cipher import AES\n",
    "from Cryptodome.Random import get_random_bytes\n",
    "import secrets"
   ]
  },
  {
   "cell_type": "markdown",
   "metadata": {},
   "source": [
    "Reading the file content function"
   ]
  },
  {
   "cell_type": "code",
   "execution_count": 47,
   "metadata": {},
   "outputs": [],
   "source": [
    "def readFileConent(fileName):\n",
    "    with open(fileName, 'r',encoding='utf-8') as f:\n",
    "        return f.read()"
   ]
  },
  {
   "cell_type": "markdown",
   "metadata": {},
   "source": [
    "SHA 1 hash function"
   ]
  },
  {
   "cell_type": "code",
   "execution_count": 48,
   "metadata": {},
   "outputs": [],
   "source": [
    "def hashFileContentWithSha1(fileContent):\n",
    "    return sha1(fileContent.encode()).hexdigest()"
   ]
  },
  {
   "cell_type": "markdown",
   "metadata": {},
   "source": [
    "padding from the cryptography slides"
   ]
  },
  {
   "cell_type": "code",
   "execution_count": 49,
   "metadata": {},
   "outputs": [],
   "source": [
    "BLOCK_SIZE = 16\n",
    "pad = lambda s : s +(BLOCK_SIZE-len(s)%BLOCK_SIZE)*chr(BLOCK_SIZE-len(s)%BLOCK_SIZE)\n",
    "unpad = lambda s : s[:-ord(s[len(s)-1:])]"
   ]
  },
  {
   "cell_type": "markdown",
   "metadata": {},
   "source": [
    "Encrypting the file content with AES-CBC"
   ]
  },
  {
   "cell_type": "code",
   "execution_count": 50,
   "metadata": {},
   "outputs": [],
   "source": [
    "def encryptTheContentWithAESCBC(fileContent, key):\n",
    "    iv = secrets.token_bytes(BLOCK_SIZE)\n",
    "    enc = AES.new(key, AES.MODE_CBC, iv)\n",
    "    data = pad(fileContent).encode(\"utf-8\")\n",
    "    cipherText = enc.encrypt(data)\n",
    "    cipherTextHex = iv.hex() + cipherText.hex()\n",
    "    return cipherTextHex"
   ]
  },
  {
   "cell_type": "markdown",
   "metadata": {},
   "source": [
    "encrypting file content given key and filename and returning hash value and ciphertext"
   ]
  },
  {
   "cell_type": "code",
   "execution_count": 51,
   "metadata": {},
   "outputs": [],
   "source": [
    "def encryptContent (fileName, key):\n",
    "    content = readFileConent(fileName)\n",
    "    print(content)\n",
    "    hash = hashFileContentWithSha1(content)\n",
    "    return (hash,encryptTheContentWithAESCBC(content, key))"
   ]
  },
  {
   "cell_type": "code",
   "execution_count": 52,
   "metadata": {},
   "outputs": [
    {
     "name": "stdout",
     "output_type": "stream",
     "text": [
      "hello world from Budapest\n",
      "\n",
      "hash:  5ba2eef200f737dbfbd6f564315503d518b3686d\n",
      "cipher text:  bddecab27783515bbdf7a38cf74ccaff2403a2f6f1dcb99ee11fa0e8784c0616ddcc02fbb50d63d3c4078128d44e1083\n"
     ]
    }
   ],
   "source": [
    "key = get_random_bytes(BLOCK_SIZE)\n",
    "hash, cipherTextHex = encryptContent('message.txt', key)\n",
    "print(\"hash: \",hash)\n",
    "print(\"cipher text: \", cipherTextHex)"
   ]
  },
  {
   "cell_type": "markdown",
   "metadata": {},
   "source": [
    "Decrypting the file content with AES-CBC, and comparing the hash value of decrypted text with the original hash value of the file content."
   ]
  },
  {
   "cell_type": "code",
   "execution_count": 53,
   "metadata": {},
   "outputs": [],
   "source": [
    "def decryptAES(hash, cipherText):\n",
    "    iv = bytes.fromhex(cipherText[:32])\n",
    "    cipherText = bytes.fromhex(cipherText[32:])\n",
    "    dec = AES.new(key, AES.MODE_CBC, iv)\n",
    "    plaintext = unpad(dec.decrypt(cipherText)).decode('utf-8')\n",
    "    hashValue = hashFileContentWithSha1(plaintext)\n",
    "    print('decrypted value: ', plaintext)\n",
    "    if hashValue == hash:\n",
    "        print (\"Hash is equal\")\n",
    "    else:\n",
    "        print (\"Hash is not equal\")\n"
   ]
  },
  {
   "cell_type": "code",
   "execution_count": 54,
   "metadata": {},
   "outputs": [
    {
     "name": "stdout",
     "output_type": "stream",
     "text": [
      "decrypted value:  hello world from Budapest\n",
      "\n",
      "Hash is equal\n"
     ]
    }
   ],
   "source": [
    "decryptAES(hash, cipherTextHex)"
   ]
  },
  {
   "cell_type": "markdown",
   "metadata": {},
   "source": [
    "Create a file called message.txt with some content of your choice. Then, write a python code in cocalc that implement the following scenario:\n",
    "\n",
    "Prior to the following function, you need to prepare the parameters to be used for RSA encryption by the sender. These include the public and private exponents, and the integer n.\n",
    "\n",
    " \n",
    "\n",
    "1) Create a sender function the does the following:\n",
    "\n",
    "Read the content of the file message.txt.\n",
    "Hash the content using SHA1 hash function.\n",
    "Encrypt the hash of the message.txt using RSA encryption algorithm with the private key of the sender.\n",
    "The output of this function will be both the encrypted hash value of the message using RSA, and the plaintext (original content of message.txt file).\n",
    "Note here that in this scenario only message integrity is required, and no confidentiality will be provided. This is why the message is sent in plain.\n",
    " \n",
    "\n",
    "2) Create a receiver function the does the following:\n",
    "\n",
    "The input is the public key of the sender, the encrypted hash value, and the plaintext.\n",
    "Decrypt the received hash value using the public key of the sender.\n",
    "Calculate the hash value of the received plaintext.\n",
    "Compare the hash value of the received plaintext with the hash value of the decrypted received hash.\n",
    " \n",
    "\n",
    "3) perform a test that include two cases:\n",
    "\n",
    "in first case, the message in not altered, which means that the receiver after checking will accept the received message.\n",
    "In second case, the message will be modified and then fed to the receiver function. In this case, the modification will be spotted and the received message will be rejected by the receiver.\n"
   ]
  },
  {
   "cell_type": "markdown",
   "metadata": {},
   "source": [
    "Some of the functions that were coded in the practice lecture and might be useful for this assignment."
   ]
  },
  {
   "cell_type": "code",
   "execution_count": 55,
   "metadata": {},
   "outputs": [],
   "source": [
    "from sympy import randprime\n",
    "from math import gcd\n",
    "\n",
    "def egcd(a,b):\n",
    "    if a == 0:\n",
    "        return (b, 0, 1)\n",
    "    else:\n",
    "        g, x, y = egcd(b % a, a)\n",
    "        return (g, y - (b // a) * x, x)\n",
    "\n",
    "def modinv(b, m):\n",
    "    g, x, _ = egcd(b, m)\n",
    "    if g == 1:\n",
    "        return x % m"
   ]
  },
  {
   "cell_type": "code",
   "execution_count": 56,
   "metadata": {},
   "outputs": [],
   "source": [
    "def generatePrimes(key_size):\n",
    "    prime_1 = 0\n",
    "    prime_2 = 0\n",
    "    while prime_1 == prime_2 or(prime_1 *prime_2) > 2**key_size:\n",
    "        prime_1 = randprime(3, 2**key_size/2)\n",
    "        prime_2 = randprime(3, 2**key_size/2)\n",
    "    return prime_1, prime_2"
   ]
  },
  {
   "cell_type": "code",
   "execution_count": 57,
   "metadata": {},
   "outputs": [],
   "source": [
    "def generate_public_Exponents(totient):\n",
    "    public_exponent = 0\n",
    "    for e in range(3,totient-1):\n",
    "        if gcd(e,totient) == 1:\n",
    "            public_exponent = e\n",
    "            break\n",
    "    return public_exponent"
   ]
  },
  {
   "cell_type": "code",
   "execution_count": 58,
   "metadata": {},
   "outputs": [],
   "source": [
    "def generateTotient(prime_1, prime_2):\n",
    "    return (prime_1 - 1) * (prime_2 - 1)"
   ]
  },
  {
   "cell_type": "code",
   "execution_count": 59,
   "metadata": {},
   "outputs": [],
   "source": [
    "def rsa_encrypt(plain_text,rsa_modulus, public_exponent):\n",
    "    cipher = ''.join(chr((ord(ch)**public_exponent)%rsa_modulus) for ch in plain_text)\n",
    "    return cipher.encode().hex()"
   ]
  },
  {
   "cell_type": "code",
   "execution_count": 60,
   "metadata": {},
   "outputs": [],
   "source": [
    "def rsa_decrypt(cipher_text, rsa_modulus, private_exponent):\n",
    "    return ''.join(chr((ord(ch)**private_exponent)%rsa_modulus)\n",
    "                   for ch in bytearray.fromhex(cipher_text).decode())"
   ]
  },
  {
   "cell_type": "code",
   "execution_count": 61,
   "metadata": {},
   "outputs": [],
   "source": [
    "from hashlib import sha1\n",
    "\n",
    "def hashFileContentWithSha1(fileContent):\n",
    "    return sha1(fileContent.encode()).hexdigest()"
   ]
  },
  {
   "cell_type": "code",
   "execution_count": 62,
   "metadata": {},
   "outputs": [],
   "source": [
    "def readFileContent(fileName):\n",
    "    with open(fileName, 'r') as file:\n",
    "        return file.read()"
   ]
  },
  {
   "cell_type": "markdown",
   "metadata": {},
   "source": [
    "Part 1 - Sender. Sender takes fileContent hashes it, encrypts it with private key and returns encrypted hash and fileContent."
   ]
  },
  {
   "cell_type": "code",
   "execution_count": 63,
   "metadata": {},
   "outputs": [],
   "source": [
    "def senderRsa(fileName, privateKey):\n",
    "    (rsa_modulus, private_exponent) = privateKey\n",
    "    fileContent = readFileContent(fileName)\n",
    "    hashFileContent = hashFileContentWithSha1(fileContent)\n",
    "    encryptedHash = rsa_encrypt(hashFileContent, rsa_modulus, private_exponent)\n",
    "    return (fileContent, encryptedHash)"
   ]
  },
  {
   "cell_type": "markdown",
   "metadata": {},
   "source": [
    "Part 2 - Receiver. Receiver takes public key, encrypted hash and fileContent. It decrypts the encrypted hash with public key, hashes the fileContent and compares the two hashes. If they are equal, it returns prints \"Hashes are equal\", otherwise \"Hashes are not equal\"."
   ]
  },
  {
   "cell_type": "code",
   "execution_count": 64,
   "metadata": {},
   "outputs": [],
   "source": [
    "def receiverRsa(fileContent, encryptedHash, publicKey):\n",
    "    (rsa_modulus, public_exponent) = publicKey\n",
    "    hashedFileContent = hashFileContentWithSha1(fileContent)\n",
    "    decryptedHash = rsa_decrypt(encryptedHash, rsa_modulus, public_exponent)\n",
    "    if hashedFileContent != decryptedHash:\n",
    "        print(\"Hashes are not equal\")\n",
    "    else:\n",
    "        print(\"Hashes are equal\")"
   ]
  },
  {
   "cell_type": "markdown",
   "metadata": {},
   "source": [
    " Public and private keys generation for a given key size."
   ]
  },
  {
   "cell_type": "code",
   "execution_count": 65,
   "metadata": {},
   "outputs": [],
   "source": [
    "def generateKeys(key_size):\n",
    "    prime_1,prime_2 = generatePrimes(key_size)\n",
    "    totient = generateTotient(prime_1, prime_2)\n",
    "    public_exponent = generate_public_Exponents(totient)\n",
    "    private_exponent = modinv(public_exponent, totient)\n",
    "    rsa_modulus = prime_1 * prime_2 # integer n from the slides\n",
    "    public_key = (rsa_modulus, public_exponent)\n",
    "    private_key = (rsa_modulus, private_exponent)\n",
    "    return (public_key, private_key)\n",
    "\n",
    "key_size = 10\n",
    "public_key, private_key = generateKeys(key_size)"
   ]
  },
  {
   "cell_type": "code",
   "execution_count": 66,
   "metadata": {},
   "outputs": [
    {
     "name": "stdout",
     "output_type": "stream",
     "text": [
      "File content:  hello world from Budapest\n",
      "\n",
      "Encrypted hash:  c290c3b2c3a3c3becab8cab8cf9ac3beca90ca90cf9ac295cbbdc2955ec3b2cf9ac3b25ecb80cf9ac290cb80c4a2cbbdce8ec290c290ca90cbbd5ec290ce8ecdbfc3b2cbbdcb80cdbfcb805e\n"
     ]
    }
   ],
   "source": [
    "# part 1\n",
    "(fileContent, encrypterHash) = senderRsa('message.txt', private_key)\n",
    "print(\"File content: \", fileContent)\n",
    "print(\"Encrypted hash: \", encrypterHash)"
   ]
  },
  {
   "cell_type": "code",
   "execution_count": 67,
   "metadata": {},
   "outputs": [
    {
     "name": "stdout",
     "output_type": "stream",
     "text": [
      "Hashes are equal\n"
     ]
    }
   ],
   "source": [
    "# part 2\n",
    "receiverRsa(fileContent, encrypterHash, public_key)"
   ]
  },
  {
   "cell_type": "markdown",
   "metadata": {},
   "source": [
    "In the part 3 of the assignment, you have to alter the message and check if the receiver will see that hashes changed or not. "
   ]
  },
  {
   "cell_type": "code",
   "execution_count": 68,
   "metadata": {},
   "outputs": [
    {
     "name": "stdout",
     "output_type": "stream",
     "text": [
      "Hashes are equal\n",
      "Altered file content:  hello world from budapest\n",
      "\n",
      "Hashes are not equal\n"
     ]
    }
   ],
   "source": [
    "# part 3\n",
    "# not altered message\n",
    "receiverRsa(fileContent, encrypterHash, public_key)\n",
    "\n",
    "# altered message\n",
    "fileContent = fileContent.replace('B', 'b')\n",
    "print(\"Altered file content: \", fileContent)\n",
    "receiverRsa(fileContent, encrypterHash, public_key)"
   ]
  },
  {
   "cell_type": "code",
   "execution_count": 76,
   "metadata": {},
   "outputs": [
    {
     "name": "stdout",
     "output_type": "stream",
     "text": [
      "b'RT@O\\x83\\x82Zr\\x91\\x9f\\x13*h\\x1f\\x00\\x9fO\\x86\\xcb\\xa6\\xa1\\x1f\\xecu\\x05m\\xb5\\xe2\\x80\\x84`\\xf6'\n",
      "b'RT@O\\x83\\x82Zr\\x91\\x9f\\x13*h\\x1f\\x00\\x9fO\\x86\\xcb\\xa6\\xa1\\x1f\\xecu\\x05m\\xb5\\xe2\\x80\\x84`\\xf6'\n",
      "derived keys are equal\n"
     ]
    }
   ],
   "source": [
    "## diffie hellman\n",
    "from cryptography.hazmat.primitives.asymmetric import dh\n",
    "from cryptography.hazmat.primitives import hashes\n",
    "from cryptography.hazmat.primitives.kdf.hkdf import HKDF\n",
    "\n",
    "parameters = dh.generate_parameters(generator=2, key_size=512)\n",
    "\n",
    "alice_private_key = parameters.generate_private_key()\n",
    "bob_private_key = parameters.generate_private_key()\n",
    "bob_public_key = bob_private_key.public_key()\n",
    "alice_public_key = alice_private_key.public_key()\n",
    "\n",
    "alice_shared_key = alice_private_key.exchange(bob_public_key)\n",
    "\n",
    "alice_derived_key = HKDF(\n",
    "    algorithm=hashes.SHA256(),\n",
    "    length=32,\n",
    "    salt=None,\n",
    "    info=b'handshake data',\n",
    ").derive(alice_shared_key)\n",
    "\n",
    "print (alice_derived_key)\n",
    "\n",
    "## bob\n",
    "bob_shared_key = bob_private_key.exchange(alice_public_key)\n",
    "\n",
    "bob_derived_key = HKDF(\n",
    "    algorithm=hashes.SHA256(),\n",
    "    length=32,\n",
    "    salt=None,\n",
    "    info=b'handshake data',\n",
    ").derive(bob_shared_key)\n",
    "\n",
    "print (bob_derived_key)\n",
    "\n",
    "if alice_derived_key == bob_derived_key:\n",
    "    print (\"derived keys are equal\")\n",
    "else:\n",
    "    print (\"derived keys are not equal\")"
   ]
  },
  {
   "cell_type": "markdown",
   "metadata": {},
   "source": [
    "For AES, the legal key sizes are 128, 192, and 256 bits.\n",
    "for des it was 64 - but 60 bits are used for the key and 4 bits are used for parity checking"
   ]
  },
  {
   "cell_type": "code",
   "execution_count": 83,
   "metadata": {},
   "outputs": [
    {
     "name": "stdout",
     "output_type": "stream",
     "text": [
      "13195430907065982499259062465410625803646766784897984013508805312425762358788088613294355083082803471651919549194854967705644355664737625734230481600148447\n",
      "2\n",
      "2090203683818023564087866247877183478168688996525202429929605747435682669462723352688462415360381145802883875119734170534491304983628973428590607460264898\n",
      "6356093229651920131717983900732712866487482268325586104467852338167596444915807582867946366631377096138824427303071253420571294934634360181659938083616359\n"
     ]
    }
   ],
   "source": [
    "parameters = dh.generate_parameters(generator=2, key_size=512)\n",
    "p = parameters.parameter_numbers().p\n",
    "g = parameters.parameter_numbers().g\n",
    "client_private_key = parameters.generate_private_key()\n",
    "client_y = client_private_key.public_key().public_numbers().y\n",
    "client_x = client_private_key.private_numbers().x\n",
    "print (p)\n",
    "print (g)\n",
    "print (client_y)\n",
    "print (client_x)\n",
    "# it stores p,g,client_y,client_x as the main parameters for later use\n",
    "# then it sends p,g,client_y parameters to the server\n",
    "\n"
   ]
  },
  {
   "cell_type": "code",
   "execution_count": 84,
   "metadata": {},
   "outputs": [],
   "source": [
    "dominykas_key = 4406081192861135331958262273451869593683017678524489026964821445397841449792156988203193189716958862372703950153564671359780188501688643780552798404389598"
   ]
  },
  {
   "cell_type": "code",
   "execution_count": 85,
   "metadata": {},
   "outputs": [
    {
     "name": "stdout",
     "output_type": "stream",
     "text": [
      "7536933467176977867876905576594897307915661342613611357121492835155498369306473596391913103632464543902546600847724424435622710878828202978567924386020210\n",
      "4361460398999010021971883749517844170616993542548293292334868452466970905747308270850229603648619925087920801878581986273258800062747298257582663387768460\n"
     ]
    }
   ],
   "source": [
    "pn = dh.DHParameterNumbers(p, g)\n",
    "client_public_number = dh.DHPublicNumbers(client_y, pn)\n",
    "client_public_number = dh.DHPublicNumbers(dominykas_key, pn)\n",
    "client_public_key = client_public_number.public_key()\n",
    "\n",
    "parameters = pn.parameters()\n",
    "server_private_key = parameters.generate_private_key()\n",
    "server_y = server_private_key.public_key().public_numbers().y\n",
    "server_x = server_private_key.private_numbers().x\n",
    "print (server_y)\n",
    "print (server_x)"
   ]
  },
  {
   "cell_type": "code",
   "execution_count": 86,
   "metadata": {},
   "outputs": [],
   "source": [
    "pn = dh.DHParameterNumbers(p, g)\n",
    "client_public_number = dh.DHPublicNumbers(client_y, pn)\n",
    "client_private_number = dh.DHPrivateNumbers(client_x, client_public_number)\n",
    "client_private_key = client_private_number.private_key()\n",
    "\n",
    "\n",
    "\n",
    "server_public_number = dh.DHPublicNumbers(server_y, pn)\n",
    "server_public_key = server_public_number.public_key()"
   ]
  },
  {
   "cell_type": "code",
   "execution_count": 87,
   "metadata": {},
   "outputs": [
    {
     "name": "stdout",
     "output_type": "stream",
     "text": [
      "b'*-e\\r\\x9b\\xe8\\x15g\\x07\\xbae\\xfb\\x8e>\\xc1a\\x1d5\\x88\\xdf\\xf7\\xab\\xc5\\xb8\\xc1\\x0ea\\xe3t\\x1b\\xad\\xc5'\n",
      "b\"\\xfa8\\x82\\x98\\xde\\x18N7x'\\x97+)\\xd6\\x0cl\\x90\\xb5\\x1b*\\x9dX\\x13\\x85\\x9c\\x18JF\\xba\\xc1\\x80\\x89\"\n"
     ]
    }
   ],
   "source": [
    "client_shared_key = client_private_key.exchange(server_public_key)\n",
    "\n",
    "client_derived_key = HKDF(\n",
    "    algorithm=hashes.SHA256(),\n",
    "    length=32,\n",
    "    salt=None,\n",
    "    info=b'handshake data',\n",
    ").derive(client_shared_key)\n",
    "\n",
    "print (client_derived_key)\n",
    "\n",
    "## bob\n",
    "server_shared_key = server_private_key.exchange(client_public_key)\n",
    "\n",
    "server_derived_key = HKDF(\n",
    "    algorithm=hashes.SHA256(),\n",
    "    length=32,\n",
    "    salt=None,\n",
    "    info=b'handshake data',\n",
    ").derive(server_shared_key)\n",
    "\n",
    "print (server_derived_key)\n",
    "\n",
    "if client_derived_key == server_derived_key:# check this for the next time\n",
    "    print (\"derived keys are equal\")"
   ]
  },
  {
   "cell_type": "code",
   "execution_count": 88,
   "metadata": {},
   "outputs": [
    {
     "ename": "TypeError",
     "evalue": "parameters must be an instance of DHParameterNumbers.",
     "output_type": "error",
     "traceback": [
      "\u001b[0;31m---------------------------------------------------------------------------\u001b[0m",
      "\u001b[0;31mTypeError\u001b[0m                                 Traceback (most recent call last)",
      "Cell \u001b[0;32mIn[88], line 5\u001b[0m\n\u001b[1;32m      2\u001b[0m pn \u001b[39m=\u001b[39m dh\u001b[39m.\u001b[39mDHParameterNumbers(p, g)\n\u001b[1;32m      4\u001b[0m client_public_number \u001b[39m=\u001b[39m dh\u001b[39m.\u001b[39mDHPublicNumbers(client_y, pn)\n\u001b[0;32m----> 5\u001b[0m client_private_number \u001b[39m=\u001b[39m dh\u001b[39m.\u001b[39;49mDHPublicNumbers(client_x, client_public_number)\n\u001b[1;32m      6\u001b[0m client_private_key \u001b[39m=\u001b[39m client_private_number\u001b[39m.\u001b[39mprivate_key()\n\u001b[1;32m      8\u001b[0m server_public_number \u001b[39m=\u001b[39m dh\u001b[39m.\u001b[39mDHPublicNumbers(server_y, pn)\n",
      "File \u001b[0;32m/usr/lib/python3.10/site-packages/cryptography/hazmat/primitives/asymmetric/dh.py:75\u001b[0m, in \u001b[0;36mDHPublicNumbers.__init__\u001b[0;34m(self, y, parameter_numbers)\u001b[0m\n\u001b[1;32m     72\u001b[0m     \u001b[39mraise\u001b[39;00m \u001b[39mTypeError\u001b[39;00m(\u001b[39m\"\u001b[39m\u001b[39my must be an integer.\u001b[39m\u001b[39m\"\u001b[39m)\n\u001b[1;32m     74\u001b[0m \u001b[39mif\u001b[39;00m \u001b[39mnot\u001b[39;00m \u001b[39misinstance\u001b[39m(parameter_numbers, DHParameterNumbers):\n\u001b[0;32m---> 75\u001b[0m     \u001b[39mraise\u001b[39;00m \u001b[39mTypeError\u001b[39;00m(\n\u001b[1;32m     76\u001b[0m         \u001b[39m\"\u001b[39m\u001b[39mparameters must be an instance of DHParameterNumbers.\u001b[39m\u001b[39m\"\u001b[39m\n\u001b[1;32m     77\u001b[0m     )\n\u001b[1;32m     79\u001b[0m \u001b[39mself\u001b[39m\u001b[39m.\u001b[39m_y \u001b[39m=\u001b[39m y\n\u001b[1;32m     80\u001b[0m \u001b[39mself\u001b[39m\u001b[39m.\u001b[39m_parameter_numbers \u001b[39m=\u001b[39m parameter_numbers\n",
      "\u001b[0;31mTypeError\u001b[0m: parameters must be an instance of DHParameterNumbers."
     ]
    }
   ],
   "source": [
    "# can use our onw code and presentations\n",
    "pn = dh.DHParameterNumbers(p, g)\n",
    "\n",
    "client_public_number = dh.DHPublicNumbers(client_y, pn)\n",
    "client_private_number = dh.DHPublicNumbers(client_x, client_public_number)\n",
    "client_private_key = client_private_number.private_key()\n",
    "\n",
    "server_public_number = dh.DHPublicNumbers(server_y, pn)\n",
    "server_public_key = server_public_number.public_key()\n",
    "\n",
    "client_shared_key = client_private_key.exchange(server_public_key)\n",
    "\n",
    "derived_key_client = HKDF(\n",
    "    algorithm = hashes.SHA256(),\n",
    "    length=32,\n",
    "    salt=None,\n",
    "    info=b'handshake data',\n",
    ").derive(client_shared_key)\n",
    "print(derived_key_client)"
   ]
  },
  {
   "cell_type": "code",
   "execution_count": null,
   "metadata": {},
   "outputs": [],
   "source": []
  }
 ],
 "metadata": {
  "kernelspec": {
   "display_name": "Python 3",
   "language": "python",
   "name": "python3"
  },
  "language_info": {
   "codemirror_mode": {
    "name": "ipython",
    "version": 3
   },
   "file_extension": ".py",
   "mimetype": "text/x-python",
   "name": "python",
   "nbconvert_exporter": "python",
   "pygments_lexer": "ipython3",
   "version": "3.10.10"
  },
  "orig_nbformat": 4
 },
 "nbformat": 4,
 "nbformat_minor": 2
}

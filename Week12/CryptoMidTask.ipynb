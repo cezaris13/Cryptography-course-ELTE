{
 "cells": [
  {
   "cell_type": "markdown",
   "metadata": {
    "collapsed": false
   },
   "source": [
    "### There are two entities: **Alice and Bob,** to do five main steps.\n",
    "\n",
    "### **FIVE main steps**\n",
    "\n",
    "1. **Alice** <u>creates </u>the required parameters for DH key exchange, creates her own private and public keys, and sends the public parameters and her public keys to Bob\n",
    "2. **Bob** creates his own public key, and sends it to Alice. Bob also creates a derived shared key \\(to be used later for AES\\-128 encryption\\)\n",
    "3. **Alice** received Bob's public key and also creates a derived shared key \\(to be used later for AES\\-128 encryption\\)\n",
    "4. **Bob** <u>reads </u>the content of message.txt and <u>sends </u>the following to **Alice**:\n",
    "   - The content of message.txt encrypted using the shared key \\(generated in step 2\\)\n",
    "   - The \\(SHA256\\) hash value of the message\n",
    "5. **Alice** <u>receives </u>the set of information from **Bob**, and <u>does </u>the following:\n",
    "   1. Decrypt the hash value of the message, \n",
    "   2. Decrypt the message using the shared key \\(generated in step 3\\)\n",
    "   3. Hash \\(the received and decrypted\\) message and checks which it is identical to \\(the received\\) hash value.\n",
    "\n",
    "**Your task is to complete the below code to implement the above task.**\n",
    "\n"
   ]
  },
  {
   "cell_type": "markdown",
   "metadata": {
    "collapsed": false
   },
   "source": [
    "## Step 1: Alice generates DH parameters\n",
    "\n"
   ]
  },
  {
   "cell_type": "code",
   "execution_count": 110,
   "metadata": {
    "collapsed": false
   },
   "outputs": [
   ],
   "source": [
    "from cryptography.hazmat.primitives.asymmetric import dh\n",
    "from cryptography.hazmat.primitives import hashes\n",
    "from cryptography.hazmat.primitives.kdf.hkdf import HKDF"
   ]
  },
  {
   "cell_type": "code",
   "execution_count": 111,
   "metadata": {
    "collapsed": false
   },
   "outputs": [
   ],
   "source": [
    "def step_1():\n",
    "    parameters = dh.generate_parameters(generator=2, key_size=512)\n",
    "    p = parameters.parameter_numbers().p\n",
    "    g = parameters.parameter_numbers().g\n",
    "    alice_private_key = parameters.generate_private_key()\n",
    "    alice_y = alice_private_key.public_key().public_numbers().y\n",
    "    alice_x = alice_private_key.private_numbers().x\n",
    "    return alice_x, alice_y, p, g"
   ]
  },
  {
   "cell_type": "code",
   "execution_count": 112,
   "metadata": {
    "collapsed": false
   },
   "outputs": [
    {
     "name": "stdout",
     "output_type": "stream",
     "text": [
      "6605432472700418871328795393237070000487980887913601113648074531806349780600511609372842693511828371720153458499815659515496175394951903831584971385724260\n",
      "9910018089555469257847513958647911550183003510429885664587344403804419983458091537834452066174328832129204264430693402451342214195574713061081241489636904\n",
      "11734945226824123671272289197759227603883293175729238309546396106746879905683757482186930427155557676210144531750470926047659614626853488999810832536511819\n",
      "2\n"
     ]
    }
   ],
   "source": [
    "alice_x, alice_y, p, g = step_1()\n",
    "print(alice_x)\n",
    "print(alice_y)\n",
    "print(p)\n",
    "print(g)"
   ]
  },
  {
   "cell_type": "markdown",
   "metadata": {
    "collapsed": false
   },
   "source": [
    "## Step 2: Bob generates DH parameters\n",
    "\n"
   ]
  },
  {
   "cell_type": "code",
   "execution_count": 113,
   "metadata": {
    "collapsed": false
   },
   "outputs": [
    {
     "name": "stdout",
     "output_type": "stream",
     "text": [
      "b'\\xce\\xb0\\xc3\\x90\\xbe\\xa0\\xe3\\xfb\\xb5\"\\xb8w\\xa1\\xc6\\x13\\xf57\\xdc\\xc1\\x84\\x98M\\x87qA\\x0b\\xff\\n6\\xb3\\x8e\\xb3'\n",
      "8353388745652751323984355860261986294060526853738873067579911631438351142858066745502561989884430862582379407065769810258473148305504423257382075901711814\n"
     ]
    }
   ],
   "source": [
    "def step_2(p, g, alice_y):\n",
    "    pn = dh.DHParameterNumbers(p, g)\n",
    "    parameters = pn.parameters()\n",
    "    bob_private_key = parameters.generate_private_key()\n",
    "    bob_y = bob_private_key.public_key().public_numbers().y\n",
    "    bob_x = bob_private_key.private_numbers().x\n",
    "\n",
    "    alice_public_number = dh.DHPublicNumbers(alice_y, pn)\n",
    "    alice_public_key = alice_public_number.public_key()\n",
    "\n",
    "    bob_shared_key = bob_private_key.exchange(alice_public_key)\n",
    "    bob_derived_key = HKDF(\n",
    "        algorithm=hashes.SHA256(),\n",
    "        length=32,\n",
    "        salt=None,\n",
    "        info=b'handshake data',\n",
    "    ).derive(bob_shared_key)\n",
    "    return bob_derived_key, bob_y\n",
    "\n",
    "\n",
    "bob_derived_key, bob_y = step_2(p, g, alice_y)\n",
    "print(bob_derived_key)\n",
    "print(bob_y)"
   ]
  },
  {
   "cell_type": "markdown",
   "metadata": {
    "collapsed": false
   },
   "source": [
    "## Step 3:  Alice generates final key\n",
    "\n"
   ]
  },
  {
   "cell_type": "code",
   "execution_count": 114,
   "metadata": {
    "collapsed": false
   },
   "outputs": [
    {
     "name": "stdout",
     "output_type": "stream",
     "text": [
      "b'\\xce\\xb0\\xc3\\x90\\xbe\\xa0\\xe3\\xfb\\xb5\"\\xb8w\\xa1\\xc6\\x13\\xf57\\xdc\\xc1\\x84\\x98M\\x87qA\\x0b\\xff\\n6\\xb3\\x8e\\xb3'\n",
      "True\n"
     ]
    }
   ],
   "source": [
    "def step_3(alice_x, p, g, alice_y, bob_y):\n",
    "    pn = dh.DHParameterNumbers(p, g)\n",
    "    bob_public_number = dh.DHPublicNumbers(bob_y, pn)\n",
    "    bob_public_key = bob_public_number.public_key()\n",
    "\n",
    "    alice_public_number = dh.DHPublicNumbers(alice_y, pn)\n",
    "    alice_private_key = dh.DHPrivateNumbers(alice_x,\n",
    "                                            alice_public_number).private_key()\n",
    "    alice_shared_key = alice_private_key.exchange(bob_public_key)\n",
    "\n",
    "    alice_derived_key = HKDF(\n",
    "        algorithm=hashes.SHA256(),\n",
    "        length=32,\n",
    "        salt=None,\n",
    "        info=b'handshake data',\n",
    "    ).derive(alice_shared_key)\n",
    "    return alice_derived_key\n",
    "\n",
    "\n",
    "alice_derived_key = step_3(alice_x, p, g, alice_y, bob_y)\n",
    "\n",
    "print(alice_derived_key)\n",
    "print(bob_derived_key == alice_derived_key)"
   ]
  },
  {
   "cell_type": "markdown",
   "metadata": {
    "collapsed": false
   },
   "source": [
    "## Step 4: Bob sends a message to Alice\n",
    "\n"
   ]
  },
  {
   "cell_type": "code",
   "execution_count": 115,
   "metadata": {
    "collapsed": false
   },
   "outputs": [
   ],
   "source": [
    "from hashlib import sha256\n",
    "from Crypto.Cipher import AES\n",
    "import secrets\n",
    "\n",
    "BLOCK_SIZE = 16  # for AES 128\n",
    "pad = lambda s: s + (BLOCK_SIZE - len(s) % BLOCK_SIZE) * chr(BLOCK_SIZE - len(\n",
    "    s) % BLOCK_SIZE)\n",
    "unpad = lambda s: s[:-ord(s[len(s) - 1:])]\n",
    "\n",
    "\n",
    "def readFileContent(fileName):\n",
    "    with open(fileName, 'r', encoding='utf-8') as f:\n",
    "        return f.read()\n",
    "\n",
    "\n",
    "def hashSHA256(fileContent):\n",
    "    return sha256(fileContent.encode()).hexdigest()\n",
    "\n",
    "\n",
    "def encryptTheContentWithAESCBC(fileContent, key):\n",
    "    iv = secrets.token_bytes(BLOCK_SIZE)\n",
    "    enc = AES.new(key, AES.MODE_CBC, iv)\n",
    "    data = pad(fileContent).encode(\"utf-8\")\n",
    "    cipherText = enc.encrypt(data)\n",
    "    cipherTextHex = iv.hex() + cipherText.hex()\n",
    "    return cipherTextHex"
   ]
  },
  {
   "cell_type": "code",
   "execution_count": 116,
   "metadata": {
    "collapsed": false
   },
   "outputs": [
    {
     "name": "stdout",
     "output_type": "stream",
     "text": [
      "21b4825a0a935bb969ff908d850d774a474f0c1f31eb3f581a2e7dfb8baa4a1897c19ba907935bf8a39339026ff18a0e874723f0430014a0dd9447156eb045a4\n",
      "6f3ad1eeab875b5a0e52720bd6225556824431b1bcfd01e3f06964316225e86a\n"
     ]
    }
   ],
   "source": [
    "def step_4(bob_derived_key):\n",
    "    fileContent = readFileContent(\"message.txt\")\n",
    "    original_message_hash = hashSHA256(fileContent)\n",
    "    cipher = encryptTheContentWithAESCBC(fileContent, bob_derived_key)\n",
    "    return cipher, original_message_hash\n",
    "\n",
    "\n",
    "cipher, original_message_hash = step_4(bob_derived_key)\n",
    "print(cipher)\n",
    "print(original_message_hash)"
   ]
  },
  {
   "cell_type": "markdown",
   "metadata": {
    "collapsed": false
   },
   "source": [
    "## Step 5: Alice receives the message from Bob\n",
    "\n"
   ]
  },
  {
   "cell_type": "code",
   "execution_count": 117,
   "metadata": {
    "collapsed": false
   },
   "outputs": [
   ],
   "source": [
    "def decryptAES(cipherText, alice_derived_key):\n",
    "    iv = bytes.fromhex(cipherText[:32])\n",
    "    cipherText = bytes.fromhex(cipherText[32:])\n",
    "    dec = AES.new(alice_derived_key, AES.MODE_CBC, iv)\n",
    "    return unpad(dec.decrypt(cipherText)).decode('utf-8')"
   ]
  },
  {
   "cell_type": "code",
   "execution_count": 118,
   "metadata": {
    "collapsed": false
   },
   "outputs": [
   ],
   "source": [
    "def step_5(alice_derived_key, cipher, original_message_hash):\n",
    "    decrypted_message = decryptAES(cipher, alice_derived_key)\n",
    "    result = hashSHA256(decrypted_message) == original_message_hash\n",
    "    return decrypted_message, result  # decrypted_message is the decrypted cipher, and result is a Boolean True/False variable."
   ]
  },
  {
   "cell_type": "code",
   "execution_count": 119,
   "metadata": {
    "collapsed": false
   },
   "outputs": [
    {
     "name": "stdout",
     "output_type": "stream",
     "text": [
      "('this is a secret message from Bob to Alice', True)\n"
     ]
    }
   ],
   "source": [
    "print(step_5(alice_derived_key, cipher, original_message_hash)) # The output should be the message along with the verification result (true in this case)"
   ]
  }
 ],
 "metadata": {
  "kernelspec": {
   "argv": [
    "/ext/anaconda2021.11/bin/python3",
    "-E",
    "-m",
    "ipykernel",
    "--matplotlib=inline",
    "-c",
    "%config InlineBackend.figure_formats = set(['retina'])\nimport matplotlib; matplotlib.rcParams['figure.figsize'] = (12, 7)",
    "-f",
    "{connection_file}"
   ],
   "display_name": "Python 3 (Anaconda 2021)",
   "env": {
    "ADDR2LINE": "/ext/anaconda2021.11/bin/x86_64-conda_cos6-linux-gnu-addr2line",
    "ANACONDA2021": "/ext/anaconda2021.11",
    "ANACONDA3": "$EXT/anaconda3",
    "ANACONDA5": "$EXT/anaconda5",
    "AR": "/ext/anaconda2021.11/bin/x86_64-conda_cos6-linux-gnu-ar",
    "AS": "/ext/anaconda2021.11/bin/x86_64-conda_cos6-linux-gnu-as",
    "CC": "/ext/anaconda2021.11/bin/x86_64-conda_cos6-linux-gnu-cc",
    "CFLAGS": "-march=nocona -mtune=haswell -ftree-vectorize -fPIC -fstack-protector-strong -fno-plt -O2 -ffunction-sections -pipe -isystem /ext/anaconda2021.11/include",
    "CMAKE_PREFIX_PATH": "/ext/anaconda2021.11:/ext/anaconda2021.11/x86_64-conda_cos6-linux-gnu/sysroot/usr",
    "CONDA_BACKUP_HOST": "x86_64-conda_cos6-linux-gnu",
    "CONDA_BUILD_SYSROOT": "/ext/anaconda2021.11/x86_64-conda_cos6-linux-gnu/sysroot",
    "CONDA_DEFAULT_ENV": "base",
    "CONDA_EXE": "/ext/anaconda2021.11/bin/conda",
    "CONDA_MKL_INTERFACE_LAYER_BACKUP": "",
    "CONDA_PREFIX": "/ext/anaconda2021.11",
    "CONDA_PROMPT_MODIFIER": "(base) ",
    "CONDA_PYTHON_EXE": "/ext/anaconda2021.11/bin/python",
    "CONDA_SHLVL": "1",
    "CPP": "/ext/anaconda2021.11/bin/x86_64-conda_cos6-linux-gnu-cpp",
    "CPPFLAGS": "-DNDEBUG -D_FORTIFY_SOURCE=2 -O2 -isystem /ext/anaconda2021.11/include",
    "CXX": "/ext/anaconda2021.11/bin/x86_64-conda_cos6-linux-gnu-c++",
    "CXXFILT": "/ext/anaconda2021.11/bin/x86_64-conda_cos6-linux-gnu-c++filt",
    "CXXFLAGS": "-fvisibility-inlines-hidden -std=c++17 -fmessage-length=0 -march=nocona -mtune=haswell -ftree-vectorize -fPIC -fstack-protector-strong -fno-plt -O2 -ffunction-sections -pipe -isystem /ext/anaconda2021.11/include",
    "DEBUG_CFLAGS": "-march=nocona -mtune=haswell -ftree-vectorize -fPIC -fstack-protector-all -fno-plt -Og -g -Wall -Wextra -fvar-tracking-assignments -ffunction-sections -pipe -isystem /ext/anaconda2021.11/include",
    "DEBUG_CPPFLAGS": "-D_DEBUG -D_FORTIFY_SOURCE=2 -Og -isystem /ext/anaconda2021.11/include",
    "DEBUG_CXXFLAGS": "-fvisibility-inlines-hidden -std=c++17 -fmessage-length=0 -march=nocona -mtune=haswell -ftree-vectorize -fPIC -fstack-protector-all -fno-plt -Og -g -Wall -Wextra -fvar-tracking-assignments -ffunction-sections -pipe -isystem /ext/anaconda2021.11/include",
    "DEBUG_FFLAGS": "-fopenmp -march=nocona -mtune=haswell -ftree-vectorize -fPIC -fstack-protector-strong -fno-plt -O2 -ffunction-sections -pipe -isystem /ext/anaconda2021.11/include -fopenmp -march=nocona -mtune=haswell -ftree-vectorize -fPIC -fstack-protector-all -fno-plt -Og -g -Wall -Wextra -fcheck=all -fbacktrace -fimplicit-none -fvar-tracking-assignments -ffunction-sections -pipe",
    "DEBUG_FORTRANFLAGS": "-fopenmp -march=nocona -mtune=haswell -ftree-vectorize -fPIC -fstack-protector-strong -fno-plt -O2 -ffunction-sections -pipe -isystem /ext/anaconda2021.11/include -fopenmp -march=nocona -mtune=haswell -ftree-vectorize -fPIC -fstack-protector-all -fno-plt -Og -g -Wall -Wextra -fcheck=all -fbacktrace -fimplicit-none -fvar-tracking-assignments -ffunction-sections -pipe",
    "ELFEDIT": "/ext/anaconda2021.11/bin/x86_64-conda_cos6-linux-gnu-elfedit",
    "F77": "/ext/anaconda2021.11/bin/x86_64-conda_cos6-linux-gnu-gfortran",
    "F90": "/ext/anaconda2021.11/bin/x86_64-conda_cos6-linux-gnu-gfortran",
    "F95": "/ext/anaconda2021.11/bin/x86_64-conda_cos6-linux-gnu-f95",
    "FC": "/ext/anaconda2021.11/bin/x86_64-conda_cos6-linux-gnu-gfortran",
    "FFLAGS": "-fopenmp -march=nocona -mtune=haswell -ftree-vectorize -fPIC -fstack-protector-strong -fno-plt -O2 -ffunction-sections -pipe -isystem /ext/anaconda2021.11/include",
    "FORTRANFLAGS": "-fopenmp -march=nocona -mtune=haswell -ftree-vectorize -fPIC -fstack-protector-strong -fno-plt -O2 -ffunction-sections -pipe -isystem /ext/anaconda2021.11/include",
    "GCC": "/ext/anaconda2021.11/bin/x86_64-conda_cos6-linux-gnu-gcc",
    "GCC_AR": "/ext/anaconda2021.11/bin/x86_64-conda_cos6-linux-gnu-gcc-ar",
    "GCC_NM": "/ext/anaconda2021.11/bin/x86_64-conda_cos6-linux-gnu-gcc-nm",
    "GCC_RANLIB": "/ext/anaconda2021.11/bin/x86_64-conda_cos6-linux-gnu-gcc-ranlib",
    "GDAL_DATA": "/ext/anaconda2021.11/share/gdal",
    "GFORTRAN": "/ext/anaconda2021.11/bin/x86_64-conda_cos6-linux-gnu-gfortran",
    "GPROF": "/ext/anaconda2021.11/bin/x86_64-conda_cos6-linux-gnu-gprof",
    "GXX": "/ext/anaconda2021.11/bin/x86_64-conda_cos6-linux-gnu-g++",
    "JAVA_HOME": "/ext/anaconda2021.11",
    "JAVA_HOME_CONDA_BACKUP": "",
    "JAVA_LD_LIBRARY_PATH": "/ext/anaconda2021.11/lib/server",
    "LD": "/ext/anaconda2021.11/bin/x86_64-conda_cos6-linux-gnu-ld",
    "LDFLAGS": "-Wl,-O2 -Wl,--sort-common -Wl,--as-needed -Wl,-z,relro -Wl,-z,now -Wl,--disable-new-dtags -Wl,--gc-sections -Wl,-rpath,/ext/anaconda2021.11/lib -Wl,-rpath-link,/ext/anaconda2021.11/lib -L/ext/anaconda2021.11/lib",
    "LD_GOLD": "/ext/anaconda2021.11/bin/x86_64-conda_cos6-linux-gnu-ld.gold",
    "LD_LIBRARY_PATH": "/ext/anaconda2021.11/lib",
    "MKL_INTERFACE_LAYER": "LP64,GNU",
    "MKL_THREADING_LAYER": "GNU",
    "NM": "/ext/anaconda2021.11/bin/x86_64-conda_cos6-linux-gnu-nm",
    "OBJCOPY": "/ext/anaconda2021.11/bin/x86_64-conda_cos6-linux-gnu-objcopy",
    "OBJDUMP": "/ext/anaconda2021.11/bin/x86_64-conda_cos6-linux-gnu-objdump",
    "OLDPWD": "/ext/anaconda2021.11",
    "PATH": "/ext/anaconda2021.11/bin:/ext/anaconda2021.11/bin:/ext/anaconda2021.11/condabin:/cocalc/bin:/cocalc/src/smc-project/bin:/home/salvus/bin:/home/salvus/.local/bin:/usr/lib/xpra:/ext/bin:/opt/ghc/bin:/usr/local/sbin:/usr/local/bin:/usr/sbin:/usr/bin:/sbin:/bin:/snap/bin:/usr/lib/postgresql/10/bin:/ext/data/homer/bin:/ext/data/weblogo",
    "PROJ_LIB": "/ext/anaconda2021.11/share/proj",
    "RANLIB": "/ext/anaconda2021.11/bin/x86_64-conda_cos6-linux-gnu-ranlib",
    "READELF": "/ext/anaconda2021.11/bin/x86_64-conda_cos6-linux-gnu-readelf",
    "RSTUDIO_WHICH_R": "/ext/anaconda2021.11/bin/R",
    "SIZE": "/ext/anaconda2021.11/bin/x86_64-conda_cos6-linux-gnu-size",
    "STRINGS": "/ext/anaconda2021.11/bin/x86_64-conda_cos6-linux-gnu-strings",
    "STRIP": "/ext/anaconda2021.11/bin/x86_64-conda_cos6-linux-gnu-strip",
    "_CE_CONDA": "",
    "_CE_M": "",
    "_CONDA_PYTHON_SYSCONFIGDATA_NAME": "_sysconfigdata_x86_64_conda_cos6_linux_gnu"
   },
   "language": "python",
   "metadata": {
    "cocalc": {
     "description": "Anaconda 2021.11 Python 3 environment",
     "priority": 10,
     "url": "https://www.anaconda.com/distribution/"
    }
   },
   "name": "anaconda2021",
   "resource_dir": "/ext/jupyter/kernels/anaconda2021"
  },
  "language_info": {
   "codemirror_mode": {
    "name": "ipython",
    "version": 3
   },
   "file_extension": ".py",
   "mimetype": "text/x-python",
   "name": "python",
   "nbconvert_exporter": "python",
   "pygments_lexer": "ipython3",
   "version": "3.9.7"
  }
 },
 "nbformat": 4,
 "nbformat_minor": 4
}
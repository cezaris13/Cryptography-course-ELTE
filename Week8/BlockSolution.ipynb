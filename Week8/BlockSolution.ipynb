{
 "cells": [
  {
   "attachments": {},
   "cell_type": "markdown",
   "metadata": {},
   "source": [
    "Create a file called message.txt with some content of your choice. Then, write a python code in cocalc that implement the following scenario:\n",
    "\n",
    "1) Create a sender function the does the following:\n",
    "\n",
    "- Read the content of the file message.txt.\n",
    "- Hash the content using SHA1 hash function.\n",
    "- Encrypt the content using AES-CBC encryption algorithm\n",
    "- The output will be both the hash value of the message, and the ciphertext.\n",
    "\n",
    "2) Create a receiver function the does the following:\n",
    "\n",
    "- The input is the original hash value, and the ciphertext.\n",
    "- Decrypt the received ciphertext using AES-CBC.\n",
    "- Calculate the hash value of the decrypted ciphertext\n",
    "- Compare the original hash value with the hash value of the decrypted ciphertext."
   ]
  },
  {
   "attachments": {},
   "cell_type": "markdown",
   "metadata": {},
   "source": [
    "Needed imports for the block cypher exercise"
   ]
  },
  {
   "cell_type": "code",
   "execution_count": 31,
   "metadata": {},
   "outputs": [],
   "source": [
    "from hashlib import sha1\n",
    "from Crypto.Cipher import AES\n",
    "from Cryptodome.Random import get_random_bytes\n",
    "import secrets"
   ]
  },
  {
   "attachments": {},
   "cell_type": "markdown",
   "metadata": {},
   "source": [
    "Reading the file content function"
   ]
  },
  {
   "cell_type": "code",
   "execution_count": 32,
   "metadata": {},
   "outputs": [],
   "source": [
    "def readFileConent(fileName):\n",
    "    with open(fileName, 'r',encoding='utf-8') as f:\n",
    "        return f.read()"
   ]
  },
  {
   "attachments": {},
   "cell_type": "markdown",
   "metadata": {},
   "source": [
    "SHA 1 hash function"
   ]
  },
  {
   "cell_type": "code",
   "execution_count": 33,
   "metadata": {},
   "outputs": [],
   "source": [
    "def hashFileContentWithSha1(fileContent):\n",
    "    return sha1(fileContent.encode()).hexdigest()"
   ]
  },
  {
   "attachments": {},
   "cell_type": "markdown",
   "metadata": {},
   "source": [
    "padding from the cryptography slides"
   ]
  },
  {
   "cell_type": "code",
   "execution_count": 34,
   "metadata": {},
   "outputs": [],
   "source": [
    "BLOCK_SIZE = 16\n",
    "pad = lambda s : s +(BLOCK_SIZE-len(s)%BLOCK_SIZE)*chr(BLOCK_SIZE-len(s)%BLOCK_SIZE)\n",
    "unpad = lambda s : s[:-ord(s[len(s)-1:])]"
   ]
  },
  {
   "attachments": {},
   "cell_type": "markdown",
   "metadata": {},
   "source": [
    "Encrypting the file content with AES-CBC"
   ]
  },
  {
   "cell_type": "code",
   "execution_count": 35,
   "metadata": {},
   "outputs": [],
   "source": [
    "def encryptTheContentWithAESCBC(fileContent, key):\n",
    "    iv = secrets.token_bytes(BLOCK_SIZE)\n",
    "    enc = AES.new(key, AES.MODE_CBC, iv)\n",
    "    data = pad(fileContent).encode(\"utf-8\")\n",
    "    cipherText = enc.encrypt(data)\n",
    "    cipherTextHex = iv.hex() + cipherText.hex()\n",
    "    return cipherTextHex"
   ]
  },
  {
   "attachments": {},
   "cell_type": "markdown",
   "metadata": {},
   "source": [
    "encrypting file content given key and filename and returning hash value and ciphertext"
   ]
  },
  {
   "cell_type": "code",
   "execution_count": 36,
   "metadata": {},
   "outputs": [],
   "source": [
    "def encryptContent (fileName, key):\n",
    "    content = readFileConent(fileName)\n",
    "    print(content)\n",
    "    hash = hashFileContentWithSha1(content)\n",
    "    return (hash,encryptTheContentWithAESCBC(content, key))"
   ]
  },
  {
   "cell_type": "code",
   "execution_count": 37,
   "metadata": {},
   "outputs": [
    {
     "name": "stdout",
     "output_type": "stream",
     "text": [
      "hello world!\n",
      "hash:  430ce34d020724ed75a196dfc2ad67c77772d169\n",
      "cipher text:  5c2583a364573684f2baae44f57d6343b73791fdbd351ab1fab846e4d13d1184\n"
     ]
    }
   ],
   "source": [
    "key = get_random_bytes(BLOCK_SIZE)\n",
    "hash, cipherTextHex = encryptContent('message.txt', key)\n",
    "print(\"hash: \",hash)\n",
    "print(\"cipher text: \", cipherTextHex)"
   ]
  },
  {
   "attachments": {},
   "cell_type": "markdown",
   "metadata": {},
   "source": [
    "Decrypting the file content with AES-CBC, and comparing the hash value of decrypted text with the original hash value of the file content."
   ]
  },
  {
   "cell_type": "code",
   "execution_count": 38,
   "metadata": {},
   "outputs": [],
   "source": [
    "def decryptAES(hash, cipherText):\n",
    "    iv = bytes.fromhex(cipherText[:32])\n",
    "    cipherText = bytes.fromhex(cipherText[32:])\n",
    "    dec = AES.new(key, AES.MODE_CBC, iv)\n",
    "    plaintext = unpad(dec.decrypt(cipherText)).decode('utf-8')\n",
    "    hashValue = hashFileContentWithSha1(plaintext)\n",
    "    print('decrypted value: ', plaintext)\n",
    "    if hashValue == hash:\n",
    "        print (\"Hash is equal\")\n",
    "    else:\n",
    "        print (\"Hash is not equal\")\n"
   ]
  },
  {
   "cell_type": "code",
   "execution_count": 39,
   "metadata": {},
   "outputs": [
    {
     "name": "stdout",
     "output_type": "stream",
     "text": [
      "decrypted value:  hello world!\n",
      "Hash is equal\n"
     ]
    }
   ],
   "source": [
    "decryptAES(hash, cipherTextHex)"
   ]
  }
 ],
 "metadata": {
  "kernelspec": {
   "display_name": "Python 3",
   "language": "python",
   "name": "python3"
  },
  "language_info": {
   "codemirror_mode": {
    "name": "ipython",
    "version": 3
   },
   "file_extension": ".py",
   "mimetype": "text/x-python",
   "name": "python",
   "nbconvert_exporter": "python",
   "pygments_lexer": "ipython3",
   "version": "3.10.10"
  },
  "orig_nbformat": 4,
  "vscode": {
   "interpreter": {
    "hash": "767d51c1340bd893661ea55ea3124f6de3c7a262a8b4abca0554b478b1e2ff90"
   }
  }
 },
 "nbformat": 4,
 "nbformat_minor": 2
}

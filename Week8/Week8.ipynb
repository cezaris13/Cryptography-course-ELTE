{
 "cells": [
  {
   "attachments": {},
   "cell_type": "markdown",
   "metadata": {},
   "source": [
    "Padding"
   ]
  },
  {
   "cell_type": "code",
   "execution_count": 9,
   "metadata": {},
   "outputs": [],
   "source": [
    "import secrets\n",
    "from Crypto.Cipher import AES\n",
    "\n",
    "plainText = 'Hello World!'\n",
    "key = '1234567890123456'\n",
    "\n",
    "BLOCK_SIZE = 16 # Bytes\n",
    "pad  = lambda s: s + (BLOCK_SIZE - len(s) % BLOCK_SIZE) * chr(BLOCK_SIZE-len(s) % BLOCK_SIZE)\n",
    "\n",
    "unpad = lambda s : s[:-ord(s[len(s)-1:])]"
   ]
  },
  {
   "attachments": {},
   "cell_type": "markdown",
   "metadata": {},
   "source": [
    "Encryption"
   ]
  },
  {
   "cell_type": "code",
   "execution_count": 11,
   "metadata": {},
   "outputs": [
    {
     "ename": "TypeError",
     "evalue": "Object type <class 'str'> cannot be passed to C code",
     "output_type": "error",
     "traceback": [
      "\u001b[0;31m---------------------------------------------------------------------------\u001b[0m",
      "\u001b[0;31mTypeError\u001b[0m                                 Traceback (most recent call last)",
      "Cell \u001b[0;32mIn[11], line 12\u001b[0m\n\u001b[1;32m     10\u001b[0m \u001b[39m# Encryption\u001b[39;00m\n\u001b[1;32m     11\u001b[0m iv \u001b[39m=\u001b[39m secrets\u001b[39m.\u001b[39mtoken_bytes(\u001b[39m16\u001b[39m)\n\u001b[0;32m---> 12\u001b[0m Enc \u001b[39m=\u001b[39m AES\u001b[39m.\u001b[39;49mnew(key, AES\u001b[39m.\u001b[39;49mMODE_CBC, iv)\n\u001b[1;32m     13\u001b[0m data \u001b[39m=\u001b[39m pad(plaintext)\u001b[39m.\u001b[39mencode()\n\u001b[1;32m     14\u001b[0m ciphertext \u001b[39m=\u001b[39m Enc\u001b[39m.\u001b[39mencrypt(data)\n",
      "File \u001b[0;32m/usr/lib/python3.10/site-packages/Crypto/Cipher/AES.py:228\u001b[0m, in \u001b[0;36mnew\u001b[0;34m(key, mode, *args, **kwargs)\u001b[0m\n\u001b[1;32m    128\u001b[0m \u001b[39m\u001b[39m\u001b[39m\"\"\"Create a new AES cipher.\u001b[39;00m\n\u001b[1;32m    129\u001b[0m \n\u001b[1;32m    130\u001b[0m \u001b[39mArgs:\u001b[39;00m\n\u001b[0;32m   (...)\u001b[0m\n\u001b[1;32m    224\u001b[0m \u001b[39m    an AES object, of the applicable mode.\u001b[39;00m\n\u001b[1;32m    225\u001b[0m \u001b[39m\"\"\"\u001b[39;00m\n\u001b[1;32m    227\u001b[0m kwargs[\u001b[39m\"\u001b[39m\u001b[39madd_aes_modes\u001b[39m\u001b[39m\"\u001b[39m] \u001b[39m=\u001b[39m \u001b[39mTrue\u001b[39;00m\n\u001b[0;32m--> 228\u001b[0m \u001b[39mreturn\u001b[39;00m _create_cipher(sys\u001b[39m.\u001b[39;49mmodules[\u001b[39m__name__\u001b[39;49m], key, mode, \u001b[39m*\u001b[39;49margs, \u001b[39m*\u001b[39;49m\u001b[39m*\u001b[39;49mkwargs)\n",
      "File \u001b[0;32m/usr/lib/python3.10/site-packages/Crypto/Cipher/__init__.py:79\u001b[0m, in \u001b[0;36m_create_cipher\u001b[0;34m(factory, key, mode, *args, **kwargs)\u001b[0m\n\u001b[1;32m     76\u001b[0m     \u001b[39melif\u001b[39;00m mode \u001b[39m==\u001b[39m \u001b[39m1\u001b[39m:\n\u001b[1;32m     77\u001b[0m         \u001b[39mraise\u001b[39;00m \u001b[39mTypeError\u001b[39;00m(\u001b[39m\"\u001b[39m\u001b[39mIV is not meaningful for the ECB mode\u001b[39m\u001b[39m\"\u001b[39m)\n\u001b[0;32m---> 79\u001b[0m \u001b[39mreturn\u001b[39;00m modes[mode](factory, \u001b[39m*\u001b[39;49m\u001b[39m*\u001b[39;49mkwargs)\n",
      "File \u001b[0;32m/usr/lib/python3.10/site-packages/Crypto/Cipher/_mode_cbc.py:274\u001b[0m, in \u001b[0;36m_create_cbc_cipher\u001b[0;34m(factory, **kwargs)\u001b[0m\n\u001b[1;32m    255\u001b[0m \u001b[39mdef\u001b[39;00m \u001b[39m_create_cbc_cipher\u001b[39m(factory, \u001b[39m*\u001b[39m\u001b[39m*\u001b[39mkwargs):\n\u001b[1;32m    256\u001b[0m \u001b[39m    \u001b[39m\u001b[39m\"\"\"Instantiate a cipher object that performs CBC encryption/decryption.\u001b[39;00m\n\u001b[1;32m    257\u001b[0m \n\u001b[1;32m    258\u001b[0m \u001b[39m    :Parameters:\u001b[39;00m\n\u001b[0;32m   (...)\u001b[0m\n\u001b[1;32m    271\u001b[0m \u001b[39m    to be present).\u001b[39;00m\n\u001b[1;32m    272\u001b[0m \u001b[39m    \"\"\"\u001b[39;00m\n\u001b[0;32m--> 274\u001b[0m     cipher_state \u001b[39m=\u001b[39m factory\u001b[39m.\u001b[39;49m_create_base_cipher(kwargs)\n\u001b[1;32m    275\u001b[0m     iv \u001b[39m=\u001b[39m kwargs\u001b[39m.\u001b[39mpop(\u001b[39m\"\u001b[39m\u001b[39mIV\u001b[39m\u001b[39m\"\u001b[39m, \u001b[39mNone\u001b[39;00m)\n\u001b[1;32m    276\u001b[0m     IV \u001b[39m=\u001b[39m kwargs\u001b[39m.\u001b[39mpop(\u001b[39m\"\u001b[39m\u001b[39miv\u001b[39m\u001b[39m\"\u001b[39m, \u001b[39mNone\u001b[39;00m)\n",
      "File \u001b[0;32m/usr/lib/python3.10/site-packages/Crypto/Cipher/AES.py:100\u001b[0m, in \u001b[0;36m_create_base_cipher\u001b[0;34m(dict_parameters)\u001b[0m\n\u001b[1;32m     97\u001b[0m     stop_operation \u001b[39m=\u001b[39m _raw_aes_lib\u001b[39m.\u001b[39mAES_stop_operation\n\u001b[1;32m     99\u001b[0m cipher \u001b[39m=\u001b[39m VoidPointer()\n\u001b[0;32m--> 100\u001b[0m result \u001b[39m=\u001b[39m start_operation(c_uint8_ptr(key),\n\u001b[1;32m    101\u001b[0m                          c_size_t(\u001b[39mlen\u001b[39m(key)),\n\u001b[1;32m    102\u001b[0m                          cipher\u001b[39m.\u001b[39maddress_of())\n\u001b[1;32m    103\u001b[0m \u001b[39mif\u001b[39;00m result:\n\u001b[1;32m    104\u001b[0m     \u001b[39mraise\u001b[39;00m \u001b[39mValueError\u001b[39;00m(\u001b[39m\"\u001b[39m\u001b[39mError \u001b[39m\u001b[39m%X\u001b[39;00m\u001b[39m while instantiating the AES cipher\u001b[39m\u001b[39m\"\u001b[39m\n\u001b[1;32m    105\u001b[0m                      \u001b[39m%\u001b[39m result)\n",
      "File \u001b[0;32m/usr/lib/python3.10/site-packages/Crypto/Util/_raw_api.py:143\u001b[0m, in \u001b[0;36mc_uint8_ptr\u001b[0;34m(data)\u001b[0m\n\u001b[1;32m    141\u001b[0m     \u001b[39mreturn\u001b[39;00m data\n\u001b[1;32m    142\u001b[0m \u001b[39melse\u001b[39;00m:\n\u001b[0;32m--> 143\u001b[0m     \u001b[39mraise\u001b[39;00m \u001b[39mTypeError\u001b[39;00m(\u001b[39m\"\u001b[39m\u001b[39mObject type \u001b[39m\u001b[39m%s\u001b[39;00m\u001b[39m cannot be passed to C code\u001b[39m\u001b[39m\"\u001b[39m \u001b[39m%\u001b[39m \u001b[39mtype\u001b[39m(data))\n",
      "\u001b[0;31mTypeError\u001b[0m: Object type <class 'str'> cannot be passed to C code"
     ]
    }
   ],
   "source": [
    "# iv = secrets.token_bytes(BLOCK_SIZE)\n",
    "# Enc = AES.new(key, AES.MODE_CBC, iv)\n",
    "# data = pad(plainText).encode()\n",
    "# cipherText = Enc.encrypt(data)\n",
    "# cipherText_hex = iv.hex() + cipherText.hex()\n",
    "\n",
    "key = \"1234567812345678\"\n",
    "plaintext = \"hello Worlds!\"\n",
    "\n",
    "# Encryption\n",
    "iv = secrets.token_bytes(16)\n",
    "Enc = AES.new(key, AES.MODE_CBC, iv)\n",
    "data = pad(plaintext).encode()\n",
    "ciphertext = Enc.encrypt(data)\n",
    "ciphertext_hex = iv.hex() + ciphertext.hex()"
   ]
  },
  {
   "attachments": {},
   "cell_type": "markdown",
   "metadata": {},
   "source": [
    "Decryption"
   ]
  },
  {
   "cell_type": "code",
   "execution_count": null,
   "metadata": {},
   "outputs": [],
   "source": [
    "iv = bytes.fromhex(cipherText[:32])\n",
    "cipherText = bytes.fromhex(cipherText[32:])\n",
    "Dec = AES.new(key, AES.MODE_CBC, iv)\n",
    "pt = Dec.decrypt(cipherText)\n"
   ]
  },
  {
   "cell_type": "code",
   "execution_count": 7,
   "metadata": {},
   "outputs": [
    {
     "name": "stdout",
     "output_type": "stream",
     "text": [
      "M T W T F S S\n"
     ]
    }
   ],
   "source": [
    "import calendar\n",
    "\n",
    "print(calendar.weekheader(1))"
   ]
  },
  {
   "cell_type": "code",
   "execution_count": 6,
   "metadata": {},
   "outputs": [
    {
     "ename": "AttributeError",
     "evalue": "'Vowels' object has no attribute 'pos'",
     "output_type": "error",
     "traceback": [
      "\u001b[0;31m---------------------------------------------------------------------------\u001b[0m",
      "\u001b[0;31mAttributeError\u001b[0m                            Traceback (most recent call last)",
      "Cell \u001b[0;32mIn[6], line 20\u001b[0m\n\u001b[1;32m     16\u001b[0m        \u001b[39mreturn\u001b[39;00m \u001b[39mself\u001b[39m\u001b[39m.\u001b[39mvow[\u001b[39mself\u001b[39m\u001b[39m.\u001b[39mpos \u001b[39m-\u001b[39m \u001b[39m1\u001b[39m]\n\u001b[1;32m     18\u001b[0m vowels \u001b[39m=\u001b[39m Vowels()\n\u001b[0;32m---> 20\u001b[0m \u001b[39mfor\u001b[39;00m v \u001b[39min\u001b[39;00m vowels:\n\u001b[1;32m     22\u001b[0m      \u001b[39mprint\u001b[39m(v, end\u001b[39m=\u001b[39m\u001b[39m'\u001b[39m\u001b[39m \u001b[39m\u001b[39m'\u001b[39m)\n",
      "Cell \u001b[0;32mIn[6], line 12\u001b[0m, in \u001b[0;36mVowels.__next__\u001b[0;34m(self)\u001b[0m\n\u001b[1;32m     11\u001b[0m \u001b[39mdef\u001b[39;00m \u001b[39m__next__\u001b[39m(\u001b[39mself\u001b[39m):\n\u001b[0;32m---> 12\u001b[0m   \u001b[39mif\u001b[39;00m \u001b[39mself\u001b[39;49m\u001b[39m.\u001b[39;49mpos \u001b[39m==\u001b[39m \u001b[39mlen\u001b[39m(vow):\n\u001b[1;32m     13\u001b[0m      \u001b[39mraise\u001b[39;00m \u001b[39mStopIteration\u001b[39;00m\n\u001b[1;32m     14\u001b[0m   \u001b[39mself\u001b[39m\u001b[39m.\u001b[39mpos \u001b[39m+\u001b[39m\u001b[39m=\u001b[39m \u001b[39m1\u001b[39m\n",
      "\u001b[0;31mAttributeError\u001b[0m: 'Vowels' object has no attribute 'pos'"
     ]
    }
   ],
   "source": [
    "class Vowels:\n",
    "\n",
    "     def __init__(self):\n",
    "\n",
    "            self.vow = \"aeiouy \" # Yes, we know that y is not always considered a vowel.       self.pos = 0\n",
    "\n",
    "     def __iter__(self):\n",
    "\n",
    "          return self\n",
    "\n",
    "     def __next__(self):\n",
    "       if self.pos == len(vow):\n",
    "          raise StopIteration\n",
    "       self.pos += 1\n",
    "\n",
    "       return self.vow[self.pos - 1]\n",
    "\n",
    "vowels = Vowels()\n",
    "\n",
    "for v in vowels:\n",
    "\n",
    "     print(v, end=' ')"
   ]
  },
  {
   "cell_type": "code",
   "execution_count": 9,
   "metadata": {},
   "outputs": [
    {
     "name": "stdout",
     "output_type": "stream",
     "text": [
      "14:39:00\n"
     ]
    }
   ],
   "source": [
    "from datetime import time\n",
    "\n",
    "t = time(14, 39)\n",
    "\n",
    "print(t.strftime(\"%H:%M:%S\"))"
   ]
  }
 ],
 "metadata": {
  "kernelspec": {
   "display_name": "Python 3",
   "language": "python",
   "name": "python3"
  },
  "language_info": {
   "codemirror_mode": {
    "name": "ipython",
    "version": 3
   },
   "file_extension": ".py",
   "mimetype": "text/x-python",
   "name": "python",
   "nbconvert_exporter": "python",
   "pygments_lexer": "ipython3",
   "version": "3.10.10"
  },
  "orig_nbformat": 4,
  "vscode": {
   "interpreter": {
    "hash": "767d51c1340bd893661ea55ea3124f6de3c7a262a8b4abca0554b478b1e2ff90"
   }
  }
 },
 "nbformat": 4,
 "nbformat_minor": 2
}

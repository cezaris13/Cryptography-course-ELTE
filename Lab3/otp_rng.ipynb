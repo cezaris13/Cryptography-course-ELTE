{
 "cells": [
  {
   "cell_type": "markdown",
   "metadata": {
    "collapsed": false
   },
   "source": [
    "### Strings\n",
    "\n"
   ]
  },
  {
   "cell_type": "code",
   "execution_count": 1,
   "metadata": {
    "collapsed": false
   },
   "outputs": [
    {
     "name": "stdout",
     "output_type": "stream",
     "text": [
      "cryptography :  11\n",
      "security :  22\n"
     ]
    }
   ],
   "source": [
    "# join two strings\n",
    "names = ['cryptography', 'security']\n",
    "codes = [11, 22]\n",
    "result = zip(names, codes)\n",
    "for (a, b) in result:\n",
    "    print(a, \": \", b)\n"
   ]
  },
  {
   "cell_type": "code",
   "execution_count": 2,
   "metadata": {
    "collapsed": false
   },
   "outputs": [
    {
     "name": "stdout",
     "output_type": "stream",
     "text": [
      "c  -  s\n",
      "r  -  e\n",
      "y  -  c\n",
      "p  -  u\n",
      "t  -  r\n",
      "o  -  i\n",
      "g  -  t\n",
      "r  -  y\n"
     ]
    }
   ],
   "source": [
    "# join two strings\n",
    "str1 = 'cryptography' \n",
    "str2 = 'security'\n",
    "result = zip(str1, str2)\n",
    "for (a, b) in result:\n",
    "    print(a, \" - \", b)\n"
   ]
  },
  {
   "attachments": {},
   "cell_type": "markdown",
   "metadata": {},
   "source": [
    "Write a python code in cocalc that breaks the following using brute force attack:\n",
    "\n",
    "Assume you got a ciphertext (in hexa) that  is  b'1525053514291239',  as a result of XOR encryption.\n",
    "Additionally, assume that the unknown plaintext is an 8-letter word and among the most common words in English\n",
    "You know that a very weak key is used that consists of a repeated character followed by @ sign. For example, if the word is an 8 letter word, then the key will be: ?@?@?@?@\n",
    "Your task is to brute force this ciphertext based on the above information.\n",
    "Output any successful decrypted plaintext, if you have found it among the most common words in English."
   ]
  },
  {
   "cell_type": "code",
   "execution_count": 3,
   "metadata": {
    "collapsed": false
   },
   "outputs": [],
   "source": [
    "#conversions\n",
    "text=\"example\""
   ]
  },
  {
   "cell_type": "code",
   "execution_count": 4,
   "metadata": {
    "collapsed": false
   },
   "outputs": [
    {
     "data": {
      "text/plain": [
       "[101, 120, 97, 109, 112, 108, 101]"
      ]
     },
     "execution_count": 4,
     "metadata": {},
     "output_type": "execute_result"
    }
   ],
   "source": [
    "# char-byte\n",
    "bytes = [ord(c) for c in text]\n",
    "bytes\n"
   ]
  },
  {
   "cell_type": "code",
   "execution_count": 5,
   "metadata": {
    "collapsed": false
   },
   "outputs": [
    {
     "data": {
      "text/plain": [
       "['e', 'x', 'a', 'm', 'p', 'l', 'e']"
      ]
     },
     "execution_count": 5,
     "metadata": {},
     "output_type": "execute_result"
    }
   ],
   "source": [
    "\n",
    "# byte-char\n",
    "chars = [chr(b) for b in bytes]\n",
    "chars\n"
   ]
  },
  {
   "cell_type": "code",
   "execution_count": 6,
   "metadata": {
    "collapsed": false
   },
   "outputs": [
    {
     "data": {
      "text/plain": [
       "'example'"
      ]
     },
     "execution_count": 6,
     "metadata": {},
     "output_type": "execute_result"
    }
   ],
   "source": [
    "# chars-str\n",
    "s = \"*\".join(chars)\n",
    "s"
   ]
  },
  {
   "cell_type": "code",
   "execution_count": 7,
   "metadata": {
    "collapsed": false
   },
   "outputs": [],
   "source": [
    "# Auxiliary func:\n",
    "from binascii import hexlify, unhexlify"
   ]
  },
  {
   "cell_type": "code",
   "execution_count": 8,
   "metadata": {
    "collapsed": false
   },
   "outputs": [
    {
     "data": {
      "text/plain": [
       "b'4142434445'"
      ]
     },
     "execution_count": 8,
     "metadata": {},
     "output_type": "execute_result"
    }
   ],
   "source": [
    "# Hexlify converts a sequence of ascii characters to the sequence of two-digit hexa codes (A = hexa 41 etc.)\n",
    "h = hexlify(\"ABCDE\".encode())\n",
    "h"
   ]
  },
  {
   "cell_type": "code",
   "execution_count": 9,
   "metadata": {
    "collapsed": false
   },
   "outputs": [
    {
     "data": {
      "text/plain": [
       "'ABCDE'"
      ]
     },
     "execution_count": 9,
     "metadata": {},
     "output_type": "execute_result"
    }
   ],
   "source": [
    "unhexlify(h).decode()"
   ]
  },
  {
   "cell_type": "markdown",
   "metadata": {
    "collapsed": false
   },
   "source": [
    "### XOR Encryption\n",
    "\n"
   ]
  },
  {
   "cell_type": "code",
   "execution_count": 10,
   "metadata": {
    "collapsed": false
   },
   "outputs": [],
   "source": [
    "secret = 'thesecretkey'\n",
    "message = 'cryptography'"
   ]
  },
  {
   "cell_type": "code",
   "execution_count": 11,
   "metadata": {
    "collapsed": false
   },
   "outputs": [],
   "source": [
    "def xor(string1, string2):\n",
    "    return \"\".join([chr(ord(c1) ^ ord(c2)) for (c1,c2) in zip(string1,string2)])"
   ]
  },
  {
   "cell_type": "code",
   "execution_count": 12,
   "metadata": {
    "collapsed": false
   },
   "outputs": [
    {
     "name": "stdout",
     "output_type": "stream",
     "text": [
      " cipher (in hexa) =  b'171a1c03110c1517151b0d00'\n"
     ]
    }
   ],
   "source": [
    "cipher = xor(message, secret)\n",
    "cipher_hex = hexlify(cipher.encode())\n",
    "print(\" cipher (in hexa) = \", cipher_hex)"
   ]
  },
  {
   "cell_type": "code",
   "execution_count": 13,
   "metadata": {
    "collapsed": false
   },
   "outputs": [
    {
     "name": "stdout",
     "output_type": "stream",
     "text": [
      "decoded plain =  cryptography\n"
     ]
    }
   ],
   "source": [
    "# cipher (in hexa) = 171a1c03110c1517151b0d00\n",
    "cipher = unhexlify(cipher_hex).decode()\n",
    "plain = xor(cipher, secret)\n",
    "print(\"decoded plain = \", plain)\n"
   ]
  },
  {
   "cell_type": "markdown",
   "metadata": {
    "collapsed": false
   },
   "source": [
    "### <span style='font-size:medium'>Example</span>\n",
    "\n",
    "<span style='font-size:medium'>Suppose we got a ciphertext encrypted by OTP, along with the following information:</span>\n",
    "\n",
    "<span style='font-size:medium'>**Plaintext INFO**</span><span style='font-size:medium'>: a set of decimal numbers</span>\n",
    "\n",
    "<span style='font-size:medium'>**Key space:**</span><span style='font-size:medium'> 15 identical characters</span>\n",
    "\n"
   ]
  },
  {
   "cell_type": "code",
   "execution_count": 14,
   "metadata": {
    "collapsed": false
   },
   "outputs": [
    {
     "data": {
      "text/plain": [
       "'UVWPQRS\\\\]UTUUUV'"
      ]
     },
     "execution_count": 14,
     "metadata": {},
     "output_type": "execute_result"
    }
   ],
   "source": [
    "plain = \"123456789101112\"\n",
    "key = \"ddddddddddddddd\"\n",
    "cipher = xor(plain, key)\n",
    "cipher_hex = hexlify(cipher.encode())\n",
    "unhexlify(cipher_hex).decode()"
   ]
  },
  {
   "cell_type": "code",
   "execution_count": 15,
   "metadata": {
    "collapsed": false
   },
   "outputs": [],
   "source": [
    "# brute force\n",
    "def brute_crack(cipher_hex):\n",
    "    c = unhexlify(cipher_hex).decode()\n",
    "    for i in range(256):\n",
    "        k = chr(i) * 15\n",
    "        m = xor(c, k)\n",
    "        if m.isdecimal():\n",
    "            return (k, m)\n"
   ]
  },
  {
   "cell_type": "code",
   "execution_count": 16,
   "metadata": {
    "collapsed": false
   },
   "outputs": [
    {
     "data": {
      "text/plain": [
       "('ddddddddddddddd', '123456789101112')"
      ]
     },
     "execution_count": 16,
     "metadata": {},
     "output_type": "execute_result"
    }
   ],
   "source": [
    "brute_crack(cipher_hex)"
   ]
  },
  {
   "cell_type": "markdown",
   "metadata": {
    "collapsed": false
   },
   "source": [
    "## OTP with RNG\n",
    "\n"
   ]
  },
  {
   "cell_type": "code",
   "execution_count": 17,
   "metadata": {
    "collapsed": false
   },
   "outputs": [],
   "source": [
    "from random import seed\n",
    "from random import randint"
   ]
  },
  {
   "cell_type": "code",
   "execution_count": 18,
   "metadata": {
    "collapsed": false
   },
   "outputs": [],
   "source": [
    "def randkey(n):\n",
    "    key = \"\".join(chr(randint(0,256)) for _ in range(n))\n",
    "    return key"
   ]
  },
  {
   "cell_type": "code",
   "execution_count": 19,
   "metadata": {
    "collapsed": false
   },
   "outputs": [
    {
     "data": {
      "text/plain": [
       "'Kvk;À'"
      ]
     },
     "execution_count": 19,
     "metadata": {},
     "output_type": "execute_result"
    }
   ],
   "source": [
    "randkey(5)\n"
   ]
  },
  {
   "cell_type": "code",
   "execution_count": 20,
   "metadata": {
    "collapsed": false
   },
   "outputs": [
    {
     "name": "stdout",
     "output_type": "stream",
     "text": [
      " cipher (in hexa) =  b'02c3b2c38152c2a17dc2a5406615c3af22'\n"
     ]
    }
   ],
   "source": [
    "secret = randkey(len(message))\n",
    "cipher = xor(message, secret)\n",
    "cipher_hex = hexlify(cipher.encode())\n",
    "print(\" cipher (in hexa) = \", cipher_hex)"
   ]
  },
  {
   "cell_type": "code",
   "execution_count": 21,
   "metadata": {
    "collapsed": false
   },
   "outputs": [
    {
     "name": "stdout",
     "output_type": "stream",
     "text": [
      "decoded plain =  cryptography\n"
     ]
    }
   ],
   "source": [
    "cipher = unhexlify(cipher_hex).decode()\n",
    "plain = xor(cipher, secret)\n",
    "print(\"decoded plain = \", plain)"
   ]
  },
  {
   "cell_type": "code",
   "execution_count": null,
   "metadata": {
    "collapsed": false
   },
   "outputs": [],
   "source": []
  }
 ],
 "metadata": {
  "kernelspec": {
   "display_name": "Python 3",
   "language": "python",
   "name": "python3"
  },
  "language_info": {
   "codemirror_mode": {
    "name": "ipython",
    "version": 3
   },
   "file_extension": ".py",
   "mimetype": "text/x-python",
   "name": "python",
   "nbconvert_exporter": "python",
   "pygments_lexer": "ipython3",
   "version": "3.10.10"
  },
  "vscode": {
   "interpreter": {
    "hash": "767d51c1340bd893661ea55ea3124f6de3c7a262a8b4abca0554b478b1e2ff90"
   }
  }
 },
 "nbformat": 4,
 "nbformat_minor": 4
}

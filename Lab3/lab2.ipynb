{
 "cells": [
  {
   "cell_type": "code",
   "execution_count": 22,
   "metadata": {},
   "outputs": [
    {
     "name": "stdout",
     "output_type": "stream",
     "text": [
      "e 589\n",
      "t 368\n",
      "i 362\n",
      "a 359\n",
      "s 345\n",
      "o 338\n",
      "n 336\n",
      "r 304\n",
      "h 214\n",
      "l 196\n",
      "d 162\n",
      "c 161\n",
      "u 120\n",
      "m 116\n",
      "f 105\n",
      "p 103\n",
      "w 83\n",
      "g 76\n",
      "y 67\n",
      "b 54\n",
      "v 45\n",
      "k 28\n",
      "S 24\n",
      "x 18\n",
      "T 16\n",
      "G 16\n",
      "A 11\n",
      "z 9\n",
      "K 8\n",
      "R 7\n",
      "U 7\n",
      "D 6\n",
      "M 6\n",
      "V 6\n",
      "L 6\n",
      "N 6\n",
      "F 5\n",
      "I 5\n",
      "P 4\n",
      "j 4\n",
      "B 3\n",
      "O 3\n",
      "J 3\n",
      "E 3\n",
      "C 2\n",
      "q 2\n"
     ]
    }
   ],
   "source": [
    "## Security is based on the fact that there is too many keys\n",
    "## Caesar cipher the key size is too small(26)\n",
    "## TODO get file with top 1000 words in english and use that to decrypt\n",
    "from collections import Counter\n",
    "\n",
    "article = \"Forced exile to Siberia had been in use for a wide range of offenses since the seventeenth century and it was a common punishment for political dissidents and revolutionaries. In the nineteenth century, the members of the failed Decembrist revolt and Polish nobles who resisted Russian rule were sent into exile. Fyodor Dostoevsky was sentenced to die for reading banned literature in 1849, but the sentence was commuted to banishment to Siberia. Members of various socialist revolutionary groups, including Bolsheviks such as Sergo Ordzhonikidze, Vladimir Lenin, Leon Trotsky, and Joseph Stalin were also sent into exile.[41]Convicts who were serving labor sentences and exiles were sent to the underpopulated areas of Siberia and the Russian Far East – regions that lacked towns or food sources as well as organized transportation systems. Despite the isolated conditions, some prisoners successfully escaped to populated areas. Stalin himself escaped three of the four times after he was sent into exile.[42] Since these times, Siberia gained its fearful connotation as a place of punishment, a reputation which was further enhanced by the Soviet GULAG system. The Bolsheviks' own experiences with exile and forced labor provided them with a model which they could base their own system on, including the importance of strict enforcement.The Tsar and the Russian Empire both used forced exile and forced labour as forms of judicial punishment. Katorga, a category of punishment which was reserved for those who were convicted of the most serious crimes, had many of the features which were associated with labor-camp imprisonment: confinement, simplified facilities (as opposed to the facilities which existed in prisons), and forced labor, usually involving hard, unskilled or semi-skilled work. According to historian Anne Applebaum, katorga was not a common sentence; approximately 6,000 katorga convicts were serving sentences in 1906 and 28,600 in 1916.[39] Under the Imperial Russian penal system, those who were convicted of less serious crimes were sent to corrective prisons and they were also made to work.[The Gulag[c][d][10][11][9] was the government agency in charge of the Soviet network of forced labour camps which were set up by order of Vladimir Lenin, reaching its peak during Joseph Stalin's rule from the 1930s to the early 1950s.[12] English-language speakers also use the word gulag in reference to each of the forced-labor camps that existed in the Soviet Union, including the camps that existed in the post-Lenin era.[13][14] The full official name of the agency changed several times.The Gulag is recognized as a major instrument of political repression in the Soviet Union. The camps housed a wide range of convicts, from petty criminals to political prisoners, a large number of whom were convicted by simplified procedures, such as NKVD troikas or other instruments of extrajudicial punishment. In 1918–1922, the agency was administered by the Cheka, followed by the GPU (1922–1923), the OGPU (1923–1934), later known as the NKVD (1934–1946), and the Ministry of Internal Affairs (MVD) in the final years. The Solovki prison camp, the first correctional labour camp which was constructed after the revolution, was opened in 1918 and legalized by a decree, On the creation of the forced-labor camps, on April 15, 1919.The internment system grew rapidly, reaching a population of 100,000 in the 1920s. By the end of 1940, the population of the Gulag camps amounted to 1.5 million.[15] The emergent consensus among scholars is that, of the 14 million prisoners who passed through the Gulag camps and the 4 million prisoners who passed through the Gulag colonies from 1930 to 1953, roughly 1.5 to 1.7 million prisoners perished there or they died soon after they were released.[1][2][3] Some journalists and writers who question the reliability of such data heavily rely on memoir sources that come to higher estimations.[1][7] Archival researchers have found no plan of destruction of the gulag population and no statement of official intent to kill them, and prisoner releases vastly exceeded the number of deaths in the Gulag.[1] This policy can partially be attributed to the common practice of releasing prisoners who were suffering from incurable diseases as well as prisoners who were near death.[15][16]Almost immediately after the death of Stalin, the Soviet establishment started to dismantle the Gulag system. A mass general amnesty was granted in the immediate aftermath of Stalin's death, but it was only offered to non-political prisoners and political prisoners who had been sentenced to a maximum of five years in prison. Shortly thereafter, Nikita Khrushchev was elected First Secretary, initiating the processes of de-Stalinization and the Khrushchev Thaw, triggering a mass release and rehabilitation of political prisoners. Six years later, on 25 January 1960, the Gulag system was officially abolished when the remains of its administration were dissolved by Khrushchev. The legal practice of sentencing convicts to penal labor was not fully abolished even though it was restrained and it continues to exist in the Russian Federation, but its capacity is greatly reduced.[17][18]Aleksandr Solzhenitsyn, winner of the Nobel Prize in Literature, who survived eight years of Gulag incarceration, gave the term its international repute with the publication of The Gulag Archipelago in 1973. The author likened the scattered camps to a chain of islands, and as an eyewitness, he described the Gulag as a system where people were worked to death.[19] In March 1940, there were 53 Gulag camp directorates (simply referred to as camps) and 423 labor colonies in the Soviet Union.[4] Many mining and industrial towns and cities in northern Russia, eastern Russia and Kazakhstan such as Karaganda, Norilsk, Vorkuta and Magadan, were blocks of camps which were originally built by prisoners and subsequently run by ex-prisoners.[20]Name\" \n",
    "\n",
    "frequency = Counter(article)\n",
    "frequency_sorted = sorted(frequency, key=frequency.get, reverse=True)\n",
    "letters = []\n",
    "dictt = []\n",
    "\n",
    "for char in frequency_sorted:\n",
    "    if char.isalpha():\n",
    "        letters.append(char)\n",
    "        dictt.append(frequency[char])\n",
    "        print(char, frequency[char])"
   ]
  },
  {
   "cell_type": "code",
   "execution_count": 23,
   "metadata": {},
   "outputs": [
    {
     "data": {
      "text/plain": [
       "<BarContainer object of 46 artists>"
      ]
     },
     "execution_count": 23,
     "metadata": {},
     "output_type": "execute_result"
    },
    {
     "data": {
      "image/png": "[encoded data removed]",
      "text/plain": [
       "<Figure size 640x480 with 1 Axes>"
      ]
     },
     "metadata": {},
     "output_type": "display_data"
    }
   ],
   "source": [
    "import matplotlib.pyplot as plt\n",
    "\n",
    "fig, ax = plt.subplots()\n",
    "ax.bar(letters,dictt)"
   ]
  },
  {
   "cell_type": "markdown",
   "metadata": {},
   "source": [
    "breaking vigenere\n",
    "- Detect repetitions\n",
    "- Detect the length of shift list\n",
    "- Guess the shift amounts based on English letter statistics etc."
   ]
  },
  {
   "cell_type": "code",
   "execution_count": null,
   "metadata": {},
   "outputs": [],
   "source": []
  }
 ],
 "metadata": {
  "kernelspec": {
   "display_name": "Python 3",
   "language": "python",
   "name": "python3"
  },
  "language_info": {
   "codemirror_mode": {
    "name": "ipython",
    "version": 3
   },
   "file_extension": ".py",
   "mimetype": "text/x-python",
   "name": "python",
   "nbconvert_exporter": "python",
   "pygments_lexer": "ipython3",
   "version": "3.10.10"
  },
  "vscode": {
   "interpreter": {
    "hash": "767d51c1340bd893661ea55ea3124f6de3c7a262a8b4abca0554b478b1e2ff90"
   }
  }
 },
 "nbformat": 4,
 "nbformat_minor": 2
}

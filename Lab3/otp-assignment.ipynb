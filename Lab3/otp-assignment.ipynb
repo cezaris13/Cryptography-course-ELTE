{
 "cells": [
  {
   "attachments": {},
   "cell_type": "markdown",
   "metadata": {},
   "source": [
    "OTP algorithm\n",
    "Write a python code in cocalc that combine the one time pad (OTP) with Caesar encryption.\n",
    "\n",
    "one time pad (OTP) in Caesar means that each key is used once with one letter, compared to the original Caesar that a single key is used for the whole message\n",
    "\n",
    " \n",
    "\n",
    "In the course project (YOUR NAME - 2023-02-crypto-security-g3)in cocalc, you will find (02-otp-assignment) directory\n",
    " \n",
    "\n",
    "Your program uses the Caesar cipher for encryption and decryption.\n",
    "During encryption in the encryption function, your will create a random list of keys, with the same size of the message.\n",
    "The message will be encrypted using Caesar cipher. However, unlike the original Caesar cipher, your program will use a separate key from the list of keys for each letter in the message. This is why the length of your generated key is exactly as the size of the message.\n",
    "During decryption, the same generated key list will be used to decrypt the ciphertext.\n",
    "Finally, you test your created program by doing encryption and decryption."
   ]
  },
  {
   "attachments": {},
   "cell_type": "markdown",
   "metadata": {},
   "source": [
    "Several functions from the caesar cypher program that were used in the previous assignment."
   ]
  },
  {
   "cell_type": "code",
   "execution_count": 8,
   "metadata": {},
   "outputs": [],
   "source": [
    "alphabeth = 'abcdefghijklmnopqrstuvwxyz, '"
   ]
  },
  {
   "cell_type": "code",
   "execution_count": 9,
   "metadata": {},
   "outputs": [],
   "source": [
    "def moveLetter(letter,key):\n",
    "    # find the index of the given letter in the alphabeth defined above\n",
    "    letterIndex = alphabeth.find(letter)\n",
    "    # find the index of the new letter by adding the key to the index. The new index can go out of range of the alphabeth(e.g. 27, -10)\n",
    "    # so we use the modulo operator to get the proper index.\n",
    "    newLetterIndex = (letterIndex+key) % len(alphabeth) \n",
    "    return alphabeth[newLetterIndex]"
   ]
  },
  {
   "attachments": {},
   "cell_type": "markdown",
   "metadata": {},
   "source": [
    "Let's create a function that generates a random key list of the same size as the message to use in OTP encryption:"
   ]
  },
  {
   "cell_type": "code",
   "execution_count": 10,
   "metadata": {},
   "outputs": [],
   "source": [
    "import random\n",
    "def generateKeyList(length):\n",
    "    keyList = []\n",
    "    for _ in range(length):\n",
    "        keyList.append(random.randint(0,len(alphabeth)-1))\n",
    "    return keyList"
   ]
  },
  {
   "attachments": {},
   "cell_type": "markdown",
   "metadata": {},
   "source": [
    "We modify `encryptMessage` function to include the list of keys, and apply one key per one letter in the message:"
   ]
  },
  {
   "cell_type": "code",
   "execution_count": 11,
   "metadata": {},
   "outputs": [],
   "source": [
    "def encryptMessage(message):\n",
    "    encryptedMessage = \"\"\n",
    "    keyList = generateKeyList(len(message))\n",
    "    for index,letter in enumerate(message):\n",
    "        encryptedMessage+=moveLetter(letter,keyList[index])\n",
    "    return encryptedMessage, keyList"
   ]
  },
  {
   "attachments": {},
   "cell_type": "markdown",
   "metadata": {},
   "source": [
    "Let's test this OTP encryption:"
   ]
  },
  {
   "cell_type": "code",
   "execution_count": 12,
   "metadata": {},
   "outputs": [
    {
     "name": "stdout",
     "output_type": "stream",
     "text": [
      "Message before the encryption: test message, the quick brown fox jumps over the lazy dog\n",
      "The encryptedMessage: h xcfwi,dq khwtkaiejeamyqj,gctxlmt,xrp bxyvekybkzcs,npbvb\n",
      "keylist: [16, 23, 5, 11, 6, 10, 4, 8, 13, 16, 21, 6, 9, 23, 0, 3, 24, 9, 16, 17, 24, 26, 2, 25, 15, 20, 12, 12, 17, 20, 18, 25, 17, 20, 17, 3, 5, 0, 9, 2, 9, 3, 17, 15, 11, 5, 22, 6, 26, 19, 18, 1, 17, 16, 26, 7, 23]\n"
     ]
    }
   ],
   "source": [
    "usePrefefinedData = input(\"Do you want to use predefined data? (y/n)\\n\")\n",
    "if usePrefefinedData == \"y\":\n",
    "    message = \"test message, the quick brown fox jumps over the lazy dog\"\n",
    "else:\n",
    "    message = input('What is the message you want to encrypt?\\n')\n",
    "\n",
    "encryptedMessage, keyList = encryptMessage(message)\n",
    "print(f\"Message before the encryption: {message}\\nThe encryptedMessage: {encryptedMessage}\")\n",
    "print (f\"keylist: {keyList}\")"
   ]
  },
  {
   "attachments": {},
   "cell_type": "markdown",
   "metadata": {},
   "source": [
    "The decryption function is similar to the encryption function, we use list of keys to shift every letter in the ciphertext to the left by the corresponding key:"
   ]
  },
  {
   "cell_type": "code",
   "execution_count": 13,
   "metadata": {},
   "outputs": [],
   "source": [
    "def decryptMessage(encryptedMessage, keyList):\n",
    "    decryptedMessage = \"\"\n",
    "    for index,letter in enumerate(encryptedMessage):\n",
    "        decryptedMessage+=moveLetter(letter,-keyList[index])\n",
    "    return decryptedMessage"
   ]
  },
  {
   "cell_type": "code",
   "execution_count": 14,
   "metadata": {},
   "outputs": [
    {
     "name": "stdout",
     "output_type": "stream",
     "text": [
      "Decrypted message: \n",
      "test message, the quick brown fox jumps over the lazy dog\n"
     ]
    }
   ],
   "source": [
    "print(\"Decrypted message: \")\n",
    "print (decryptMessage(encryptedMessage, keyList))"
   ]
  }
 ],
 "metadata": {
  "kernelspec": {
   "display_name": "Python 3",
   "language": "python",
   "name": "python3"
  },
  "language_info": {
   "codemirror_mode": {
    "name": "ipython",
    "version": 3
   },
   "file_extension": ".py",
   "mimetype": "text/x-python",
   "name": "python",
   "nbconvert_exporter": "python",
   "pygments_lexer": "ipython3",
   "version": "3.10.10"
  },
  "orig_nbformat": 4,
  "vscode": {
   "interpreter": {
    "hash": "767d51c1340bd893661ea55ea3124f6de3c7a262a8b4abca0554b478b1e2ff90"
   }
  }
 },
 "nbformat": 4,
 "nbformat_minor": 2
}

{
 "cells": [
  {
   "cell_type": "markdown",
   "metadata": {
    "collapsed": false
   },
   "source": [
    "#### Please use this file to write and execute your solution.\n",
    "\n"
   ]
  },
  {
   "attachments": {},
   "cell_type": "markdown",
   "metadata": {},
   "source": [
    "Write a python code in cocalc that breaks the following using brute force attack:\n",
    "\n",
    "Assume you got a ciphertext (in hexa) that  is  b'1525053514291239',  as a result of XOR encryption.\n",
    "Additionally, assume that the unknown plaintext is an 8-letter word and among the most common words in English\n",
    "You know that a very weak key is used that consists of a repeated character followed by @ sign. For example, if the word is an 8 letter word, then the key will be: ?@?@?@?@\n",
    "Your task is to brute force this ciphertext based on the above information.\n",
    "Output any successful decrypted plaintext, if you have found it among the most common words in English."
   ]
  },
  {
   "cell_type": "code",
   "execution_count": 15,
   "metadata": {
    "collapsed": false
   },
   "outputs": [],
   "source": [
    "# Auxiliary func:\n",
    "from binascii import hexlify, unhexlify"
   ]
  },
  {
   "cell_type": "code",
   "execution_count": 16,
   "metadata": {
    "collapsed": false
   },
   "outputs": [],
   "source": [
    "def xor(string1, string2):\n",
    "    return \"\".join([chr(ord(c1) ^ ord(c2)) for (c1,c2) in zip(string1,string2)])"
   ]
  },
  {
   "cell_type": "code",
   "execution_count": 17,
   "metadata": {
    "collapsed": false
   },
   "outputs": [],
   "source": [
    "cipher_hex = b'1525053514291239'"
   ]
  },
  {
   "attachments": {},
   "cell_type": "markdown",
   "metadata": {},
   "source": [
    "Let's create generic generate key function that takes a key length and a character to repeat. This function will return a 'char' + '?' repeated until the key length is reached. For example, if the key length is 8 and the character is 'a', then the key will be 'a?a?a?a?'. "
   ]
  },
  {
   "cell_type": "code",
   "execution_count": 18,
   "metadata": {},
   "outputs": [],
   "source": [
    "def generateKey(length,code):\n",
    "    letter = [x for x in (chr(code) * length)] # generate key of length 'length' with character 'code' and split it into a list\n",
    "    return \"@\".join(letter)[:length] # join the list with '@' and return the first 'length' characters"
   ]
  },
  {
   "attachments": {},
   "cell_type": "markdown",
   "metadata": {},
   "source": [
    "We create function to load the most common words in English from the file 'common_words.txt' and return the list of them."
   ]
  },
  {
   "cell_type": "code",
   "execution_count": 19,
   "metadata": {},
   "outputs": [],
   "source": [
    "def loadDictionary():\n",
    "    with open('common_words.txt') as f:\n",
    "        return f.read().splitlines()"
   ]
  },
  {
   "attachments": {},
   "cell_type": "markdown",
   "metadata": {},
   "source": [
    "The 'brute_crack' function takes cipher_text. It will iterate through the 256 ASCII letters generateing weak key for them(\"?@?@...\"). \n",
    "\n",
    "Then it will use XOR with the key and unhexlified cipher_hex and check if the result is in the list of common words.\n",
    "\n",
    " If it is, then it will return the key and the message."
   ]
  },
  {
   "cell_type": "code",
   "execution_count": 20,
   "metadata": {
    "collapsed": false
   },
   "outputs": [],
   "source": [
    "def brute_crack(cipher_hex):\n",
    "    dictionary = loadDictionary()\n",
    "    c = unhexlify(cipher_hex).decode()\n",
    "    for i in range(256):\n",
    "        k = generateKey(len(c),i)\n",
    "        m = xor(c, k)\n",
    "        if m in dictionary:\n",
    "            return (k, m)\n"
   ]
  },
  {
   "cell_type": "code",
   "execution_count": 21,
   "metadata": {},
   "outputs": [
    {
     "name": "stdout",
     "output_type": "stream",
     "text": [
      "key: f@f@f@f@\n",
      "message: security\n"
     ]
    }
   ],
   "source": [
    "(key, message) = brute_crack(cipher_hex)\n",
    "print(f\"key: {key}\")\n",
    "print(f\"message: {message}\")"
   ]
  }
 ],
 "metadata": {
  "kernelspec": {
   "display_name": "Python 3",
   "language": "python",
   "name": "python3"
  },
  "language_info": {
   "codemirror_mode": {
    "name": "ipython",
    "version": 3
   },
   "file_extension": ".py",
   "mimetype": "text/x-python",
   "name": "python",
   "nbconvert_exporter": "python",
   "pygments_lexer": "ipython3",
   "version": "3.10.10"
  },
  "vscode": {
   "interpreter": {
    "hash": "767d51c1340bd893661ea55ea3124f6de3c7a262a8b4abca0554b478b1e2ff90"
   }
  }
 },
 "nbformat": 4,
 "nbformat_minor": 4
}

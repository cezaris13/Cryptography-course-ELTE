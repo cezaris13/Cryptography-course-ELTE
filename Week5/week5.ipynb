{
 "cells": [
  {
   "attachments": {},
   "cell_type": "markdown",
   "metadata": {},
   "source": [
    "- True random number generator (TRNG)\n",
    "- Psaudo random number generator ( PRNG)\n",
    "- Cryptographically secure RNG\n",
    "\n",
    "\n",
    "Linear congruential Generators\n",
    "\n",
    "LCG generators are defined by the following recursive formula:\n",
    "$X_{n+1} \\equiv (aX_n + c)(\\mod m \\ )$"
   ]
  },
  {
   "cell_type": "code",
   "execution_count": 8,
   "metadata": {},
   "outputs": [],
   "source": [
    "def prng_lcg(seed, repeat):\n",
    "    multiplier = 317069504227672257\n",
    "    increment = 1035085024576065627\n",
    "    modulus = 8512677386048191063\n",
    "    state = seed\n",
    "    file = open(\"LCG.log\",\"w\")\n",
    "\n",
    "    for _ in range(repeat):\n",
    "        state = (state * multiplier+increment) % modulus\n",
    "        file.write(str(state).zfill(19)+\"\\n\")\n"
   ]
  },
  {
   "cell_type": "code",
   "execution_count": 9,
   "metadata": {},
   "outputs": [],
   "source": [
    "prng_lcg(300,300)"
   ]
  },
  {
   "cell_type": "code",
   "execution_count": 10,
   "metadata": {},
   "outputs": [],
   "source": [
    "def crack_unknown_increment(states, modulus, multiplied):\n",
    "    increment = (states[1]-states[0]*multiplied) % modulus\n",
    "    return increment"
   ]
  },
  {
   "cell_type": "code",
   "execution_count": 11,
   "metadata": {},
   "outputs": [
    {
     "name": "stdout",
     "output_type": "stream",
     "text": [
      "1035085024576065627\n"
     ]
    }
   ],
   "source": [
    "modulus = 8512677386048191063\n",
    "multiplier = 317069504227672257\n",
    "rn = [2516485046347641034,3943397398978453515,3716992240265774011]\n",
    "recovered_increment = crack_unknown_increment(rn, modulus,multiplier)\n",
    "print(recovered_increment)"
   ]
  },
  {
   "cell_type": "code",
   "execution_count": 12,
   "metadata": {},
   "outputs": [],
   "source": [
    "def egcd(a,b):\n",
    "    if a ==0 :\n",
    "        return (b,0,1)\n",
    "    else:\n",
    "        g,y,x = egcd(b%a,a)\n",
    "        return (g,x-(b//a)*y,y)\n",
    "    \n",
    "def modinv(b,n):\n",
    "    g,x,_ = egcd(b,n)\n",
    "    if g == 1:\n",
    "        return x%n"
   ]
  },
  {
   "cell_type": "code",
   "execution_count": 13,
   "metadata": {},
   "outputs": [],
   "source": [
    "def crack_unknown_multiplier(states, modulus):\n",
    "    multiplier = (states[2]-states[1]) * modinv(states[1]-states[0],modulus) % modulus\n",
    "    increment = crack_unknown_increment(states, modulus, multiplier)\n",
    "    return increment, multiplier"
   ]
  },
  {
   "cell_type": "code",
   "execution_count": 14,
   "metadata": {},
   "outputs": [
    {
     "name": "stdout",
     "output_type": "stream",
     "text": [
      "(1035085024576065627, 317069504227672257)\n"
     ]
    }
   ],
   "source": [
    "print(crack_unknown_multiplier(rn, modulus))"
   ]
  },
  {
   "cell_type": "code",
   "execution_count": null,
   "metadata": {},
   "outputs": [],
   "source": [
    "def crack_unknown_modulus(states):\n",
    "    diffs = [s1,s0] = [states[i+1]-states[i] for i in range(len(states)-1)] ## todo"
   ]
  },
  {
   "attachments": {},
   "cell_type": "markdown",
   "metadata": {},
   "source": [
    "MErsenere Twister\n",
    "- The mersenere twister is a pseudorandom number generator\n",
    "- It has very long period $2^199$ "
   ]
  }
 ],
 "metadata": {
  "kernelspec": {
   "display_name": "Python 3",
   "language": "python",
   "name": "python3"
  },
  "language_info": {
   "codemirror_mode": {
    "name": "ipython",
    "version": 3
   },
   "file_extension": ".py",
   "mimetype": "text/x-python",
   "name": "python",
   "nbconvert_exporter": "python",
   "pygments_lexer": "ipython3",
   "version": "3.10.10"
  },
  "orig_nbformat": 4,
  "vscode": {
   "interpreter": {
    "hash": "767d51c1340bd893661ea55ea3124f6de3c7a262a8b4abca0554b478b1e2ff90"
   }
  }
 },
 "nbformat": 4,
 "nbformat_minor": 2
}

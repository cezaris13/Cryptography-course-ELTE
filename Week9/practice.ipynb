{
 "cells": [
  {
   "cell_type": "code",
   "execution_count": 20,
   "metadata": {},
   "outputs": [],
   "source": [
    "from sympy import randprime\n",
    "from math import gcd\n",
    "\n",
    "def egcd(a,b):\n",
    "    if a == 0:\n",
    "        return (b, 0, 1)\n",
    "    else:\n",
    "        g, x, y = egcd(b % a, a)\n",
    "        return (g, y - (b // a) * x, x)\n",
    "\n",
    "def modinv(b, m):\n",
    "    g, x, _ = egcd(b, m)\n",
    "    if g == 1:\n",
    "        return x % m"
   ]
  },
  {
   "cell_type": "code",
   "execution_count": 21,
   "metadata": {},
   "outputs": [],
   "source": [
    "def generatePrimes(key_size):\n",
    "    prime_1 = 0\n",
    "    prime_2 = 0\n",
    "    while prime_1 == prime_2 or(prime_1 *prime_2) > 2**key_size:\n",
    "        prime_1 = randprime(3, 2**key_size/2)\n",
    "        prime_2 = randprime(3, 2**key_size/2)\n",
    "    return prime_1, prime_2"
   ]
  },
  {
   "cell_type": "code",
   "execution_count": 22,
   "metadata": {},
   "outputs": [],
   "source": [
    "def generate_public_Exponents(totient):\n",
    "    public_exponent = 0\n",
    "    for e in range(3,totient-1):\n",
    "        if gcd(e,totient) == 1:\n",
    "            public_exponent = e\n",
    "            break\n",
    "    return public_exponent"
   ]
  },
  {
   "cell_type": "code",
   "execution_count": 23,
   "metadata": {},
   "outputs": [],
   "source": [
    "def generateTotient(prime_1, prime_2):\n",
    "    return (prime_1 - 1) * (prime_2 - 1)"
   ]
  },
  {
   "cell_type": "code",
   "execution_count": 24,
   "metadata": {},
   "outputs": [],
   "source": [
    "key_size = 10\n",
    "prime_1,prime_2 = generatePrimes(key_size)\n",
    "totient = generateTotient(prime_1, prime_2)\n",
    "public_exponent = generate_public_Exponents(totient)\n",
    "private_exponent = modinv(public_exponent, totient)"
   ]
  },
  {
   "cell_type": "code",
   "execution_count": 25,
   "metadata": {},
   "outputs": [],
   "source": [
    "def rsa_encrypt(plain_text,rsa_modulus, public_exponent):\n",
    "    cipher = ''.join(chr((ord(ch)**public_exponent)%rsa_modulus) for ch in plain_text)\n",
    "    return cipher.encode().hex()"
   ]
  },
  {
   "cell_type": "code",
   "execution_count": 26,
   "metadata": {},
   "outputs": [],
   "source": [
    "def rsa_decrypt(cipher_text, rsa_modulus, private_exponent):\n",
    "    return ''.join(chr((ord(ch)**private_exponent)%rsa_modulus)\n",
    "                   for ch in bytearray.fromhex(cipher_text).decode())"
   ]
  }
 ],
 "metadata": {
  "kernelspec": {
   "display_name": "Python 3",
   "language": "python",
   "name": "python3"
  },
  "language_info": {
   "codemirror_mode": {
    "name": "ipython",
    "version": 3
   },
   "file_extension": ".py",
   "mimetype": "text/x-python",
   "name": "python",
   "nbconvert_exporter": "python",
   "pygments_lexer": "ipython3",
   "version": "3.10.10"
  },
  "orig_nbformat": 4,
  "vscode": {
   "interpreter": {
    "hash": "767d51c1340bd893661ea55ea3124f6de3c7a262a8b4abca0554b478b1e2ff90"
   }
  }
 },
 "nbformat": 4,
 "nbformat_minor": 2
}

{
 "cells": [
  {
   "cell_type": "code",
   "execution_count": 37,
   "metadata": {},
   "outputs": [],
   "source": [
    "alphabeth = 'abcdefghijklmnopqrstuvwxyz, '\n",
    "# the alphabet can be changed to more detailed one(for example with capital letters, numbers, special characters etc.)"
   ]
  },
  {
   "attachments": {},
   "cell_type": "markdown",
   "metadata": {},
   "source": [
    "One of the main steps in Ceasar cypher is to move each letter by a fixed number of places in the alphabeth using the key.\n",
    "\n",
    "This `moveLetter` function is used to move one letter by a fixed number of places(key) in the alphabeth.\n",
    "\n",
    "Key can be negative, meaning that the letter will be moved to the left in the alphabeth instead of to the right.\n"
   ]
  },
  {
   "cell_type": "code",
   "execution_count": 38,
   "metadata": {},
   "outputs": [],
   "source": [
    "def moveLetter(letter,key):\n",
    "    # find the index of the given letter in the alphabeth defined above\n",
    "    letterIndex = alphabeth.find(letter)\n",
    "    # find the index of the new letter by adding the key to the index. The new index can go out of range of the alphabeth(e.g. 27, -10)\n",
    "    # so we use the modulo operator to get the proper index.\n",
    "    newLetterIndex = (letterIndex+key) % len(alphabeth) \n",
    "    return alphabeth[newLetterIndex]"
   ]
  },
  {
   "attachments": {},
   "cell_type": "markdown",
   "metadata": {},
   "source": [
    "The `encryptMessage` function takes message and the key, then using `for` loop it iterates over each letter in the message and calls `moveLetter` function to move the letter by the key.\n",
    "\n",
    "The results is stored in `encryptedMessage` variable.\n"
   ]
  },
  {
   "cell_type": "code",
   "execution_count": 39,
   "metadata": {},
   "outputs": [],
   "source": [
    "def encryptMessage(message, key):\n",
    "    encryptedMessage = \"\"\n",
    "    for letter in message:\n",
    "        encryptedMessage+=moveLetter(letter,key)\n",
    "    return encryptedMessage"
   ]
  },
  {
   "attachments": {},
   "cell_type": "markdown",
   "metadata": {},
   "source": [
    "And out Ceasar cypher is ready to use!\n",
    "\n",
    "Let's get the ecrypted message and a key as an input from the user and print the encrypted message."
   ]
  },
  {
   "cell_type": "code",
   "execution_count": 40,
   "metadata": {},
   "outputs": [
    {
     "name": "stdout",
     "output_type": "stream",
     "text": [
      "Message before the encryption: test message, the quick brown fox jumps over the lazy dog\n",
      "The encryptedMessage: erdemzrddntrlmeurmbfvpxmoc h,ms imwfzadm grcmeurmynkjmq t\n"
     ]
    }
   ],
   "source": [
    "usePrefefinedData = input(\"Do you want to use predefined data? (y/n)\\n\")\n",
    "if usePrefefinedData == \"y\":\n",
    "    message = \"test message, the quick brown fox jumps over the lazy dog\"\n",
    "    key = 13\n",
    "else:\n",
    "    message = input('What is the message you want to encrypt?\\n')\n",
    "    key = input(\"Enter your key to encrypt with\\n\")\n",
    "\n",
    "encryptedMessage = encryptMessage(message, int(key))\n",
    "print(f\"Message before the encryption: {message}\\nThe encryptedMessage: {encryptedMessage}\")"
   ]
  },
  {
   "attachments": {},
   "cell_type": "markdown",
   "metadata": {},
   "source": [
    "The decryption is done by using the same `moveLetter` function, but using a negative key, moving letters to the left by the key value and retrieving the original message."
   ]
  },
  {
   "cell_type": "code",
   "execution_count": 41,
   "metadata": {},
   "outputs": [],
   "source": [
    "def decryptMessage(encryptedMessage, key):\n",
    "    decryptedMessage = \"\"\n",
    "    for letter in encryptedMessage:\n",
    "        decryptedMessage+=moveLetter(letter,-key)\n",
    "    return decryptedMessage"
   ]
  },
  {
   "attachments": {},
   "cell_type": "markdown",
   "metadata": {},
   "source": [
    "Now let's write bruteforce decryption function. We take the encrypted message as the input and test all possible keys from 1 to the length of the alphabeth-1($keys = [1.. (|alphabeth|-1)$). \n",
    "\n",
    "We use the keys for `decryptMessage` function and print the results.\n",
    "\n",
    "One of printed results will be the original message."
   ]
  },
  {
   "cell_type": "code",
   "execution_count": 42,
   "metadata": {},
   "outputs": [],
   "source": [
    "def bruteForceCeasarCypher(message):\n",
    "    for key in range(1,len(alphabeth)):\n",
    "        print(decryptMessage(message,key))"
   ]
  },
  {
   "cell_type": "code",
   "execution_count": 45,
   "metadata": {},
   "outputs": [
    {
     "name": "stdout",
     "output_type": "stream",
     "text": [
      "Message before the encryption: test message, the quick brown fox jumps over the lazy dog\n",
      "The encryptedMessage: erdemzrddntrlmeurmbfvpxmoc h,ms imwfzadm grcmeurmynkjmq t\n",
      "let's brute force it\n",
      "All possible messages are:\n",
      "\n",
      "dqcdlyqccmsqkldtqlaeuowlnb,gzlr,hlvey cl,fqbldtqlxmjilp,s\n",
      "cpbckxpbblrpjkcspk dtnvkmazfykqzgkudx,bkzepakcspkwlihkozr\n",
      "boabjwoaakqoijbroj,csmujl yexjpyfjtcwzajydo jbrojvkhgjnyq\n",
      "an aivn  jpnhiaqnizbrltik,xdwioxeisbvy ixcn,iaqniujgfimxp\n",
      " m, hum,,iomgh pmhyaqkshjzwcvhnwdhraux,hwbmzh pmhtifehlwo\n",
      ",lz,gtlzzhnlfg,olgx pjrgiyvbugmvcgq twzgvalyg,olgshedgkvn\n",
      "zkyzfskyygmkefznkfw,oiqfhxuatflubfp,svyfu kxfznkfrgdcfjum\n",
      "yjxyerjxxfljdeymjevznhpegwt sektaeozruxet,jweymjeqfcbeitl\n",
      "xiwxdqiwwekicdxliduymgodfvs,rdjs dnyqtwdszivdxlidpebadhsk\n",
      "whvwcphvvdjhbcwkhctxlfnceurzqcir,cmxpsvcryhucwkhcoda cgrj\n",
      "vguvboguucigabvjgbswkembdtqypbhqzblworubqxgtbvjgbnc ,bfqi\n",
      "uftuanfttbhf auifarvjdlacspxoagpyakvnqtapwfsauifamb,zaeph\n",
      "test message, the quick brown fox jumps over the lazy dog\n",
      "sdrs,ldrr fdz,sgd,pthbj,aqnvm,enw,itlor,nudq,sgd,k yx,cnf\n",
      "rcqrzkcqq,ecyzrfczosgaiz pmulzdmvzhsknqzmtcpzrfczj,xwzbme\n",
      "qbpqyjbppzdbxyqebynrf hy,oltkycluygrjmpylsboyqebyizwvyald\n",
      "paopxiaooycawxpdaxmqe,gxznksjxbktxfqiloxkranxpdaxhyvux kc\n",
      "o nowh nnxb vwoc wlpdzfwymjriwajswephknwjq mwoc wgxutw,jb\n",
      "n,mnvg,mmwa,uvnb,vkocyevxliqhv irvdogjmvip,lvnb,vfwtsvzia\n",
      "mzlmufzllv ztumazujnbxduwkhpgu,hqucnfiluhozkumazuevsruyh \n",
      "lyklteykku,ystl ytimawctvjgoftzgptbmehktgnyjtl ytdurqtxg,\n",
      "kxjksdxjjtzxrsk,xshl vbsuifnesyfosaldgjsfmxisk,xsctqpswfz\n",
      "jwijrcwiisywqrjzwrgk,uarthemdrxenr kcfirelwhrjzwrbsporvey\n",
      "ivhiqbvhhrxvpqiyvqfjzt qsgdlcqwdmq,jbehqdkvgqiyvqaronqudx\n",
      "hughpauggqwuophxupeiys,prfckbpvclpziadgpcjufphxup qnmptcw\n",
      "gtfgo tffpvtnogwtodhxrzoqebjaoubkoyh cfobiteogwto,pmlosbv\n",
      "fsefn,seeousmnfvsncgwqynpdai ntajnxg,benahsdnfvsnzolknrau\n"
     ]
    }
   ],
   "source": [
    "import random\n",
    "\n",
    "useOldMessage = input(\"Do you want to use the old message? (y/n)\\n\")\n",
    "if useOldMessage == \"n\":\n",
    "    message = input('What is the message you want to encrypt?\\n')\n",
    "    key = random(1,len(alphabeth))\n",
    "    encryptedMessage = encryptMessage(message, key)\n",
    "    \n",
    "print(f\"Message before the encryption: {message}\\nThe encryptedMessage: {encryptedMessage}\")\n",
    "print(\"Let's brute force it\\nAll possible messages are:\\n\")\n",
    "bruteForceCeasarCypher(encryptedMessage)"
   ]
  }
 ],
 "metadata": {
  "kernelspec": {
   "display_name": "Python 3",
   "language": "python",
   "name": "python3"
  },
  "language_info": {
   "codemirror_mode": {
    "name": "ipython",
    "version": 3
   },
   "file_extension": ".py",
   "mimetype": "text/x-python",
   "name": "python",
   "nbconvert_exporter": "python",
   "pygments_lexer": "ipython3",
   "version": "3.10.10"
  },
  "orig_nbformat": 4,
  "vscode": {
   "interpreter": {
    "hash": "767d51c1340bd893661ea55ea3124f6de3c7a262a8b4abca0554b478b1e2ff90"
   }
  }
 },
 "nbformat": 4,
 "nbformat_minor": 2
}

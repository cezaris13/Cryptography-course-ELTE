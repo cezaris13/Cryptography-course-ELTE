{
 "cells": [
  {
   "attachments": {},
   "cell_type": "markdown",
   "metadata": {},
   "source": [
    "Stream ciphers \n",
    "In otp, a key is a random string of length at least the same as the message\n",
    "Stream ciphers:\n",
    "- use a pseudo random number generator\n",
    "- G:[{0,1}^k] -> {0,1}^n\n",
    "- expand a short key to a long key that looks random\n",
    "- Secret key is the seed of the PRNG"
   ]
  },
  {
   "cell_type": "code",
   "execution_count": 75,
   "metadata": {},
   "outputs": [],
   "source": [
    "def shift_and_print(iv):\n",
    "    while iv:\n",
    "        ot = 1 & iv\n",
    "        iv >>= 1\n",
    "        print(ot)\n",
    "        # print(bin(iv))\n",
    "        # print(iv)"
   ]
  },
  {
   "cell_type": "code",
   "execution_count": 76,
   "metadata": {},
   "outputs": [],
   "source": [
    "def shift_and_yield(iv):\n",
    "    while iv:\n",
    "        ot = 1 & iv\n",
    "        iv >>= 1\n",
    "        yield ot"
   ]
  },
  {
   "cell_type": "code",
   "execution_count": 77,
   "metadata": {},
   "outputs": [
    {
     "name": "stdout",
     "output_type": "stream",
     "text": [
      "1\n",
      "1\n",
      "0\n",
      "0\n",
      "0\n",
      "1\n",
      "1\n",
      "1001011\n"
     ]
    }
   ],
   "source": [
    "shift_and_print(int(hex(0x63),16))\n",
    "\n",
    "print(''.join(str(output) for output in shift_and_yield(int('1101001',2))))"
   ]
  },
  {
   "cell_type": "code",
   "execution_count": 78,
   "metadata": {},
   "outputs": [],
   "source": [
    "def LFRS_generate(seed, mask, n):# analyze later\n",
    "    seed_int = int(seed, 2)\n",
    "    mask_int = int(mask, 2)\n",
    "    nbits = len(seed)\n",
    "\n",
    "    state = seed_int\n",
    "    while n > 0:\n",
    "        output = 1 & state\n",
    "        _mask,_state,new_bit = mask_int, state, 0\n",
    "        while _mask:\n",
    "            new_bit ^= (1&_mask) * (1&_state)\n",
    "            _mask >>= 1\n",
    "            _state >>= 1\n",
    "        state = state >> 1 | (new_bit << (nbits-1))\n",
    "\n",
    "        yield output, state\n",
    "        n-=1"
   ]
  },
  {
   "cell_type": "code",
   "execution_count": 79,
   "metadata": {},
   "outputs": [
    {
     "name": "stdout",
     "output_type": "stream",
     "text": [
      "<generator object LFRS_generate at 0x7f7494d63450>\n",
      "10001010001010001010\n",
      "8a28a\n"
     ]
    }
   ],
   "source": [
    "seed = '0001'\n",
    "mask = '0101'\n",
    "samples = 20\n",
    "\n",
    "key = LFRS_generate(seed, mask, samples)\n",
    "key_str = ''.join(str(output) for output, state in key)\n",
    "key_hex = hex(int(key_str, 2))[2:]\n",
    "print (key)\n",
    "print (key_str)\n",
    "print (key_hex)\n"
   ]
  },
  {
   "attachments": {},
   "cell_type": "markdown",
   "metadata": {},
   "source": [
    "LFRS cracking\n",
    "- LFSR can be described as:\n",
    "$$\\sum_{j=0}^{m-1} c_jm_{i+j}\\mod 2$$\n",
    "\n"
   ]
  },
  {
   "cell_type": "code",
   "execution_count": 80,
   "metadata": {},
   "outputs": [],
   "source": [
    "def xor(string1, string2):\n",
    "    return \"\".join([chr(ord(c1) ^ ord(c2)) for (c1,c2) in zip(string1,string2)])"
   ]
  },
  {
   "cell_type": "code",
   "execution_count": 1,
   "metadata": {},
   "outputs": [
    {
     "name": "stdout",
     "output_type": "stream",
     "text": [
      "Where*are*the*snows?\n"
     ]
    }
   ],
   "source": [
    "the_list = ['Where', 'are', 'the', 'snows?']\n",
    "\n",
    "s = '*'.join(the_list)\n",
    "\n",
    "print(s)"
   ]
  },
  {
   "cell_type": "code",
   "execution_count": 81,
   "metadata": {},
   "outputs": [
    {
     "name": "stdout",
     "output_type": "stream",
     "text": [
      "YU]\\^\u0010F_C\\U\n",
      "hello world\n"
     ]
    }
   ],
   "source": [
    "text = input('Enter text to encrypt: ')\n",
    "seed = input('Enter seed: ')\n",
    "mask = input('Enter mask: ')\n",
    "key = LFRS_generate(seed, mask, len(text))\n",
    "key_str = ''.join(str(output) for output, _ in key)\n",
    "encrypted_text = xor(text, key_str)\n",
    "print (encrypted_text)\n",
    "print (xor(key_str, encrypted_text))"
   ]
  }
 ],
 "metadata": {
  "kernelspec": {
   "display_name": "Python 3",
   "language": "python",
   "name": "python3"
  },
  "language_info": {
   "codemirror_mode": {
    "name": "ipython",
    "version": 3
   },
   "file_extension": ".py",
   "mimetype": "text/x-python",
   "name": "python",
   "nbconvert_exporter": "python",
   "pygments_lexer": "ipython3",
   "version": "3.10.10"
  },
  "orig_nbformat": 4,
  "vscode": {
   "interpreter": {
    "hash": "767d51c1340bd893661ea55ea3124f6de3c7a262a8b4abca0554b478b1e2ff90"
   }
  }
 },
 "nbformat": 4,
 "nbformat_minor": 2
}

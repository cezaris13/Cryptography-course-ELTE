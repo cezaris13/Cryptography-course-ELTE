{
 "cells": [
  {
   "cell_type": "code",
   "execution_count": 51,
   "metadata": {},
   "outputs": [
    {
     "name": "stdout",
     "output_type": "stream",
     "text": [
      "b'\\xf8H\\xcd\\x1e\\xe4\\x9e\\x85\\xe2\\xae\\xfc\\xfav\\xd0\\xd9\\xf6\\x89\\xa7x\\xcaFi\\x85U\\x85\\xc0`\\xd9J\\x17\\xfb\\xfa6'\n",
      "b'\\xf8H\\xcd\\x1e\\xe4\\x9e\\x85\\xe2\\xae\\xfc\\xfav\\xd0\\xd9\\xf6\\x89\\xa7x\\xcaFi\\x85U\\x85\\xc0`\\xd9J\\x17\\xfb\\xfa6'\n",
      "derived keys are equal\n"
     ]
    }
   ],
   "source": [
    "## diffie hellman\n",
    "from cryptography.hazmat.primitives.asymmetric import dh\n",
    "from cryptography.hazmat.primitives import hashes\n",
    "from cryptography.hazmat.primitives.kdf.hkdf import HKDF\n",
    "\n",
    "parameters = dh.generate_parameters(generator=2, key_size=512)\n",
    "\n",
    "alice_private_key = parameters.generate_private_key()\n",
    "bob_private_key = parameters.generate_private_key()\n",
    "bob_public_key = bob_private_key.public_key()\n",
    "alice_public_key = alice_private_key.public_key()\n",
    "\n",
    "alice_shared_key = alice_private_key.exchange(bob_public_key)\n",
    "\n",
    "alice_derived_key = HKDF(\n",
    "    algorithm=hashes.SHA256(),\n",
    "    length=32,\n",
    "    salt=None,\n",
    "    info=b'handshake data',\n",
    ").derive(alice_shared_key)\n",
    "\n",
    "print (alice_derived_key)\n",
    "\n",
    "## bob\n",
    "bob_shared_key = bob_private_key.exchange(alice_public_key)\n",
    "\n",
    "bob_derived_key = HKDF(\n",
    "    algorithm=hashes.SHA256(),\n",
    "    length=32,\n",
    "    salt=None,\n",
    "    info=b'handshake data',\n",
    ").derive(bob_shared_key)\n",
    "\n",
    "print (bob_derived_key)\n",
    "\n",
    "if alice_derived_key == bob_derived_key:\n",
    "    print (\"derived keys are equal\")\n",
    "else:\n",
    "    print (\"derived keys are not equal\")"
   ]
  },
  {
   "attachments": {},
   "cell_type": "markdown",
   "metadata": {},
   "source": [
    "For AES, the legal key sizes are 128, 192, and 256 bits.\n",
    "for des it was 64 - but 60 bits are used for the key and 4 bits are used for parity checking"
   ]
  },
  {
   "cell_type": "code",
   "execution_count": 52,
   "metadata": {},
   "outputs": [
    {
     "name": "stdout",
     "output_type": "stream",
     "text": [
      "12074373864345937335555390278227135792049648086979546743721107013156533671600665717789965385489806950774250050871442179111254648382710227874773638139942327\n",
      "2\n",
      "10675252100798032616449538982288848207288966437957380138446868355558161121324998610917538045385251324454028043219364780011278028035627516449041019943685368\n",
      "3534089549310988717925805642175389175191069973151865270302807865733263707357617963881165051262557959310220059339528132359643698893209418664810274439203600\n"
     ]
    }
   ],
   "source": [
    "parameters = dh.generate_parameters(generator=2, key_size=512)\n",
    "p = parameters.parameter_numbers().p\n",
    "g = parameters.parameter_numbers().g\n",
    "client_private_key = parameters.generate_private_key()\n",
    "client_y = client_private_key.public_key().public_numbers().y\n",
    "client_x = client_private_key.private_numbers().x\n",
    "print (p)\n",
    "print (g)\n",
    "print (client_y)\n",
    "print (client_x)\n",
    "# it stores p,g,client_y,client_x as the main parameters for later use\n",
    "# then it sends p,g,client_y parameters to the server\n",
    "\n"
   ]
  },
  {
   "cell_type": "code",
   "execution_count": 53,
   "metadata": {},
   "outputs": [],
   "source": [
    "dominykas_key = 4406081192861135331958262273451869593683017678524489026964821445397841449792156988203193189716958862372703950153564671359780188501688643780552798404389598"
   ]
  },
  {
   "cell_type": "code",
   "execution_count": 54,
   "metadata": {},
   "outputs": [
    {
     "name": "stdout",
     "output_type": "stream",
     "text": [
      "758788460832913428960894810704893700863996908274032007439156076907991735938479660538491802977511099440671090155168525554672658556722452851805484196402030\n",
      "3994508343628303126321690996323296594259505919982343617553557302643161107670456399419577492499911269823117651578141797059170412901193660677795666523860022\n"
     ]
    }
   ],
   "source": [
    "pn = dh.DHParameterNumbers(p, g)\n",
    "# client_public_number = dh.DHPublicNumbers(client_y, pn)\n",
    "client_public_number = dh.DHPublicNumbers(dominykas_key, pn)\n",
    "client_public_key = client_public_number.public_key()\n",
    "\n",
    "parameters = pn.parameters()\n",
    "server_private_key = parameters.generate_private_key()\n",
    "server_y = server_private_key.public_key().public_numbers().y\n",
    "server_x = server_private_key.private_numbers().x\n",
    "print (server_y)\n",
    "print (server_x)"
   ]
  },
  {
   "cell_type": "code",
   "execution_count": 55,
   "metadata": {},
   "outputs": [],
   "source": [
    "pn = dh.DHParameterNumbers(p, g)\n",
    "client_public_number = dh.DHPublicNumbers(client_y, pn)\n",
    "client_private_number = dh.DHPrivateNumbers(client_x, client_public_number)\n",
    "client_private_key = client_private_number.private_key()\n",
    "\n",
    "\n",
    "\n",
    "server_public_number = dh.DHPublicNumbers(server_y, pn)\n",
    "server_public_key = server_public_number.public_key()"
   ]
  },
  {
   "cell_type": "code",
   "execution_count": 56,
   "metadata": {},
   "outputs": [
    {
     "name": "stdout",
     "output_type": "stream",
     "text": [
      "b'fn\\xa1\\xf1|\\xec\\xaeY/`\\xe9\\x0b\\x9a\\xd6\\xab\\xc1\\xe0\\xa5g\\x92\\xe2\\xeb.%\\x1aXF*\\x9d\\x90\\x11n'\n",
      "b'X\\xf9\\x89\\xcdWY\\xc1\\x7fn\\xad\\x94o\\xe9\\xfb\\x08\\x7f\\xf8,\\xe8\\x1a\\xf9U\\xa7\\xd1\\x19%\\x96\\xc1\\x8f}\\x89\\x80'\n"
     ]
    }
   ],
   "source": [
    "client_shared_key = client_private_key.exchange(server_public_key)\n",
    "\n",
    "client_derived_key = HKDF(\n",
    "    algorithm=hashes.SHA256(),\n",
    "    length=32,\n",
    "    salt=None,\n",
    "    info=b'handshake data',\n",
    ").derive(client_shared_key)\n",
    "\n",
    "print (client_derived_key)\n",
    "\n",
    "## bob\n",
    "server_shared_key = server_private_key.exchange(client_public_key)\n",
    "\n",
    "server_derived_key = HKDF(\n",
    "    algorithm=hashes.SHA256(),\n",
    "    length=32,\n",
    "    salt=None,\n",
    "    info=b'handshake data',\n",
    ").derive(server_shared_key)\n",
    "\n",
    "print (server_derived_key)\n",
    "\n",
    "if client_derived_key == server_derived_key:# check this for the next time\n",
    "    print (\"derived keys are equal\")"
   ]
  }
 ],
 "metadata": {
  "kernelspec": {
   "display_name": "Python 3",
   "language": "python",
   "name": "python3"
  },
  "language_info": {
   "codemirror_mode": {
    "name": "ipython",
    "version": 3
   },
   "file_extension": ".py",
   "mimetype": "text/x-python",
   "name": "python",
   "nbconvert_exporter": "python",
   "pygments_lexer": "ipython3",
   "version": "3.10.10"
  },
  "orig_nbformat": 4
 },
 "nbformat": 4,
 "nbformat_minor": 2
}
